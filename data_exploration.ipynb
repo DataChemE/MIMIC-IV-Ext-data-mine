{
 "cells": [
  {
   "cell_type": "markdown",
   "metadata": {},
   "source": [
    "# MIMIC IV Exploration \n",
    "\n",
    "This project is an exploration of the MIMIC IV dataset. The MIMIC IV dataset is a large, freely available database comprising de-identified health-related data associated with over 180,000 distinct patient admissions to the hospital. First we will explore which services are available in the dataset and then we will explore the data of the patients who were admitted to the hospital."
   ]
  },
  {
   "cell_type": "code",
   "execution_count": 1,
   "metadata": {},
   "outputs": [],
   "source": [
    "import pandas as pd\n",
    "import numpy as np\n",
    "import matplotlib.pyplot as plt\n",
    "import seaborn as sns\n",
    "import scipy.stats as stats\n",
    "import statsmodels.api as sm\n",
    "from statsmodels.stats.multicomp import pairwise_tukeyhsd\n",
    "from tabulate import tabulate"
   ]
  },
  {
   "cell_type": "code",
   "execution_count": 2,
   "metadata": {},
   "outputs": [],
   "source": [
    "# read in the admissions the poe and the services data\n",
    "admissions = pd.read_csv(\"/Volumes/Extreme SSD/MIMIC-hosp/admissions.csv\")\n",
    "poe = pd.read_csv(\"/Volumes/Extreme SSD/MIMIC-hosp/poe.csv\")\n",
    "services = pd.read_csv(\"/Volumes/Extreme SSD/MIMIC-hosp/services.csv\")"
   ]
  },
  {
   "cell_type": "code",
   "execution_count": 3,
   "metadata": {},
   "outputs": [],
   "source": [
    "# read in the patients data\n",
    "patients = pd.read_csv(\"/Volumes/Extreme SSD/MIMIC-hosp/patients.csv\")"
   ]
  },
  {
   "cell_type": "code",
   "execution_count": 4,
   "metadata": {},
   "outputs": [
    {
     "data": {
      "text/html": [
       "<div>\n",
       "<style scoped>\n",
       "    .dataframe tbody tr th:only-of-type {\n",
       "        vertical-align: middle;\n",
       "    }\n",
       "\n",
       "    .dataframe tbody tr th {\n",
       "        vertical-align: top;\n",
       "    }\n",
       "\n",
       "    .dataframe thead th {\n",
       "        text-align: right;\n",
       "    }\n",
       "</style>\n",
       "<table border=\"1\" class=\"dataframe\">\n",
       "  <thead>\n",
       "    <tr style=\"text-align: right;\">\n",
       "      <th></th>\n",
       "      <th>subject_id</th>\n",
       "      <th>gender</th>\n",
       "      <th>anchor_age</th>\n",
       "      <th>anchor_year</th>\n",
       "      <th>anchor_year_group</th>\n",
       "      <th>dod</th>\n",
       "    </tr>\n",
       "  </thead>\n",
       "  <tbody>\n",
       "    <tr>\n",
       "      <th>0</th>\n",
       "      <td>10000032</td>\n",
       "      <td>F</td>\n",
       "      <td>52</td>\n",
       "      <td>2180</td>\n",
       "      <td>2014 - 2016</td>\n",
       "      <td>2180-09-09</td>\n",
       "    </tr>\n",
       "    <tr>\n",
       "      <th>1</th>\n",
       "      <td>10000048</td>\n",
       "      <td>F</td>\n",
       "      <td>23</td>\n",
       "      <td>2126</td>\n",
       "      <td>2008 - 2010</td>\n",
       "      <td>NaN</td>\n",
       "    </tr>\n",
       "    <tr>\n",
       "      <th>2</th>\n",
       "      <td>10000068</td>\n",
       "      <td>F</td>\n",
       "      <td>19</td>\n",
       "      <td>2160</td>\n",
       "      <td>2008 - 2010</td>\n",
       "      <td>NaN</td>\n",
       "    </tr>\n",
       "    <tr>\n",
       "      <th>3</th>\n",
       "      <td>10000084</td>\n",
       "      <td>M</td>\n",
       "      <td>72</td>\n",
       "      <td>2160</td>\n",
       "      <td>2017 - 2019</td>\n",
       "      <td>2161-02-13</td>\n",
       "    </tr>\n",
       "    <tr>\n",
       "      <th>4</th>\n",
       "      <td>10000102</td>\n",
       "      <td>F</td>\n",
       "      <td>27</td>\n",
       "      <td>2136</td>\n",
       "      <td>2008 - 2010</td>\n",
       "      <td>NaN</td>\n",
       "    </tr>\n",
       "  </tbody>\n",
       "</table>\n",
       "</div>"
      ],
      "text/plain": [
       "   subject_id gender  anchor_age  anchor_year anchor_year_group         dod\n",
       "0    10000032      F          52         2180       2014 - 2016  2180-09-09\n",
       "1    10000048      F          23         2126       2008 - 2010         NaN\n",
       "2    10000068      F          19         2160       2008 - 2010         NaN\n",
       "3    10000084      M          72         2160       2017 - 2019  2161-02-13\n",
       "4    10000102      F          27         2136       2008 - 2010         NaN"
      ]
     },
     "execution_count": 4,
     "metadata": {},
     "output_type": "execute_result"
    }
   ],
   "source": [
    "patients.head()"
   ]
  },
  {
   "cell_type": "code",
   "execution_count": 5,
   "metadata": {},
   "outputs": [
    {
     "data": {
      "text/plain": [
       "(180733,)"
      ]
     },
     "execution_count": 5,
     "metadata": {},
     "output_type": "execute_result"
    }
   ],
   "source": [
    "np.unique(admissions['subject_id']).shape"
   ]
  },
  {
   "cell_type": "markdown",
   "metadata": {},
   "source": [
    "# Inspect the most frequent services in the hospital"
   ]
  },
  {
   "cell_type": "code",
   "execution_count": 6,
   "metadata": {},
   "outputs": [
    {
     "data": {
      "text/plain": [
       "curr_service\n",
       "MED      225914\n",
       "CMED      42883\n",
       "SURG      40878\n",
       "OMED      26064\n",
       "ORTHO     21373\n",
       "NMED      21110\n",
       "OBS       19511\n",
       "NSURG     13081\n",
       "CSURG     10647\n",
       "VSURG     10188\n",
       "PSYCH      7699\n",
       "TRAUM      7232\n",
       "GYN        6371\n",
       "GU         5551\n",
       "TSURG      4537\n",
       "PSURG      3794\n",
       "ENT        1130\n",
       "EYE          39\n",
       "DENT         27\n",
       "Name: count, dtype: int64"
      ]
     },
     "execution_count": 6,
     "metadata": {},
     "output_type": "execute_result"
    }
   ],
   "source": [
    "services['curr_service'].value_counts()"
   ]
  },
  {
   "cell_type": "markdown",
   "metadata": {},
   "source": [
    "Based on the data above the Cardiac Medical service is the most frequent service in the hospital, outside of generalized Internal Medicine. This project will explore the patient outcomes for patients who were admitted to the hospital under the Cardiac Medical service."
   ]
  },
  {
   "cell_type": "markdown",
   "metadata": {},
   "source": [
    "# CMED\tCardiac Medical - for non-surgical cardiac related admissions\n",
    "\n",
    "In this project the main focus will be on Cardiac Medical non-surgical cardiac related patients. This service is the highest number of rows in the services under the current service column that is not under just generalized \"Internal Medicine\" or MED in the database. As this service is the most common speciality service, there seems to be a high need to understand the outcomes and the factors that contribute to the outcomes of these patients.\n",
    "\n",
    "We will explore all of the critical asepcts of each hospital stay for the Cardiac Patients. "
   ]
  },
  {
   "cell_type": "code",
   "execution_count": 7,
   "metadata": {},
   "outputs": [
    {
     "name": "stdout",
     "output_type": "stream",
     "text": [
      "   subject_id   hadm_id\n",
      "0    10000635  26134563\n",
      "1    10000980  24947999\n",
      "2    10000980  26913865\n",
      "3    10000980  29654838\n",
      "4    10000980  29659838\n",
      "Number of rows:  42459\n"
     ]
    }
   ],
   "source": [
    "# Filter for rows where curr_service is 'CMED'\n",
    "cmed_patients = services[services['curr_service'] == 'CMED']\n",
    "\n",
    "# Select only the subject_id and hadm_id columns\n",
    "cmed_patients = cmed_patients[['subject_id', 'hadm_id']].drop_duplicates()\n",
    "\n",
    "# Reset the index\n",
    "cmed_patients = cmed_patients.reset_index(drop=True)\n",
    "\n",
    "# Display the first few rows to verify\n",
    "print(cmed_patients.head())\n",
    "print(\"Number of rows: \", cmed_patients.shape[0])\n"
   ]
  },
  {
   "cell_type": "markdown",
   "metadata": {},
   "source": [
    "## First we will explore the aspects of death for patients admitted to the hospital under the Cardiac Medical service."
   ]
  },
  {
   "cell_type": "markdown",
   "metadata": {},
   "source": [
    "### Percent of Patients who died in the hospital under the Cardiac Medical Service"
   ]
  },
  {
   "cell_type": "code",
   "execution_count": 8,
   "metadata": {},
   "outputs": [
    {
     "name": "stdout",
     "output_type": "stream",
     "text": [
      "Number of unique cardiac patients: 25079\n",
      "Total CMED hosptializations: 42459\n",
      "Number of CMED patients with recorded deaths: 1162\n",
      "Percentage of CMED patients who died within one year of last discharge: 4.63%\n",
      "\n",
      "First few CMED patients with recorded deaths:\n",
      "(1162, 18)\n"
     ]
    },
    {
     "data": {
      "text/html": [
       "<div>\n",
       "<style scoped>\n",
       "    .dataframe tbody tr th:only-of-type {\n",
       "        vertical-align: middle;\n",
       "    }\n",
       "\n",
       "    .dataframe tbody tr th {\n",
       "        vertical-align: top;\n",
       "    }\n",
       "\n",
       "    .dataframe thead th {\n",
       "        text-align: right;\n",
       "    }\n",
       "</style>\n",
       "<table border=\"1\" class=\"dataframe\">\n",
       "  <thead>\n",
       "    <tr style=\"text-align: right;\">\n",
       "      <th></th>\n",
       "      <th>subject_id</th>\n",
       "      <th>hadm_id</th>\n",
       "      <th>admittime</th>\n",
       "      <th>dischtime</th>\n",
       "      <th>deathtime</th>\n",
       "      <th>admission_type</th>\n",
       "      <th>admit_provider_id</th>\n",
       "      <th>admission_location</th>\n",
       "      <th>discharge_location</th>\n",
       "      <th>insurance</th>\n",
       "      <th>language</th>\n",
       "      <th>marital_status</th>\n",
       "      <th>race</th>\n",
       "      <th>edregtime</th>\n",
       "      <th>edouttime</th>\n",
       "      <th>hospital_expire_flag</th>\n",
       "      <th>anchor_age</th>\n",
       "      <th>gender</th>\n",
       "    </tr>\n",
       "  </thead>\n",
       "  <tbody>\n",
       "    <tr>\n",
       "      <th>24</th>\n",
       "      <td>10003400</td>\n",
       "      <td>23559586</td>\n",
       "      <td>2137-08-04 00:07:00</td>\n",
       "      <td>2137-09-02 17:05:00</td>\n",
       "      <td>2137-09-02 17:05:00</td>\n",
       "      <td>URGENT</td>\n",
       "      <td>P99U21</td>\n",
       "      <td>TRANSFER FROM HOSPITAL</td>\n",
       "      <td>DIED</td>\n",
       "      <td>Medicare</td>\n",
       "      <td>ENGLISH</td>\n",
       "      <td>MARRIED</td>\n",
       "      <td>BLACK/AFRICAN AMERICAN</td>\n",
       "      <td>NaN</td>\n",
       "      <td>NaN</td>\n",
       "      <td>1</td>\n",
       "      <td>72</td>\n",
       "      <td>F</td>\n",
       "    </tr>\n",
       "    <tr>\n",
       "      <th>48</th>\n",
       "      <td>10010058</td>\n",
       "      <td>26359957</td>\n",
       "      <td>2147-11-18 02:34:00</td>\n",
       "      <td>2147-11-19 04:00:00</td>\n",
       "      <td>2147-11-19 04:00:00</td>\n",
       "      <td>EW EMER.</td>\n",
       "      <td>P83ML7</td>\n",
       "      <td>PHYSICIAN REFERRAL</td>\n",
       "      <td>DIED</td>\n",
       "      <td>Other</td>\n",
       "      <td>?</td>\n",
       "      <td>MARRIED</td>\n",
       "      <td>ASIAN - SOUTH EAST ASIAN</td>\n",
       "      <td>2147-11-18 00:50:00</td>\n",
       "      <td>2147-11-18 03:19:00</td>\n",
       "      <td>1</td>\n",
       "      <td>80</td>\n",
       "      <td>M</td>\n",
       "    </tr>\n",
       "    <tr>\n",
       "      <th>50</th>\n",
       "      <td>10010471</td>\n",
       "      <td>29842315</td>\n",
       "      <td>2155-12-02 19:36:00</td>\n",
       "      <td>2155-12-07 15:30:00</td>\n",
       "      <td>2155-12-07 15:30:00</td>\n",
       "      <td>EW EMER.</td>\n",
       "      <td>P04X8Y</td>\n",
       "      <td>EMERGENCY ROOM</td>\n",
       "      <td>DIED</td>\n",
       "      <td>Medicare</td>\n",
       "      <td>ENGLISH</td>\n",
       "      <td>WIDOWED</td>\n",
       "      <td>WHITE</td>\n",
       "      <td>2155-12-02 16:00:00</td>\n",
       "      <td>2155-12-02 20:33:00</td>\n",
       "      <td>1</td>\n",
       "      <td>89</td>\n",
       "      <td>F</td>\n",
       "    </tr>\n",
       "    <tr>\n",
       "      <th>104</th>\n",
       "      <td>10023117</td>\n",
       "      <td>21607814</td>\n",
       "      <td>2175-07-06 15:57:00</td>\n",
       "      <td>2175-07-20 00:00:00</td>\n",
       "      <td>2175-07-20 22:50:00</td>\n",
       "      <td>OBSERVATION ADMIT</td>\n",
       "      <td>P49NLZ</td>\n",
       "      <td>EMERGENCY ROOM</td>\n",
       "      <td>DIED</td>\n",
       "      <td>Medicare</td>\n",
       "      <td>ENGLISH</td>\n",
       "      <td>WIDOWED</td>\n",
       "      <td>WHITE</td>\n",
       "      <td>2175-07-06 14:02:00</td>\n",
       "      <td>2175-07-06 17:41:00</td>\n",
       "      <td>1</td>\n",
       "      <td>53</td>\n",
       "      <td>M</td>\n",
       "    </tr>\n",
       "    <tr>\n",
       "      <th>135</th>\n",
       "      <td>10026161</td>\n",
       "      <td>24614671</td>\n",
       "      <td>2133-11-11 07:15:00</td>\n",
       "      <td>2133-11-15 18:05:00</td>\n",
       "      <td>2133-11-15 18:05:00</td>\n",
       "      <td>SURGICAL SAME DAY ADMISSION</td>\n",
       "      <td>P68URZ</td>\n",
       "      <td>PHYSICIAN REFERRAL</td>\n",
       "      <td>DIED</td>\n",
       "      <td>Medicare</td>\n",
       "      <td>ENGLISH</td>\n",
       "      <td>DIVORCED</td>\n",
       "      <td>WHITE</td>\n",
       "      <td>NaN</td>\n",
       "      <td>NaN</td>\n",
       "      <td>1</td>\n",
       "      <td>78</td>\n",
       "      <td>M</td>\n",
       "    </tr>\n",
       "  </tbody>\n",
       "</table>\n",
       "</div>"
      ],
      "text/plain": [
       "     subject_id   hadm_id            admittime            dischtime  \\\n",
       "24     10003400  23559586  2137-08-04 00:07:00  2137-09-02 17:05:00   \n",
       "48     10010058  26359957  2147-11-18 02:34:00  2147-11-19 04:00:00   \n",
       "50     10010471  29842315  2155-12-02 19:36:00  2155-12-07 15:30:00   \n",
       "104    10023117  21607814  2175-07-06 15:57:00  2175-07-20 00:00:00   \n",
       "135    10026161  24614671  2133-11-11 07:15:00  2133-11-15 18:05:00   \n",
       "\n",
       "               deathtime               admission_type admit_provider_id  \\\n",
       "24   2137-09-02 17:05:00                       URGENT            P99U21   \n",
       "48   2147-11-19 04:00:00                     EW EMER.            P83ML7   \n",
       "50   2155-12-07 15:30:00                     EW EMER.            P04X8Y   \n",
       "104  2175-07-20 22:50:00            OBSERVATION ADMIT            P49NLZ   \n",
       "135  2133-11-15 18:05:00  SURGICAL SAME DAY ADMISSION            P68URZ   \n",
       "\n",
       "         admission_location discharge_location insurance language  \\\n",
       "24   TRANSFER FROM HOSPITAL               DIED  Medicare  ENGLISH   \n",
       "48       PHYSICIAN REFERRAL               DIED     Other        ?   \n",
       "50           EMERGENCY ROOM               DIED  Medicare  ENGLISH   \n",
       "104          EMERGENCY ROOM               DIED  Medicare  ENGLISH   \n",
       "135      PHYSICIAN REFERRAL               DIED  Medicare  ENGLISH   \n",
       "\n",
       "    marital_status                      race            edregtime  \\\n",
       "24         MARRIED    BLACK/AFRICAN AMERICAN                  NaN   \n",
       "48         MARRIED  ASIAN - SOUTH EAST ASIAN  2147-11-18 00:50:00   \n",
       "50         WIDOWED                     WHITE  2155-12-02 16:00:00   \n",
       "104        WIDOWED                     WHITE  2175-07-06 14:02:00   \n",
       "135       DIVORCED                     WHITE                  NaN   \n",
       "\n",
       "               edouttime  hospital_expire_flag  anchor_age gender  \n",
       "24                   NaN                     1          72      F  \n",
       "48   2147-11-18 03:19:00                     1          80      M  \n",
       "50   2155-12-02 20:33:00                     1          89      F  \n",
       "104  2175-07-06 17:41:00                     1          53      M  \n",
       "135                  NaN                     1          78      M  "
      ]
     },
     "execution_count": 8,
     "metadata": {},
     "output_type": "execute_result"
    }
   ],
   "source": [
    "# Merge the CMED patients with the admissions data\n",
    "cardiac_admissions = pd.merge(cmed_patients, admissions, on=['subject_id', 'hadm_id'], how='left')\n",
    "\n",
    "# Add the age and gender columns from the patients file to our cardiac_admissions DataFrame\n",
    "patients = patients[['subject_id', 'anchor_age', 'gender']]\n",
    "\n",
    "# Merge cardiac_admissions with patients\n",
    "cardiac_admissions = pd.merge(\n",
    "    cardiac_admissions,\n",
    "    patients,\n",
    "    on='subject_id',\n",
    "    how='left'\n",
    ")\n",
    "\n",
    "# Number of unique patients in the cardiac_admissions DataFrame\n",
    "num_patients = cardiac_admissions['subject_id'].nunique()\n",
    "print(f\"Number of unique cardiac patients: {num_patients}\")\n",
    "\n",
    "# Count the number of CMED patients with a recorded deathtime\n",
    "deaths_count = cardiac_admissions['deathtime'].notna().sum()\n",
    "\n",
    "\n",
    "# Calculate the percentage of CMED patients who died\n",
    "death_percentage = (deaths_count / num_patients) * 100\n",
    "\n",
    "# Create a new DataFrame with death information\n",
    "death_info = cardiac_admissions[cardiac_admissions['deathtime'].notna()]\n",
    "\n",
    "print(f\"Total CMED hosptializations: {len(cmed_patients)}\")\n",
    "print(f\"Number of CMED patients with recorded deaths: {deaths_count}\")\n",
    "print(f\"Percentage of CMED patients who died within one year of last discharge: {death_percentage:.2f}%\")\n",
    "\n",
    "\n",
    "print(\"\\nFirst few CMED patients with recorded deaths:\")\n",
    "print(death_info.shape)\n",
    "death_info.head()"
   ]
  },
  {
   "cell_type": "markdown",
   "metadata": {},
   "source": [
    "### Inspect the time to death from admission in the patients who died in the CMED service\n",
    "\n",
    "The dates and times are de-identified in the MIMIC IV dataset, there is an offset of the actual time for each patient, but the times for each patient hosptial stay are still relative to each other."
   ]
  },
  {
   "cell_type": "code",
   "execution_count": 9,
   "metadata": {},
   "outputs": [
    {
     "name": "stdout",
     "output_type": "stream",
     "text": [
      "              admittime           deathtime    time_to_death\n",
      "24  2137-08-04 00:07:00 2137-09-02 17:05:00 29 days 16:58:00\n",
      "48  2147-11-18 02:34:00 2147-11-19 04:00:00  1 days 01:26:00\n",
      "50  2155-12-02 19:36:00 2155-12-07 15:30:00  4 days 19:54:00\n",
      "104 2175-07-06 15:57:00 2175-07-20 22:50:00 14 days 06:53:00\n",
      "135 2133-11-11 07:15:00 2133-11-15 18:05:00  4 days 10:50:00\n",
      "\n",
      "Number of records removed due to negative time_to_death: 3\n",
      "Average time from admission to death: 8 days 19:30:16.307161346\n",
      "Number of deaths within discharge time: 1097\n",
      "Percentage of deaths within discharge time: 94.65%\n",
      "Median time from admission to death: 5 days 16:29:00\n",
      "Minimum time from admission to death: 0 days 00:26:00\n",
      "Maximum time from admission to death: 133 days 02:31:00\n"
     ]
    }
   ],
   "source": [
    "import warnings\n",
    "warnings.filterwarnings('ignore')\n",
    "# Convert admittime and deathtime to datetime\n",
    "death_info['admittime'] = pd.to_datetime(death_info['admittime'])\n",
    "death_info['deathtime'] = pd.to_datetime(death_info['deathtime'])\n",
    "death_info['dischtime'] = pd.to_datetime(death_info['dischtime'])\n",
    "\n",
    "# Calculate time from admit to death\n",
    "death_info['time_to_death'] = death_info['deathtime'] - death_info['admittime']\n",
    "\n",
    "# Remove rows with negative time_to_death\n",
    "death_info_filtered = death_info[death_info['time_to_death'] >= pd.Timedelta(0)]\n",
    "\n",
    "# Calculate average time to death\n",
    "average_time_to_death = death_info_filtered['time_to_death'].mean()\n",
    "\n",
    "# Print summary statistics\n",
    "print(death_info_filtered[['admittime', 'deathtime', 'time_to_death']].head())\n",
    "print(f\"\\nNumber of records removed due to negative time_to_death: {len(death_info) - len(death_info_filtered)}\")\n",
    "print(f\"Average time from admission to death: {average_time_to_death}\")\n",
    "\n",
    "# Number of rows where death was within discharge time\n",
    "within_discharge = death_info_filtered[death_info_filtered['deathtime'] <= death_info_filtered['dischtime']]\n",
    "print(f\"Number of deaths within discharge time: {within_discharge.shape[0]}\")\n",
    "# Calculate percentage of deaths within discharge time\n",
    "within_discharge_percentage = (within_discharge.shape[0] / death_info_filtered.shape[0]) * 100\n",
    "print(f\"Percentage of deaths within discharge time: {within_discharge_percentage:.2f}%\")\n",
    "\n",
    "# Calculate median time to death\n",
    "median_time_to_death = death_info_filtered['time_to_death'].median()\n",
    "print(f\"Median time from admission to death: {median_time_to_death}\")\n",
    "\n",
    "# Calculate min and max time to death\n",
    "min_time_to_death = death_info_filtered['time_to_death'].min()\n",
    "max_time_to_death = death_info_filtered['time_to_death'].max()\n",
    "print(f\"Minimum time from admission to death: {min_time_to_death}\")\n",
    "print(f\"Maximum time from admission to death: {max_time_to_death}\")"
   ]
  },
  {
   "cell_type": "markdown",
   "metadata": {},
   "source": [
    "#### Inspect patients who died after discharge from the hospital under the Cardiac Medical service"
   ]
  },
  {
   "cell_type": "code",
   "execution_count": 10,
   "metadata": {},
   "outputs": [
    {
     "name": "stdout",
     "output_type": "stream",
     "text": [
      "Average number of days people were in the hospital that died after discharge: 9.59\n",
      "Number of patients who died after discharge: 62\n",
      "Shortest stay: -0.94 days\n",
      "Longest stay: 63.32 days\n",
      "Average time between discharge and death: 0.80 days\n"
     ]
    }
   ],
   "source": [
    "# Filter for patients who died after discharge\n",
    "post_discharge_deaths = death_info_filtered[death_info_filtered['deathtime'] > death_info_filtered['dischtime']]\n",
    "\n",
    "# Calculate length of stay in days\n",
    "post_discharge_deaths['length_of_stay'] = (post_discharge_deaths['dischtime'] - post_discharge_deaths['admittime']).dt.total_seconds() / (24 * 60 * 60)\n",
    "\n",
    "# Calculate average length of stay\n",
    "avg_stay = post_discharge_deaths['length_of_stay'].mean()\n",
    "\n",
    "print(f\"Average number of days people were in the hospital that died after discharge: {avg_stay:.2f}\")\n",
    "\n",
    "# Additional analysis\n",
    "print(f\"Number of patients who died after discharge: {len(post_discharge_deaths)}\")\n",
    "print(f\"Shortest stay: {post_discharge_deaths['length_of_stay'].min():.2f} days\")\n",
    "print(f\"Longest stay: {post_discharge_deaths['length_of_stay'].max():.2f} days\")\n",
    "\n",
    "# Calculate time between discharge and death\n",
    "post_discharge_deaths['time_to_death'] = (post_discharge_deaths['deathtime'] - post_discharge_deaths['dischtime']).dt.total_seconds() / (24 * 60 * 60)\n",
    "avg_time_to_death = post_discharge_deaths['time_to_death'].mean()\n",
    "\n",
    "print(f\"Average time between discharge and death: {avg_time_to_death:.2f} days\")"
   ]
  },
  {
   "cell_type": "markdown",
   "metadata": {},
   "source": [
    "### Patients who died within discharge time\n",
    "We will focus on extracting insights from the patients who died in the hospital under the Cardiac Medical service using the filterd within_discharge dataframe. We will use these subject_id/hadm_id pairs to extract the conditions, prescriptions, and procedures and lab results for these patients."
   ]
  },
  {
   "cell_type": "code",
   "execution_count": 11,
   "metadata": {},
   "outputs": [
    {
     "data": {
      "text/html": [
       "<div>\n",
       "<style scoped>\n",
       "    .dataframe tbody tr th:only-of-type {\n",
       "        vertical-align: middle;\n",
       "    }\n",
       "\n",
       "    .dataframe tbody tr th {\n",
       "        vertical-align: top;\n",
       "    }\n",
       "\n",
       "    .dataframe thead th {\n",
       "        text-align: right;\n",
       "    }\n",
       "</style>\n",
       "<table border=\"1\" class=\"dataframe\">\n",
       "  <thead>\n",
       "    <tr style=\"text-align: right;\">\n",
       "      <th></th>\n",
       "      <th>subject_id</th>\n",
       "      <th>hadm_id</th>\n",
       "      <th>admittime</th>\n",
       "      <th>dischtime</th>\n",
       "      <th>deathtime</th>\n",
       "      <th>admission_type</th>\n",
       "      <th>admit_provider_id</th>\n",
       "      <th>admission_location</th>\n",
       "      <th>discharge_location</th>\n",
       "      <th>insurance</th>\n",
       "      <th>language</th>\n",
       "      <th>marital_status</th>\n",
       "      <th>race</th>\n",
       "      <th>edregtime</th>\n",
       "      <th>edouttime</th>\n",
       "      <th>hospital_expire_flag</th>\n",
       "      <th>anchor_age</th>\n",
       "      <th>gender</th>\n",
       "      <th>time_to_death</th>\n",
       "    </tr>\n",
       "  </thead>\n",
       "  <tbody>\n",
       "    <tr>\n",
       "      <th>24</th>\n",
       "      <td>10003400</td>\n",
       "      <td>23559586</td>\n",
       "      <td>2137-08-04 00:07:00</td>\n",
       "      <td>2137-09-02 17:05:00</td>\n",
       "      <td>2137-09-02 17:05:00</td>\n",
       "      <td>URGENT</td>\n",
       "      <td>P99U21</td>\n",
       "      <td>TRANSFER FROM HOSPITAL</td>\n",
       "      <td>DIED</td>\n",
       "      <td>Medicare</td>\n",
       "      <td>ENGLISH</td>\n",
       "      <td>MARRIED</td>\n",
       "      <td>BLACK/AFRICAN AMERICAN</td>\n",
       "      <td>NaN</td>\n",
       "      <td>NaN</td>\n",
       "      <td>1</td>\n",
       "      <td>72</td>\n",
       "      <td>F</td>\n",
       "      <td>29 days 16:58:00</td>\n",
       "    </tr>\n",
       "    <tr>\n",
       "      <th>48</th>\n",
       "      <td>10010058</td>\n",
       "      <td>26359957</td>\n",
       "      <td>2147-11-18 02:34:00</td>\n",
       "      <td>2147-11-19 04:00:00</td>\n",
       "      <td>2147-11-19 04:00:00</td>\n",
       "      <td>EW EMER.</td>\n",
       "      <td>P83ML7</td>\n",
       "      <td>PHYSICIAN REFERRAL</td>\n",
       "      <td>DIED</td>\n",
       "      <td>Other</td>\n",
       "      <td>?</td>\n",
       "      <td>MARRIED</td>\n",
       "      <td>ASIAN - SOUTH EAST ASIAN</td>\n",
       "      <td>2147-11-18 00:50:00</td>\n",
       "      <td>2147-11-18 03:19:00</td>\n",
       "      <td>1</td>\n",
       "      <td>80</td>\n",
       "      <td>M</td>\n",
       "      <td>1 days 01:26:00</td>\n",
       "    </tr>\n",
       "    <tr>\n",
       "      <th>50</th>\n",
       "      <td>10010471</td>\n",
       "      <td>29842315</td>\n",
       "      <td>2155-12-02 19:36:00</td>\n",
       "      <td>2155-12-07 15:30:00</td>\n",
       "      <td>2155-12-07 15:30:00</td>\n",
       "      <td>EW EMER.</td>\n",
       "      <td>P04X8Y</td>\n",
       "      <td>EMERGENCY ROOM</td>\n",
       "      <td>DIED</td>\n",
       "      <td>Medicare</td>\n",
       "      <td>ENGLISH</td>\n",
       "      <td>WIDOWED</td>\n",
       "      <td>WHITE</td>\n",
       "      <td>2155-12-02 16:00:00</td>\n",
       "      <td>2155-12-02 20:33:00</td>\n",
       "      <td>1</td>\n",
       "      <td>89</td>\n",
       "      <td>F</td>\n",
       "      <td>4 days 19:54:00</td>\n",
       "    </tr>\n",
       "    <tr>\n",
       "      <th>135</th>\n",
       "      <td>10026161</td>\n",
       "      <td>24614671</td>\n",
       "      <td>2133-11-11 07:15:00</td>\n",
       "      <td>2133-11-15 18:05:00</td>\n",
       "      <td>2133-11-15 18:05:00</td>\n",
       "      <td>SURGICAL SAME DAY ADMISSION</td>\n",
       "      <td>P68URZ</td>\n",
       "      <td>PHYSICIAN REFERRAL</td>\n",
       "      <td>DIED</td>\n",
       "      <td>Medicare</td>\n",
       "      <td>ENGLISH</td>\n",
       "      <td>DIVORCED</td>\n",
       "      <td>WHITE</td>\n",
       "      <td>NaN</td>\n",
       "      <td>NaN</td>\n",
       "      <td>1</td>\n",
       "      <td>78</td>\n",
       "      <td>M</td>\n",
       "      <td>4 days 10:50:00</td>\n",
       "    </tr>\n",
       "    <tr>\n",
       "      <th>227</th>\n",
       "      <td>10055344</td>\n",
       "      <td>29209451</td>\n",
       "      <td>2171-10-31 19:37:00</td>\n",
       "      <td>2171-11-02 17:05:00</td>\n",
       "      <td>2171-11-02 17:05:00</td>\n",
       "      <td>EW EMER.</td>\n",
       "      <td>P23URY</td>\n",
       "      <td>EMERGENCY ROOM</td>\n",
       "      <td>DIED</td>\n",
       "      <td>Other</td>\n",
       "      <td>?</td>\n",
       "      <td>MARRIED</td>\n",
       "      <td>BLACK/CAPE VERDEAN</td>\n",
       "      <td>2171-10-31 14:50:00</td>\n",
       "      <td>2171-10-31 15:10:00</td>\n",
       "      <td>1</td>\n",
       "      <td>83</td>\n",
       "      <td>M</td>\n",
       "      <td>1 days 21:28:00</td>\n",
       "    </tr>\n",
       "  </tbody>\n",
       "</table>\n",
       "</div>"
      ],
      "text/plain": [
       "     subject_id   hadm_id           admittime           dischtime  \\\n",
       "24     10003400  23559586 2137-08-04 00:07:00 2137-09-02 17:05:00   \n",
       "48     10010058  26359957 2147-11-18 02:34:00 2147-11-19 04:00:00   \n",
       "50     10010471  29842315 2155-12-02 19:36:00 2155-12-07 15:30:00   \n",
       "135    10026161  24614671 2133-11-11 07:15:00 2133-11-15 18:05:00   \n",
       "227    10055344  29209451 2171-10-31 19:37:00 2171-11-02 17:05:00   \n",
       "\n",
       "              deathtime               admission_type admit_provider_id  \\\n",
       "24  2137-09-02 17:05:00                       URGENT            P99U21   \n",
       "48  2147-11-19 04:00:00                     EW EMER.            P83ML7   \n",
       "50  2155-12-07 15:30:00                     EW EMER.            P04X8Y   \n",
       "135 2133-11-15 18:05:00  SURGICAL SAME DAY ADMISSION            P68URZ   \n",
       "227 2171-11-02 17:05:00                     EW EMER.            P23URY   \n",
       "\n",
       "         admission_location discharge_location insurance language  \\\n",
       "24   TRANSFER FROM HOSPITAL               DIED  Medicare  ENGLISH   \n",
       "48       PHYSICIAN REFERRAL               DIED     Other        ?   \n",
       "50           EMERGENCY ROOM               DIED  Medicare  ENGLISH   \n",
       "135      PHYSICIAN REFERRAL               DIED  Medicare  ENGLISH   \n",
       "227          EMERGENCY ROOM               DIED     Other        ?   \n",
       "\n",
       "    marital_status                      race            edregtime  \\\n",
       "24         MARRIED    BLACK/AFRICAN AMERICAN                  NaN   \n",
       "48         MARRIED  ASIAN - SOUTH EAST ASIAN  2147-11-18 00:50:00   \n",
       "50         WIDOWED                     WHITE  2155-12-02 16:00:00   \n",
       "135       DIVORCED                     WHITE                  NaN   \n",
       "227        MARRIED        BLACK/CAPE VERDEAN  2171-10-31 14:50:00   \n",
       "\n",
       "               edouttime  hospital_expire_flag  anchor_age gender  \\\n",
       "24                   NaN                     1          72      F   \n",
       "48   2147-11-18 03:19:00                     1          80      M   \n",
       "50   2155-12-02 20:33:00                     1          89      F   \n",
       "135                  NaN                     1          78      M   \n",
       "227  2171-10-31 15:10:00                     1          83      M   \n",
       "\n",
       "       time_to_death  \n",
       "24  29 days 16:58:00  \n",
       "48   1 days 01:26:00  \n",
       "50   4 days 19:54:00  \n",
       "135  4 days 10:50:00  \n",
       "227  1 days 21:28:00  "
      ]
     },
     "execution_count": 11,
     "metadata": {},
     "output_type": "execute_result"
    }
   ],
   "source": [
    "within_discharge.head()"
   ]
  },
  {
   "cell_type": "markdown",
   "metadata": {},
   "source": [
    "### Filter for cardiac patients who did not die at within one year of discharge to compare the ones who died\n",
    "\n",
    "Filter on subject_id as some patients were admitted multiple times and we want to focus on the patients who were admitted that did not die within one year of discharge, because some patients who died were admitted multiple times so we want to filter them out. "
   ]
  },
  {
   "cell_type": "code",
   "execution_count": 12,
   "metadata": {},
   "outputs": [
    {
     "data": {
      "text/plain": [
       "42459"
      ]
     },
     "execution_count": 12,
     "metadata": {},
     "output_type": "execute_result"
    }
   ],
   "source": [
    "# Total cardiac admissions number \n",
    "cardiac_admissions.shape[0]"
   ]
  },
  {
   "cell_type": "code",
   "execution_count": 13,
   "metadata": {},
   "outputs": [
    {
     "data": {
      "text/plain": [
       "40466"
      ]
     },
     "execution_count": 13,
     "metadata": {},
     "output_type": "execute_result"
    }
   ],
   "source": [
    "# Total admissions for patients who survived more than one year after discharge\n",
    "cardiac_admissions_survived = cardiac_admissions[~cardiac_admissions['subject_id'].isin(within_discharge['subject_id'])]\n",
    "cardiac_admissions_survived.shape[0]"
   ]
  },
  {
   "cell_type": "code",
   "execution_count": 14,
   "metadata": {},
   "outputs": [
    {
     "data": {
      "text/plain": [
       "1993"
      ]
     },
     "execution_count": 14,
     "metadata": {},
     "output_type": "execute_result"
    }
   ],
   "source": [
    "# How many times those who died were admitted in total \n",
    "cardiac_admissions.shape[0]  - cardiac_admissions_survived.shape[0]"
   ]
  },
  {
   "cell_type": "code",
   "execution_count": 15,
   "metadata": {},
   "outputs": [
    {
     "name": "stdout",
     "output_type": "stream",
     "text": [
      "Count of additional admissions (prior to death) for those who died in CMED care: 896\n"
     ]
    }
   ],
   "source": [
    "# number of those in cardiac_admissions_death who had multiple admissions in cardiac_admissions\n",
    "\n",
    "# Filter cardiac_admissions to only include subject_ids of patients who died\n",
    "deceased_admissions = cardiac_admissions[cardiac_admissions['subject_id'].isin(within_discharge['subject_id'])]\n",
    "\n",
    "# Count how many of these deceased patients had multiple admissions\n",
    "multiple_admissions_count = deceased_admissions['subject_id'].duplicated().sum()\n",
    "\n",
    "print(f\"Count of additional admissions (prior to death) for those who died in CMED care: {multiple_admissions_count}\")"
   ]
  },
  {
   "cell_type": "code",
   "execution_count": 16,
   "metadata": {},
   "outputs": [
    {
     "data": {
      "text/plain": [
       "subject_id\n",
       "False    1097\n",
       "True      896\n",
       "Name: count, dtype: int64"
      ]
     },
     "execution_count": 16,
     "metadata": {},
     "output_type": "execute_result"
    }
   ],
   "source": [
    "deceased_admissions['subject_id'].duplicated().value_counts()"
   ]
  },
  {
   "cell_type": "code",
   "execution_count": 17,
   "metadata": {},
   "outputs": [
    {
     "data": {
      "text/plain": [
       "(1097,)"
      ]
     },
     "execution_count": 17,
     "metadata": {},
     "output_type": "execute_result"
    }
   ],
   "source": [
    "deceased_admissions['subject_id'].unique().shape"
   ]
  },
  {
   "cell_type": "code",
   "execution_count": 18,
   "metadata": {},
   "outputs": [
    {
     "name": "stdout",
     "output_type": "stream",
     "text": [
      "Number of unique deceased patients with multiple admissions: 350\n"
     ]
    }
   ],
   "source": [
    "multiple_admissions_unique = deceased_admissions['subject_id'].value_counts()[deceased_admissions['subject_id'].value_counts() > 1].count()\n",
    "print(f\"Number of unique deceased patients with multiple admissions: {multiple_admissions_unique}\")"
   ]
  },
  {
   "cell_type": "code",
   "execution_count": 19,
   "metadata": {},
   "outputs": [
    {
     "name": "stdout",
     "output_type": "stream",
     "text": [
      "Percentage of those who died in CMED care that had multiple admissions:  30.120481927710845\n"
     ]
    }
   ],
   "source": [
    "print(\"Percentage of those who died in CMED care that had multiple admissions: \", (multiple_admissions_unique / deaths_count) * 100)"
   ]
  },
  {
   "cell_type": "markdown",
   "metadata": {},
   "source": [
    "Above we can see that 350 patients had multiple admissions and died within one year of discharge. "
   ]
  },
  {
   "cell_type": "markdown",
   "metadata": {},
   "source": [
    "#### Compare multiple admissions for those who had survived "
   ]
  },
  {
   "cell_type": "code",
   "execution_count": 20,
   "metadata": {},
   "outputs": [
    {
     "name": "stdout",
     "output_type": "stream",
     "text": [
      "number of unique patients who survived 23982\n"
     ]
    }
   ],
   "source": [
    "print(\"number of unique patients who survived\", cardiac_admissions_survived['subject_id'].nunique())"
   ]
  },
  {
   "cell_type": "code",
   "execution_count": 21,
   "metadata": {},
   "outputs": [
    {
     "name": "stdout",
     "output_type": "stream",
     "text": [
      "Number of unique survived patients with multiple admissions: 7771\n"
     ]
    }
   ],
   "source": [
    "multiple_admissions_survived = cardiac_admissions_survived['subject_id'].value_counts()[cardiac_admissions_survived['subject_id'].value_counts() > 1].count()\n",
    "print(f\"Number of unique survived patients with multiple admissions: {multiple_admissions_survived}\")"
   ]
  },
  {
   "cell_type": "code",
   "execution_count": 22,
   "metadata": {},
   "outputs": [
    {
     "name": "stdout",
     "output_type": "stream",
     "text": [
      " Percent of multiple admissions in those who survived more than one year: 32.40346926861813\n"
     ]
    }
   ],
   "source": [
    "print(f\" Percent of multiple admissions in those who survived more than one year: {multiple_admissions_survived / cardiac_admissions_survived['subject_id'].nunique() * 100}\")"
   ]
  },
  {
   "cell_type": "markdown",
   "metadata": {},
   "source": [
    "### Now we will compare the death proportions for patients based on their marital status"
   ]
  },
  {
   "cell_type": "code",
   "execution_count": 23,
   "metadata": {},
   "outputs": [
    {
     "name": "stdout",
     "output_type": "stream",
     "text": [
      "Chi-square test statistic: 26.08434911001403\n",
      "p-value: 9.157329139649442e-06\n"
     ]
    },
    {
     "data": {
      "text/html": [
       "<div>\n",
       "<style scoped>\n",
       "    .dataframe tbody tr th:only-of-type {\n",
       "        vertical-align: middle;\n",
       "    }\n",
       "\n",
       "    .dataframe tbody tr th {\n",
       "        vertical-align: top;\n",
       "    }\n",
       "\n",
       "    .dataframe thead th {\n",
       "        text-align: right;\n",
       "    }\n",
       "</style>\n",
       "<table border=\"1\" class=\"dataframe\">\n",
       "  <thead>\n",
       "    <tr style=\"text-align: right;\">\n",
       "      <th>deathtime</th>\n",
       "      <th>False</th>\n",
       "      <th>True</th>\n",
       "    </tr>\n",
       "    <tr>\n",
       "      <th>marital_status</th>\n",
       "      <th></th>\n",
       "      <th></th>\n",
       "    </tr>\n",
       "  </thead>\n",
       "  <tbody>\n",
       "    <tr>\n",
       "      <th>DIVORCED</th>\n",
       "      <td>3100</td>\n",
       "      <td>75</td>\n",
       "    </tr>\n",
       "    <tr>\n",
       "      <th>MARRIED</th>\n",
       "      <td>21159</td>\n",
       "      <td>497</td>\n",
       "    </tr>\n",
       "    <tr>\n",
       "      <th>SINGLE</th>\n",
       "      <td>9426</td>\n",
       "      <td>208</td>\n",
       "    </tr>\n",
       "    <tr>\n",
       "      <th>WIDOWED</th>\n",
       "      <td>6779</td>\n",
       "      <td>230</td>\n",
       "    </tr>\n",
       "  </tbody>\n",
       "</table>\n",
       "</div>"
      ],
      "text/plain": [
       "deathtime       False  True \n",
       "marital_status              \n",
       "DIVORCED         3100     75\n",
       "MARRIED         21159    497\n",
       "SINGLE           9426    208\n",
       "WIDOWED          6779    230"
      ]
     },
     "execution_count": 23,
     "metadata": {},
     "output_type": "execute_result"
    }
   ],
   "source": [
    "cardiac_admissions_no_na_marital = cardiac_admissions.dropna(subset=['marital_status'])\n",
    "# Chi square test for independence between martial status and death\n",
    "observed = pd.crosstab(cardiac_admissions_no_na_marital['marital_status'], cardiac_admissions_no_na_marital['deathtime'].notna())\n",
    "chi2, p, dof, expected = stats.chi2_contingency(observed)\n",
    "print(f\"Chi-square test statistic: {chi2}\")\n",
    "print(f\"p-value: {p}\")\n",
    "observed"
   ]
  },
  {
   "cell_type": "code",
   "execution_count": 24,
   "metadata": {},
   "outputs": [
    {
     "name": "stdout",
     "output_type": "stream",
     "text": [
      "   Category       p-value\n",
      "0   WIDOWED  5.749534e-07\n",
      "1    SINGLE  4.885415e-02\n",
      "2  DIVORCED  8.274272e-01\n"
     ]
    }
   ],
   "source": [
    "# Reference category as married for post-hoc analysis\n",
    "reference_category = 'MARRIED'\n",
    "\n",
    "# Perform post-hoc analysis\n",
    "posthoc_results = []\n",
    "\n",
    "for category in cardiac_admissions_no_na_marital['marital_status'].unique():\n",
    "    if category != reference_category:\n",
    "        observed = pd.crosstab(cardiac_admissions_no_na_marital['marital_status'] == category, cardiac_admissions_no_na_marital['deathtime'].notna())\n",
    "        chi2, p, dof, expected = stats.chi2_contingency(observed)\n",
    "        posthoc_results.append({'Category': category, 'p-value': p})\n",
    "\n",
    "\n",
    "posthoc_results_df = pd.DataFrame(posthoc_results)\n",
    "\n",
    "# Sort the results by p-value\n",
    "posthoc_results_df = posthoc_results_df.sort_values(by='p-value')\n",
    "print(posthoc_results_df)"
   ]
  },
  {
   "cell_type": "markdown",
   "metadata": {},
   "source": [
    "Based on the knowledge we have from the data above, there is no significant difference between the death proportions for those who are married and those who are divorced. There the significance for the difference between married and single is just below our .05 threshold. Those who are widowed have a significantly higher death proportion than those who are married.\n",
    "\n",
    "We will explore a possible confounding factor in this relationship, the age of the patients."
   ]
  },
  {
   "cell_type": "markdown",
   "metadata": {},
   "source": [
    "### Compare the age of patients based on their marital status "
   ]
  },
  {
   "cell_type": "code",
   "execution_count": 25,
   "metadata": {},
   "outputs": [
    {
     "name": "stdout",
     "output_type": "stream",
     "text": [
      " Multiple Comparison of Means - Tukey HSD, FWER=0.05  \n",
      "======================================================\n",
      " group1   group2 meandiff p-adj  lower   upper  reject\n",
      "------------------------------------------------------\n",
      "DIVORCED MARRIED   2.6311   0.0   2.001  3.2613   True\n",
      "DIVORCED  SINGLE  -5.5469   0.0 -6.2255 -4.8683   True\n",
      "DIVORCED WIDOWED  14.9387   0.0 14.2293 15.6481   True\n",
      " MARRIED  SINGLE   -8.178   0.0 -8.5841 -7.7719   True\n",
      " MARRIED WIDOWED  12.3075   0.0 11.8518 12.7633   True\n",
      "  SINGLE WIDOWED  20.4856   0.0  19.965 21.0062   True\n",
      "------------------------------------------------------\n"
     ]
    }
   ],
   "source": [
    "# Pairwise Tukey post-hoc test for age by marital status\n",
    "# Perform Tukey post-hoc test\n",
    "tukey_results = pairwise_tukeyhsd(cardiac_admissions_no_na_marital['anchor_age'], cardiac_admissions_no_na_marital['marital_status'])\n",
    "\n",
    "# Print the summary of the test\n",
    "print(tukey_results)"
   ]
  },
  {
   "cell_type": "markdown",
   "metadata": {},
   "source": [
    "As seen above from the pairwise comparison of the ages of each marital status, there are significant differences between all of the groups. Age is a confounding variable in the death proportions of the patients, thus we cannot make any conclusions about the death proportions of the patients based on their marital status without controlling for age."
   ]
  },
  {
   "cell_type": "code",
   "execution_count": 26,
   "metadata": {},
   "outputs": [
    {
     "data": {
      "image/png": "[encoded data removed]",
      "text/plain": [
       "<Figure size 1200x600 with 1 Axes>"
      ]
     },
     "metadata": {},
     "output_type": "display_data"
    }
   ],
   "source": [
    "# Proportions of each matial status category's death rate\n",
    "proportions = cardiac_admissions_no_na_marital.groupby('marital_status')['deathtime'].apply(lambda x: x.notna().sum() / len(x)).reset_index()\n",
    "proportions.columns = ['marital_status', 'death_rate']\n",
    "\n",
    "# Sort the proportions\n",
    "proportions = proportions.sort_values(by='death_rate', ascending=False)\n",
    "\n",
    "# Plot the proportions\n",
    "plt.figure(figsize=(12, 6))\n",
    "sns.barplot(data=proportions, x='marital_status', y='death_rate', hue='marital_status', palette='viridis')\n",
    "plt.title('Proportion of Deaths by Marital Status')\n",
    "plt.xlabel('Marital Status')\n",
    "plt.ylabel('Proportion of Deaths')\n",
    "plt.xticks(rotation=45)\n",
    "plt.show()"
   ]
  },
  {
   "cell_type": "code",
   "execution_count": 27,
   "metadata": {},
   "outputs": [
    {
     "data": {
      "image/png": "[encoded data removed]",
      "text/plain": [
       "<Figure size 1200x600 with 1 Axes>"
      ]
     },
     "metadata": {},
     "output_type": "display_data"
    }
   ],
   "source": [
    "# Average age of patients for each marital status\n",
    "average_age = cardiac_admissions_no_na_marital.groupby('marital_status')['anchor_age'].mean().reset_index()\n",
    "average_age.columns = ['marital_status', 'average_age']\n",
    "\n",
    "# Sort the average age\n",
    "average_age = average_age.sort_values(by='average_age', ascending=False)\n",
    "\n",
    "# Plot the average age\n",
    "plt.figure(figsize=(12, 6))\n",
    "sns.barplot(data=average_age, x='marital_status', y='average_age', hue='marital_status', palette='viridis')\n",
    "plt.title('Average Age of Patients by Marital Status')\n",
    "plt.xlabel('Marital Status')\n",
    "plt.ylabel('Average Age')\n",
    "plt.xticks(rotation=45)\n",
    "plt.show()"
   ]
  },
  {
   "cell_type": "markdown",
   "metadata": {},
   "source": [
    "## Moving onto more exploration of the patients who were admitted to the hospital under the Cardiac Medical service\n",
    "\n",
    "We will inspect more of the aspects to the types of treatments and procedures that the patients received during their hospital stay for the Cardiac Medical service to better understand the outcomes of these patients."
   ]
  },
  {
   "cell_type": "markdown",
   "metadata": {},
   "source": [
    "## Procedures for the Cardiac Medical Patients"
   ]
  },
  {
   "cell_type": "code",
   "execution_count": 28,
   "metadata": {},
   "outputs": [],
   "source": [
    "# Procedures from patient's hosptial stay\n",
    "procedures = pd.read_csv(\"/Volumes/Extreme SSD/MIMIC-hosp/procedures_icd.csv\")\n",
    "procedure_desc = pd.read_csv(\"/Volumes/Extreme SSD/MIMIC-hosp/d_icd_procedures.csv\")"
   ]
  },
  {
   "cell_type": "code",
   "execution_count": 29,
   "metadata": {},
   "outputs": [],
   "source": [
    "d_icd_procedures = pd.read_csv(\"/Volumes/Extreme SSD/MIMIC-hosp/d_icd_procedures.csv\")"
   ]
  },
  {
   "cell_type": "code",
   "execution_count": 30,
   "metadata": {},
   "outputs": [
    {
     "name": "stdout",
     "output_type": "stream",
     "text": [
      "\n",
      "Summary statistics:\n",
      "Total number of procedures for CMED patients: 105152\n",
      "Number of unique CMED patients who had procedures: 18671\n",
      "Number of unique hospitalizations with procedures: 26775\n",
      "\n",
      "Top 10 most common procedures:\n",
      "long_title\n",
      "Coronary arteriography using two catheters                        8293\n",
      "Left heart cardiac catheterization                                5396\n",
      "Percutaneous transluminal coronary angioplasty [PTCA]             4982\n",
      "Procedure on single vessel                                        4593\n",
      "Insertion of drug-eluting coronary artery stent(s)                3445\n",
      "Insertion of one vascular stent                                   3170\n",
      "Fluoroscopy of Multiple Coronary Arteries using Other Contrast    3074\n",
      "Combined right and left heart cardiac catheterization             1842\n",
      "Extracorporeal circulation auxiliary to open heart surgery        1385\n",
      "Diagnostic ultrasound of heart                                    1384\n",
      "Name: count, dtype: int64\n",
      "\n",
      "Number of procedures per hospitalization:\n",
      "count    26775.000000\n",
      "mean         3.927246\n",
      "std          3.035153\n",
      "min          1.000000\n",
      "25%          2.000000\n",
      "50%          3.000000\n",
      "75%          6.000000\n",
      "max         41.000000\n",
      "dtype: float64\n",
      "\n",
      "First few rows of the merged dataframe:\n"
     ]
    },
    {
     "data": {
      "text/html": [
       "<div>\n",
       "<style scoped>\n",
       "    .dataframe tbody tr th:only-of-type {\n",
       "        vertical-align: middle;\n",
       "    }\n",
       "\n",
       "    .dataframe tbody tr th {\n",
       "        vertical-align: top;\n",
       "    }\n",
       "\n",
       "    .dataframe thead th {\n",
       "        text-align: right;\n",
       "    }\n",
       "</style>\n",
       "<table border=\"1\" class=\"dataframe\">\n",
       "  <thead>\n",
       "    <tr style=\"text-align: right;\">\n",
       "      <th></th>\n",
       "      <th>subject_id</th>\n",
       "      <th>hadm_id</th>\n",
       "      <th>seq_num</th>\n",
       "      <th>chartdate</th>\n",
       "      <th>icd_code</th>\n",
       "      <th>icd_version</th>\n",
       "      <th>long_title</th>\n",
       "    </tr>\n",
       "  </thead>\n",
       "  <tbody>\n",
       "    <tr>\n",
       "      <th>0</th>\n",
       "      <td>10000635</td>\n",
       "      <td>26134563</td>\n",
       "      <td>1</td>\n",
       "      <td>2136-06-19</td>\n",
       "      <td>3734</td>\n",
       "      <td>9</td>\n",
       "      <td>Excision or destruction of other lesion or tis...</td>\n",
       "    </tr>\n",
       "    <tr>\n",
       "      <th>1</th>\n",
       "      <td>10000635</td>\n",
       "      <td>26134563</td>\n",
       "      <td>2</td>\n",
       "      <td>2136-06-19</td>\n",
       "      <td>3728</td>\n",
       "      <td>9</td>\n",
       "      <td>Intracardiac echocardiography</td>\n",
       "    </tr>\n",
       "    <tr>\n",
       "      <th>2</th>\n",
       "      <td>10000635</td>\n",
       "      <td>26134563</td>\n",
       "      <td>3</td>\n",
       "      <td>2136-06-19</td>\n",
       "      <td>3727</td>\n",
       "      <td>9</td>\n",
       "      <td>Cardiac mapping</td>\n",
       "    </tr>\n",
       "    <tr>\n",
       "      <th>3</th>\n",
       "      <td>10000980</td>\n",
       "      <td>26913865</td>\n",
       "      <td>1</td>\n",
       "      <td>2189-06-30</td>\n",
       "      <td>0066</td>\n",
       "      <td>9</td>\n",
       "      <td>Percutaneous transluminal coronary angioplasty...</td>\n",
       "    </tr>\n",
       "    <tr>\n",
       "      <th>4</th>\n",
       "      <td>10000980</td>\n",
       "      <td>26913865</td>\n",
       "      <td>2</td>\n",
       "      <td>2189-06-30</td>\n",
       "      <td>3607</td>\n",
       "      <td>9</td>\n",
       "      <td>Insertion of drug-eluting coronary artery sten...</td>\n",
       "    </tr>\n",
       "  </tbody>\n",
       "</table>\n",
       "</div>"
      ],
      "text/plain": [
       "   subject_id   hadm_id  seq_num   chartdate icd_code  icd_version  \\\n",
       "0    10000635  26134563        1  2136-06-19     3734            9   \n",
       "1    10000635  26134563        2  2136-06-19     3728            9   \n",
       "2    10000635  26134563        3  2136-06-19     3727            9   \n",
       "3    10000980  26913865        1  2189-06-30     0066            9   \n",
       "4    10000980  26913865        2  2189-06-30     3607            9   \n",
       "\n",
       "                                          long_title  \n",
       "0  Excision or destruction of other lesion or tis...  \n",
       "1                      Intracardiac echocardiography  \n",
       "2                                    Cardiac mapping  \n",
       "3  Percutaneous transluminal coronary angioplasty...  \n",
       "4  Insertion of drug-eluting coronary artery sten...  "
      ]
     },
     "execution_count": 30,
     "metadata": {},
     "output_type": "execute_result"
    }
   ],
   "source": [
    "# Merge CMED patients with procedures\n",
    "cardiac_procedures = pd.merge(\n",
    "    cmed_patients,\n",
    "    procedures,\n",
    "    on=['subject_id', 'hadm_id'],\n",
    "    how='inner'\n",
    ")\n",
    "\n",
    "# Merge the procedures with the descriptions\n",
    "cardiac_procedures = pd.merge(cardiac_procedures, procedure_desc, on=['icd_code', 'icd_version'], how='left')\n",
    "\n",
    "# Summary statistics\n",
    "print(\"\\nSummary statistics:\")\n",
    "print(f\"Total number of procedures for CMED patients: {len(cardiac_procedures)}\")\n",
    "print(f\"Number of unique CMED patients who had procedures: {cardiac_procedures['subject_id'].nunique()}\")\n",
    "print(f\"Number of unique hospitalizations with procedures: {cardiac_procedures['hadm_id'].nunique()}\")\n",
    "\n",
    "# Count the most common procedures\n",
    "top_procedures = cardiac_procedures['long_title'].value_counts().head(10)\n",
    "print(\"\\nTop 10 most common procedures:\")\n",
    "print(top_procedures)\n",
    "\n",
    "# Print the number of procedures per hospitalization\n",
    "procedures_per_hospitalization = cardiac_procedures.groupby('hadm_id').size().describe()\n",
    "print(\"\\nNumber of procedures per hospitalization:\")\n",
    "print(procedures_per_hospitalization)\n",
    "\n",
    "# Check the first few rows of the merged dataframe\n",
    "print(\"\\nFirst few rows of the merged dataframe:\")\n",
    "cardiac_procedures.head()"
   ]
  },
  {
   "cell_type": "code",
   "execution_count": 31,
   "metadata": {},
   "outputs": [
    {
     "name": "stdout",
     "output_type": "stream",
     "text": [
      "Number of duplicate rows: 0\n"
     ]
    }
   ],
   "source": [
    "# Check for duplicates\n",
    "duplicate_count = cardiac_procedures.duplicated().sum()\n",
    "print(f\"Number of duplicate rows: {duplicate_count}\")"
   ]
  },
  {
   "cell_type": "markdown",
   "metadata": {},
   "source": [
    "### Procedures for the Cardiac Medical Patients that had died in the hospital\n",
    "\n",
    "Now we will filter the cardiac procedures for the patients who died in the hospital under the Cardiac Medical service. These are the filted patients who died within their discahrge time we had found above in the previuos section under the within_discharge dataframe."
   ]
  },
  {
   "cell_type": "code",
   "execution_count": 32,
   "metadata": {},
   "outputs": [
    {
     "name": "stdout",
     "output_type": "stream",
     "text": [
      "Number of procedures for cardiac patients who died 6234\n",
      "Number of unique patients who died that had procedures 976\n",
      "Percent of patients who died that had procedures 88.96991795806746\n"
     ]
    }
   ],
   "source": [
    "# Merge the CMED patients' procedures with the patients who died within the discharge time\n",
    "cardiac_procedures_death = pd.merge(cardiac_procedures, within_discharge, on=['subject_id', 'hadm_id'], how='inner')\n",
    "print(\"Number of procedures for cardiac patients who died\", cardiac_procedures_death.shape[0])\n",
    "print(\"Number of unique patients who died that had procedures\", cardiac_procedures_death['subject_id'].nunique())\n",
    "print(\"Percent of patients who died that had procedures\", (cardiac_procedures_death['subject_id'].nunique() / within_discharge['subject_id'].nunique()) * 100)\n"
   ]
  },
  {
   "cell_type": "code",
   "execution_count": 33,
   "metadata": {},
   "outputs": [
    {
     "data": {
      "text/html": [
       "<div>\n",
       "<style scoped>\n",
       "    .dataframe tbody tr th:only-of-type {\n",
       "        vertical-align: middle;\n",
       "    }\n",
       "\n",
       "    .dataframe tbody tr th {\n",
       "        vertical-align: top;\n",
       "    }\n",
       "\n",
       "    .dataframe thead th {\n",
       "        text-align: right;\n",
       "    }\n",
       "</style>\n",
       "<table border=\"1\" class=\"dataframe\">\n",
       "  <thead>\n",
       "    <tr style=\"text-align: right;\">\n",
       "      <th></th>\n",
       "      <th>subject_id</th>\n",
       "      <th>hadm_id</th>\n",
       "      <th>seq_num</th>\n",
       "      <th>chartdate</th>\n",
       "      <th>icd_code</th>\n",
       "      <th>icd_version</th>\n",
       "      <th>long_title</th>\n",
       "      <th>admittime</th>\n",
       "      <th>dischtime</th>\n",
       "      <th>deathtime</th>\n",
       "      <th>...</th>\n",
       "      <th>insurance</th>\n",
       "      <th>language</th>\n",
       "      <th>marital_status</th>\n",
       "      <th>race</th>\n",
       "      <th>edregtime</th>\n",
       "      <th>edouttime</th>\n",
       "      <th>hospital_expire_flag</th>\n",
       "      <th>anchor_age</th>\n",
       "      <th>gender</th>\n",
       "      <th>time_to_death</th>\n",
       "    </tr>\n",
       "  </thead>\n",
       "  <tbody>\n",
       "    <tr>\n",
       "      <th>0</th>\n",
       "      <td>10003400</td>\n",
       "      <td>23559586</td>\n",
       "      <td>1</td>\n",
       "      <td>2137-08-10</td>\n",
       "      <td>0T768DZ</td>\n",
       "      <td>10</td>\n",
       "      <td>Dilation of Right Ureter with Intraluminal Dev...</td>\n",
       "      <td>2137-08-04 00:07:00</td>\n",
       "      <td>2137-09-02 17:05:00</td>\n",
       "      <td>2137-09-02 17:05:00</td>\n",
       "      <td>...</td>\n",
       "      <td>Medicare</td>\n",
       "      <td>ENGLISH</td>\n",
       "      <td>MARRIED</td>\n",
       "      <td>BLACK/AFRICAN AMERICAN</td>\n",
       "      <td>NaN</td>\n",
       "      <td>NaN</td>\n",
       "      <td>1</td>\n",
       "      <td>72</td>\n",
       "      <td>F</td>\n",
       "      <td>29 days 16:58:00</td>\n",
       "    </tr>\n",
       "    <tr>\n",
       "      <th>1</th>\n",
       "      <td>10003400</td>\n",
       "      <td>23559586</td>\n",
       "      <td>2</td>\n",
       "      <td>2137-08-10</td>\n",
       "      <td>0TP98DZ</td>\n",
       "      <td>10</td>\n",
       "      <td>Removal of Intraluminal Device from Ureter, Vi...</td>\n",
       "      <td>2137-08-04 00:07:00</td>\n",
       "      <td>2137-09-02 17:05:00</td>\n",
       "      <td>2137-09-02 17:05:00</td>\n",
       "      <td>...</td>\n",
       "      <td>Medicare</td>\n",
       "      <td>ENGLISH</td>\n",
       "      <td>MARRIED</td>\n",
       "      <td>BLACK/AFRICAN AMERICAN</td>\n",
       "      <td>NaN</td>\n",
       "      <td>NaN</td>\n",
       "      <td>1</td>\n",
       "      <td>72</td>\n",
       "      <td>F</td>\n",
       "      <td>29 days 16:58:00</td>\n",
       "    </tr>\n",
       "    <tr>\n",
       "      <th>2</th>\n",
       "      <td>10003400</td>\n",
       "      <td>23559586</td>\n",
       "      <td>3</td>\n",
       "      <td>2137-08-10</td>\n",
       "      <td>0TJB8ZZ</td>\n",
       "      <td>10</td>\n",
       "      <td>Inspection of Bladder, Via Natural or Artifici...</td>\n",
       "      <td>2137-08-04 00:07:00</td>\n",
       "      <td>2137-09-02 17:05:00</td>\n",
       "      <td>2137-09-02 17:05:00</td>\n",
       "      <td>...</td>\n",
       "      <td>Medicare</td>\n",
       "      <td>ENGLISH</td>\n",
       "      <td>MARRIED</td>\n",
       "      <td>BLACK/AFRICAN AMERICAN</td>\n",
       "      <td>NaN</td>\n",
       "      <td>NaN</td>\n",
       "      <td>1</td>\n",
       "      <td>72</td>\n",
       "      <td>F</td>\n",
       "      <td>29 days 16:58:00</td>\n",
       "    </tr>\n",
       "    <tr>\n",
       "      <th>3</th>\n",
       "      <td>10003400</td>\n",
       "      <td>23559586</td>\n",
       "      <td>4</td>\n",
       "      <td>2137-08-10</td>\n",
       "      <td>BT1FYZZ</td>\n",
       "      <td>10</td>\n",
       "      <td>Fluoroscopy of Left Kidney, Ureter and Bladder...</td>\n",
       "      <td>2137-08-04 00:07:00</td>\n",
       "      <td>2137-09-02 17:05:00</td>\n",
       "      <td>2137-09-02 17:05:00</td>\n",
       "      <td>...</td>\n",
       "      <td>Medicare</td>\n",
       "      <td>ENGLISH</td>\n",
       "      <td>MARRIED</td>\n",
       "      <td>BLACK/AFRICAN AMERICAN</td>\n",
       "      <td>NaN</td>\n",
       "      <td>NaN</td>\n",
       "      <td>1</td>\n",
       "      <td>72</td>\n",
       "      <td>F</td>\n",
       "      <td>29 days 16:58:00</td>\n",
       "    </tr>\n",
       "    <tr>\n",
       "      <th>4</th>\n",
       "      <td>10003400</td>\n",
       "      <td>23559586</td>\n",
       "      <td>5</td>\n",
       "      <td>2137-08-10</td>\n",
       "      <td>BT1DYZZ</td>\n",
       "      <td>10</td>\n",
       "      <td>Fluoroscopy of Right Kidney, Ureter and Bladde...</td>\n",
       "      <td>2137-08-04 00:07:00</td>\n",
       "      <td>2137-09-02 17:05:00</td>\n",
       "      <td>2137-09-02 17:05:00</td>\n",
       "      <td>...</td>\n",
       "      <td>Medicare</td>\n",
       "      <td>ENGLISH</td>\n",
       "      <td>MARRIED</td>\n",
       "      <td>BLACK/AFRICAN AMERICAN</td>\n",
       "      <td>NaN</td>\n",
       "      <td>NaN</td>\n",
       "      <td>1</td>\n",
       "      <td>72</td>\n",
       "      <td>F</td>\n",
       "      <td>29 days 16:58:00</td>\n",
       "    </tr>\n",
       "  </tbody>\n",
       "</table>\n",
       "<p>5 rows × 24 columns</p>\n",
       "</div>"
      ],
      "text/plain": [
       "   subject_id   hadm_id  seq_num   chartdate icd_code  icd_version  \\\n",
       "0    10003400  23559586        1  2137-08-10  0T768DZ           10   \n",
       "1    10003400  23559586        2  2137-08-10  0TP98DZ           10   \n",
       "2    10003400  23559586        3  2137-08-10  0TJB8ZZ           10   \n",
       "3    10003400  23559586        4  2137-08-10  BT1FYZZ           10   \n",
       "4    10003400  23559586        5  2137-08-10  BT1DYZZ           10   \n",
       "\n",
       "                                          long_title           admittime  \\\n",
       "0  Dilation of Right Ureter with Intraluminal Dev... 2137-08-04 00:07:00   \n",
       "1  Removal of Intraluminal Device from Ureter, Vi... 2137-08-04 00:07:00   \n",
       "2  Inspection of Bladder, Via Natural or Artifici... 2137-08-04 00:07:00   \n",
       "3  Fluoroscopy of Left Kidney, Ureter and Bladder... 2137-08-04 00:07:00   \n",
       "4  Fluoroscopy of Right Kidney, Ureter and Bladde... 2137-08-04 00:07:00   \n",
       "\n",
       "            dischtime           deathtime  ... insurance language  \\\n",
       "0 2137-09-02 17:05:00 2137-09-02 17:05:00  ...  Medicare  ENGLISH   \n",
       "1 2137-09-02 17:05:00 2137-09-02 17:05:00  ...  Medicare  ENGLISH   \n",
       "2 2137-09-02 17:05:00 2137-09-02 17:05:00  ...  Medicare  ENGLISH   \n",
       "3 2137-09-02 17:05:00 2137-09-02 17:05:00  ...  Medicare  ENGLISH   \n",
       "4 2137-09-02 17:05:00 2137-09-02 17:05:00  ...  Medicare  ENGLISH   \n",
       "\n",
       "  marital_status                    race edregtime edouttime  \\\n",
       "0        MARRIED  BLACK/AFRICAN AMERICAN       NaN       NaN   \n",
       "1        MARRIED  BLACK/AFRICAN AMERICAN       NaN       NaN   \n",
       "2        MARRIED  BLACK/AFRICAN AMERICAN       NaN       NaN   \n",
       "3        MARRIED  BLACK/AFRICAN AMERICAN       NaN       NaN   \n",
       "4        MARRIED  BLACK/AFRICAN AMERICAN       NaN       NaN   \n",
       "\n",
       "  hospital_expire_flag anchor_age gender    time_to_death  \n",
       "0                    1         72      F 29 days 16:58:00  \n",
       "1                    1         72      F 29 days 16:58:00  \n",
       "2                    1         72      F 29 days 16:58:00  \n",
       "3                    1         72      F 29 days 16:58:00  \n",
       "4                    1         72      F 29 days 16:58:00  \n",
       "\n",
       "[5 rows x 24 columns]"
      ]
     },
     "execution_count": 33,
     "metadata": {},
     "output_type": "execute_result"
    }
   ],
   "source": [
    "cardiac_procedures_death.head()"
   ]
  },
  {
   "cell_type": "code",
   "execution_count": 34,
   "metadata": {},
   "outputs": [
    {
     "data": {
      "text/plain": [
       "long_title\n",
       "Continuous invasive mechanical ventilation for less than 96 consecutive hours             235\n",
       "Insertion of endotracheal tube                                                            226\n",
       "Insertion of Infusion Device into Superior Vena Cava, Percutaneous Approach               175\n",
       "Coronary arteriography using two catheters                                                170\n",
       "Venous catheterization, not elsewhere classified                                          151\n",
       "Continuous invasive mechanical ventilation for 96 consecutive hours or more               149\n",
       "Insertion of Endotracheal Airway into Trachea, Via Natural or Artificial Opening          138\n",
       "Cardiopulmonary resuscitation, not otherwise specified                                    121\n",
       "Central venous catheter placement with guidance                                           120\n",
       "Hemodialysis                                                                              114\n",
       "Fluoroscopy of Multiple Coronary Arteries using Other Contrast                            112\n",
       "Respiratory Ventilation, 24-96 Consecutive Hours                                          110\n",
       "Arterial catheterization                                                                  108\n",
       "Respiratory Ventilation, Greater than 96 Consecutive Hours                                106\n",
       "Introduction of Nutritional Substance into Upper GI, Via Natural or Artificial Opening    104\n",
       "Enteral infusion of concentrated nutritional substances                                   101\n",
       "Percutaneous transluminal coronary angioplasty [PTCA]                                      90\n",
       "Performance of Urinary Filtration, Continuous, Greater than 18 hours Per Day               90\n",
       "Implant of pulsation balloon                                                               89\n",
       "Combined right and left heart cardiac catheterization                                      83\n",
       "Name: count, dtype: int64"
      ]
     },
     "execution_count": 34,
     "metadata": {},
     "output_type": "execute_result"
    }
   ],
   "source": [
    "# Most common cardiac procedures for patients who died\n",
    "cardiac_procedures_death['long_title'].value_counts().head(20)"
   ]
  },
  {
   "cell_type": "code",
   "execution_count": 35,
   "metadata": {},
   "outputs": [
    {
     "data": {
      "text/plain": [
       "long_title\n",
       "Coronary arteriography using two catheters                                           7953\n",
       "Left heart cardiac catheterization                                                   5230\n",
       "Percutaneous transluminal coronary angioplasty [PTCA]                                4795\n",
       "Procedure on single vessel                                                           4412\n",
       "Insertion of drug-eluting coronary artery stent(s)                                   3354\n",
       "Insertion of one vascular stent                                                      3076\n",
       "Fluoroscopy of Multiple Coronary Arteries using Other Contrast                       2928\n",
       "Combined right and left heart cardiac catheterization                                1706\n",
       "Excision or destruction of other lesion or tissue of heart, endovascular approach    1344\n",
       "Extracorporeal circulation auxiliary to open heart surgery                           1342\n",
       "Diagnostic ultrasound of heart                                                       1292\n",
       "Insertion of two vascular stents                                                     1255\n",
       "Injection or infusion of platelet inhibitor                                          1222\n",
       "Angiocardiography of left heart structures                                           1119\n",
       "Insertion of non-drug-eluting coronary artery stent(s)                               1093\n",
       "Single internal mammary-coronary artery bypass                                       1084\n",
       "Measurement of Cardiac Sampling and Pressure, Left Heart, Percutaneous Approach      1063\n",
       "Coronary arteriography using a single catheter                                        990\n",
       "Cardiac mapping                                                                       957\n",
       "Venous catheterization, not elsewhere classified                                      936\n",
       "Name: count, dtype: int64"
      ]
     },
     "execution_count": 35,
     "metadata": {},
     "output_type": "execute_result"
    }
   ],
   "source": [
    "# Filter cardiac_procedures to include only subject_ids in cardiac_admissions_survived\n",
    "cardiac_procedures_survived = cardiac_procedures[cardiac_procedures['subject_id'].isin(cardiac_admissions_survived['subject_id'])]\n",
    "cardiac_procedures_survived['long_title'].value_counts().head(20)  "
   ]
  },
  {
   "cell_type": "code",
   "execution_count": 36,
   "metadata": {},
   "outputs": [
    {
     "name": "stdout",
     "output_type": "stream",
     "text": [
      "| long_title                                                                             |   Died |   Survived |   Difference |   % Difference |\n",
      "|:---------------------------------------------------------------------------------------|-------:|-----------:|-------------:|---------------:|\n",
      "| Continuous invasive mechanical ventilation for less than 96 consecutive hours          |    235 |          0 |          235 |         inf    |\n",
      "| Insertion of endotracheal tube                                                         |    226 |          0 |          226 |         inf    |\n",
      "| Insertion of Infusion Device into Superior Vena Cava, Percutaneous Approach            |    175 |          0 |          175 |         inf    |\n",
      "| Coronary arteriography using two catheters                                             |    170 |       7953 |        -7783 |         -97.86 |\n",
      "| Venous catheterization, not elsewhere classified                                       |    151 |        936 |         -785 |         -83.87 |\n",
      "| Continuous invasive mechanical ventilation for 96 consecutive hours or more            |    149 |          0 |          149 |         inf    |\n",
      "| Insertion of Endotracheal Airway into Trachea, Via Natural or Artificial Opening       |    138 |          0 |          138 |         inf    |\n",
      "| Cardiopulmonary resuscitation, not otherwise specified                                 |    121 |          0 |          121 |         inf    |\n",
      "| Central venous catheter placement with guidance                                        |    120 |          0 |          120 |         inf    |\n",
      "| Hemodialysis                                                                           |    114 |          0 |          114 |         inf    |\n",
      "| Fluoroscopy of Multiple Coronary Arteries using Other Contrast                         |    112 |       2928 |        -2816 |         -96.17 |\n",
      "| Respiratory Ventilation, 24-96 Consecutive Hours                                       |    110 |          0 |          110 |         inf    |\n",
      "| Arterial catheterization                                                               |    108 |          0 |          108 |         inf    |\n",
      "| Respiratory Ventilation, Greater than 96 Consecutive Hours                             |    106 |          0 |          106 |         inf    |\n",
      "| Introduction of Nutritional Substance into Upper GI, Via Natural or Artificial Opening |    104 |          0 |          104 |         inf    |\n",
      "| Enteral infusion of concentrated nutritional substances                                |    101 |          0 |          101 |         inf    |\n",
      "| Performance of Urinary Filtration, Continuous, Greater than 18 hours Per Day           |     90 |          0 |           90 |         inf    |\n",
      "| Percutaneous transluminal coronary angioplasty [PTCA]                                  |     90 |       4795 |        -4705 |         -98.12 |\n",
      "| Implant of pulsation balloon                                                           |     89 |          0 |           89 |         inf    |\n",
      "| Combined right and left heart cardiac catheterization                                  |     83 |       1706 |        -1623 |         -95.13 |\n",
      "| Measurement of Cardiac Sampling and Pressure, Left Heart, Percutaneous Approach        |      0 |       1063 |        -1063 |        -100    |\n",
      "| Procedure on single vessel                                                             |      0 |       4412 |        -4412 |        -100    |\n",
      "| Single internal mammary-coronary artery bypass                                         |      0 |       1084 |        -1084 |        -100    |\n",
      "| Left heart cardiac catheterization                                                     |      0 |       5230 |        -5230 |        -100    |\n",
      "| Angiocardiography of left heart structures                                             |      0 |       1119 |        -1119 |        -100    |\n",
      "| Insertion of two vascular stents                                                       |      0 |       1255 |        -1255 |        -100    |\n",
      "| Insertion of one vascular stent                                                        |      0 |       3076 |        -3076 |        -100    |\n",
      "| Insertion of non-drug-eluting coronary artery stent(s)                                 |      0 |       1093 |        -1093 |        -100    |\n",
      "| Insertion of drug-eluting coronary artery stent(s)                                     |      0 |       3354 |        -3354 |        -100    |\n",
      "| Extracorporeal circulation auxiliary to open heart surgery                             |      0 |       1342 |        -1342 |        -100    |\n",
      "| Excision or destruction of other lesion or tissue of heart, endovascular approach      |      0 |       1344 |        -1344 |        -100    |\n",
      "| Diagnostic ultrasound of heart                                                         |      0 |       1292 |        -1292 |        -100    |\n",
      "| Coronary arteriography using a single catheter                                         |      0 |        990 |         -990 |        -100    |\n",
      "| Cardiac mapping                                                                        |      0 |        957 |         -957 |        -100    |\n",
      "| Injection or infusion of platelet inhibitor                                            |      0 |       1222 |        -1222 |        -100    |\n",
      "\n",
      "Procedures unique to patients who died:\n",
      "- Continuous invasive mechanical ventilation for 96 consecutive hours or more\n",
      "- Enteral infusion of concentrated nutritional substances\n",
      "- Cardiopulmonary resuscitation, not otherwise specified\n",
      "- Central venous catheter placement with guidance\n",
      "- Insertion of endotracheal tube\n",
      "- Respiratory Ventilation, 24-96 Consecutive Hours\n",
      "- Introduction of Nutritional Substance into Upper GI, Via Natural or Artificial Opening\n",
      "- Arterial catheterization\n",
      "- Respiratory Ventilation, Greater than 96 Consecutive Hours\n",
      "- Insertion of Endotracheal Airway into Trachea, Via Natural or Artificial Opening\n",
      "- Implant of pulsation balloon\n",
      "- Performance of Urinary Filtration, Continuous, Greater than 18 hours Per Day\n",
      "- Hemodialysis\n",
      "- Continuous invasive mechanical ventilation for less than 96 consecutive hours\n",
      "- Insertion of Infusion Device into Superior Vena Cava, Percutaneous Approach\n",
      "\n",
      "Procedures unique to patients who survived:\n",
      "- Angiocardiography of left heart structures\n",
      "- Diagnostic ultrasound of heart\n",
      "- Excision or destruction of other lesion or tissue of heart, endovascular approach\n",
      "- Insertion of non-drug-eluting coronary artery stent(s)\n",
      "- Cardiac mapping\n",
      "- Procedure on single vessel\n",
      "- Left heart cardiac catheterization\n",
      "- Insertion of two vascular stents\n",
      "- Insertion of drug-eluting coronary artery stent(s)\n",
      "- Single internal mammary-coronary artery bypass\n",
      "- Injection or infusion of platelet inhibitor\n",
      "- Insertion of one vascular stent\n",
      "- Coronary arteriography using a single catheter\n",
      "- Extracorporeal circulation auxiliary to open heart surgery\n",
      "- Measurement of Cardiac Sampling and Pressure, Left Heart, Percutaneous Approach\n"
     ]
    }
   ],
   "source": [
    "# Find the top procedures for patients who died and survived\n",
    "top_procedures_death = cardiac_procedures_death['long_title'].value_counts().head(20)\n",
    "top_procedures_survived = cardiac_procedures_survived['long_title'].value_counts().head(20)\n",
    "\n",
    "# Create a DataFrame to hold both sets of data\n",
    "df_comparison = pd.DataFrame({\n",
    "    'Died': top_procedures_death,\n",
    "    'Survived': top_procedures_survived\n",
    "})\n",
    "\n",
    "# Fill NaN values with 0 and sort by the 'Died' column\n",
    "df_comparison = df_comparison.fillna(0).sort_values('Died', ascending=False)\n",
    "\n",
    "# Calculate the difference and percentage\n",
    "df_comparison['Difference'] = df_comparison['Died'] - df_comparison['Survived']\n",
    "df_comparison['% Difference'] = (df_comparison['Difference'] / df_comparison['Survived'] * 100).round(2)\n",
    "\n",
    "# Reorder columns\n",
    "df_comparison = df_comparison[['Died', 'Survived', 'Difference', '% Difference']]\n",
    "\n",
    "# Print the table\n",
    "print(tabulate(df_comparison, headers='keys', tablefmt='pipe', showindex=True))\n",
    "\n",
    "# Find the difference in the names of the top procedures\n",
    "top_procedures_diff_died = set(top_procedures_death.index) - set(top_procedures_survived.index)\n",
    "top_procedures_diff_survived = set(top_procedures_survived.index) - set(top_procedures_death.index)\n",
    "\n",
    "# Print the procedures unique to patients who died\n",
    "print(\"\\nProcedures unique to patients who died:\")\n",
    "for procedure in top_procedures_diff_died:\n",
    "    print(f\"- {procedure}\")\n",
    "\n",
    "# Print the procedures unique to patients who survived\n",
    "print(\"\\nProcedures unique to patients who survived:\")\n",
    "for procedure in top_procedures_diff_survived:\n",
    "    print(f\"- {procedure}\")"
   ]
  },
  {
   "cell_type": "markdown",
   "metadata": {},
   "source": [
    "## Diagnoses for the Cardiac Medical Patients"
   ]
  },
  {
   "cell_type": "code",
   "execution_count": 37,
   "metadata": {},
   "outputs": [],
   "source": [
    "# Diagnosis from patient's hospital stay\n",
    "diagnoses = pd.read_csv(\"/Volumes/Extreme SSD/MIMIC-hosp/diagnoses_icd.csv\")\n",
    "diagnosis_desc = pd.read_csv(\"/Volumes/Extreme SSD/MIMIC-hosp/d_icd_diagnoses.csv\")"
   ]
  },
  {
   "cell_type": "code",
   "execution_count": 38,
   "metadata": {},
   "outputs": [],
   "source": [
    "# Billed Diagnosis Related Group (DRG) codes\n",
    "drgcodes = pd.read_csv(\"/Volumes/Extreme SSD/MIMIC-hosp/drgcodes.csv\")"
   ]
  },
  {
   "cell_type": "code",
   "execution_count": 39,
   "metadata": {},
   "outputs": [
    {
     "data": {
      "text/plain": [
       "(4756326, 5)"
      ]
     },
     "execution_count": 39,
     "metadata": {},
     "output_type": "execute_result"
    }
   ],
   "source": [
    "diagnoses.shape"
   ]
  },
  {
   "cell_type": "code",
   "execution_count": 40,
   "metadata": {},
   "outputs": [
    {
     "data": {
      "text/plain": [
       "(1075981, 11)"
      ]
     },
     "execution_count": 40,
     "metadata": {},
     "output_type": "execute_result"
    }
   ],
   "source": [
    "# Merge CMED patients with diagnoses\n",
    "cardiac_diagnosis = pd.merge(\n",
    "    cmed_patients,\n",
    "    diagnoses,\n",
    "    on=['subject_id', 'hadm_id'],\n",
    "    how='left'\n",
    ")\n",
    "\n",
    "cardiac_diagnosis = pd.merge(cardiac_diagnosis, diagnosis_desc, on=['icd_code', 'icd_version'], how='left')\n",
    "cardiac_diagnosis = pd.merge(cardiac_diagnosis, drgcodes, on=['subject_id', 'hadm_id'], how='left').dropna(subset=['icd_code'])\n",
    "cardiac_diagnosis.shape"
   ]
  },
  {
   "cell_type": "code",
   "execution_count": 41,
   "metadata": {},
   "outputs": [
    {
     "name": "stdout",
     "output_type": "stream",
     "text": [
      "Number of duplicate rows: 0\n"
     ]
    }
   ],
   "source": [
    "# Check for duplicates\n",
    "duplicate_count = cardiac_diagnosis.duplicated().sum()\n",
    "print(f\"Number of duplicate rows: {duplicate_count}\")"
   ]
  },
  {
   "cell_type": "code",
   "execution_count": 42,
   "metadata": {},
   "outputs": [
    {
     "data": {
      "text/plain": [
       "0"
      ]
     },
     "execution_count": 42,
     "metadata": {},
     "output_type": "execute_result"
    }
   ],
   "source": [
    "cardiac_diagnosis['long_title'].isna().sum()"
   ]
  },
  {
   "cell_type": "code",
   "execution_count": 43,
   "metadata": {},
   "outputs": [
    {
     "data": {
      "text/plain": [
       "82149"
      ]
     },
     "execution_count": 43,
     "metadata": {},
     "output_type": "execute_result"
    }
   ],
   "source": [
    "cardiac_diagnosis['description'].isna().sum()"
   ]
  },
  {
   "cell_type": "markdown",
   "metadata": {},
   "source": [
    "Based on the above, the long title will give more information on the diagnosis of the patients as there are a lot of na for the description of the diagnosis."
   ]
  },
  {
   "cell_type": "code",
   "execution_count": 44,
   "metadata": {},
   "outputs": [
    {
     "data": {
      "text/html": [
       "<div>\n",
       "<style scoped>\n",
       "    .dataframe tbody tr th:only-of-type {\n",
       "        vertical-align: middle;\n",
       "    }\n",
       "\n",
       "    .dataframe tbody tr th {\n",
       "        vertical-align: top;\n",
       "    }\n",
       "\n",
       "    .dataframe thead th {\n",
       "        text-align: right;\n",
       "    }\n",
       "</style>\n",
       "<table border=\"1\" class=\"dataframe\">\n",
       "  <thead>\n",
       "    <tr style=\"text-align: right;\">\n",
       "      <th></th>\n",
       "      <th>subject_id</th>\n",
       "      <th>hadm_id</th>\n",
       "      <th>seq_num</th>\n",
       "      <th>icd_code</th>\n",
       "      <th>icd_version</th>\n",
       "      <th>long_title</th>\n",
       "      <th>drg_type</th>\n",
       "      <th>drg_code</th>\n",
       "      <th>description</th>\n",
       "      <th>drg_severity</th>\n",
       "      <th>drg_mortality</th>\n",
       "    </tr>\n",
       "  </thead>\n",
       "  <tbody>\n",
       "    <tr>\n",
       "      <th>0</th>\n",
       "      <td>10000635</td>\n",
       "      <td>26134563</td>\n",
       "      <td>1.0</td>\n",
       "      <td>42789</td>\n",
       "      <td>9.0</td>\n",
       "      <td>Other specified cardiac dysrhythmias</td>\n",
       "      <td>NaN</td>\n",
       "      <td>NaN</td>\n",
       "      <td>NaN</td>\n",
       "      <td>NaN</td>\n",
       "      <td>NaN</td>\n",
       "    </tr>\n",
       "    <tr>\n",
       "      <th>1</th>\n",
       "      <td>10000635</td>\n",
       "      <td>26134563</td>\n",
       "      <td>2.0</td>\n",
       "      <td>25000</td>\n",
       "      <td>9.0</td>\n",
       "      <td>Diabetes mellitus without mention of complicat...</td>\n",
       "      <td>NaN</td>\n",
       "      <td>NaN</td>\n",
       "      <td>NaN</td>\n",
       "      <td>NaN</td>\n",
       "      <td>NaN</td>\n",
       "    </tr>\n",
       "    <tr>\n",
       "      <th>2</th>\n",
       "      <td>10000635</td>\n",
       "      <td>26134563</td>\n",
       "      <td>3.0</td>\n",
       "      <td>4019</td>\n",
       "      <td>9.0</td>\n",
       "      <td>Unspecified essential hypertension</td>\n",
       "      <td>NaN</td>\n",
       "      <td>NaN</td>\n",
       "      <td>NaN</td>\n",
       "      <td>NaN</td>\n",
       "      <td>NaN</td>\n",
       "    </tr>\n",
       "    <tr>\n",
       "      <th>3</th>\n",
       "      <td>10000980</td>\n",
       "      <td>24947999</td>\n",
       "      <td>1.0</td>\n",
       "      <td>42823</td>\n",
       "      <td>9.0</td>\n",
       "      <td>Acute on chronic systolic heart failure</td>\n",
       "      <td>APR</td>\n",
       "      <td>194.0</td>\n",
       "      <td>HEART FAILURE</td>\n",
       "      <td>2.0</td>\n",
       "      <td>3.0</td>\n",
       "    </tr>\n",
       "    <tr>\n",
       "      <th>4</th>\n",
       "      <td>10000980</td>\n",
       "      <td>24947999</td>\n",
       "      <td>1.0</td>\n",
       "      <td>42823</td>\n",
       "      <td>9.0</td>\n",
       "      <td>Acute on chronic systolic heart failure</td>\n",
       "      <td>HCFA</td>\n",
       "      <td>292.0</td>\n",
       "      <td>HEART FAILURE &amp; SHOCK W CC</td>\n",
       "      <td>NaN</td>\n",
       "      <td>NaN</td>\n",
       "    </tr>\n",
       "  </tbody>\n",
       "</table>\n",
       "</div>"
      ],
      "text/plain": [
       "   subject_id   hadm_id  seq_num icd_code  icd_version  \\\n",
       "0    10000635  26134563      1.0    42789          9.0   \n",
       "1    10000635  26134563      2.0    25000          9.0   \n",
       "2    10000635  26134563      3.0     4019          9.0   \n",
       "3    10000980  24947999      1.0    42823          9.0   \n",
       "4    10000980  24947999      1.0    42823          9.0   \n",
       "\n",
       "                                          long_title drg_type  drg_code  \\\n",
       "0               Other specified cardiac dysrhythmias      NaN       NaN   \n",
       "1  Diabetes mellitus without mention of complicat...      NaN       NaN   \n",
       "2                 Unspecified essential hypertension      NaN       NaN   \n",
       "3            Acute on chronic systolic heart failure      APR     194.0   \n",
       "4            Acute on chronic systolic heart failure     HCFA     292.0   \n",
       "\n",
       "                  description  drg_severity  drg_mortality  \n",
       "0                         NaN           NaN            NaN  \n",
       "1                         NaN           NaN            NaN  \n",
       "2                         NaN           NaN            NaN  \n",
       "3               HEART FAILURE           2.0            3.0  \n",
       "4  HEART FAILURE & SHOCK W CC           NaN            NaN  "
      ]
     },
     "execution_count": 44,
     "metadata": {},
     "output_type": "execute_result"
    }
   ],
   "source": [
    "cardiac_diagnosis.head()"
   ]
  },
  {
   "cell_type": "markdown",
   "metadata": {},
   "source": [
    "#### Top diagnosis for all cardiac patients\n",
    "\n",
    "Official title of the diagnosis "
   ]
  },
  {
   "cell_type": "code",
   "execution_count": 45,
   "metadata": {},
   "outputs": [
    {
     "data": {
      "text/plain": [
       "long_title\n",
       "Other and unspecified hyperlipidemia                                                                                      24208\n",
       "Unspecified essential hypertension                                                                                        23583\n",
       "Coronary atherosclerosis of native coronary artery                                                                        23441\n",
       "Congestive heart failure, unspecified                                                                                     20864\n",
       "Atrial fibrillation                                                                                                       17083\n",
       "Hyperlipidemia, unspecified                                                                                               16791\n",
       "Acute kidney failure, unspecified                                                                                         15011\n",
       "Atherosclerotic heart disease of native coronary artery without angina pectoris                                           12287\n",
       "Diabetes mellitus without mention of complication, type II or unspecified type, not stated as uncontrolled                12236\n",
       "Old myocardial infarction                                                                                                 12002\n",
       "Esophageal reflux                                                                                                         11388\n",
       "Personal history of nicotine dependence                                                                                   11121\n",
       "Chronic kidney disease, unspecified                                                                                       11096\n",
       "Hypertensive chronic kidney disease, unspecified, with chronic kidney disease stage I through stage IV, or unspecified     9230\n",
       "Percutaneous transluminal coronary angioplasty status                                                                      8995\n",
       "Essential (primary) hypertension                                                                                           8744\n",
       "Gastro-esophageal reflux disease without esophagitis                                                                       8499\n",
       "Personal history of tobacco use                                                                                            8298\n",
       "Anemia, unspecified                                                                                                        7732\n",
       "Long-term (current) use of anticoagulants                                                                                  7594\n",
       "Name: count, dtype: int64"
      ]
     },
     "execution_count": 45,
     "metadata": {},
     "output_type": "execute_result"
    }
   ],
   "source": [
    "cardiac_diagnosis['long_title'].value_counts().head(20)"
   ]
  },
  {
   "cell_type": "markdown",
   "metadata": {},
   "source": [
    "Description of the top diagnosis for all cardiac patients"
   ]
  },
  {
   "cell_type": "code",
   "execution_count": 46,
   "metadata": {},
   "outputs": [
    {
     "data": {
      "text/plain": [
       "description\n",
       "HEART FAILURE                                                           83384\n",
       "PERCUTANEOUS CORONARY INTERVENTION W/O AMI                              58175\n",
       "PERCUTANEOUS CORONARY INTERVENTION W AMI                                36002\n",
       "CARDIAC ARRHYTHMIA & CONDUCTION DISORDERS                               34774\n",
       "HEART FAILURE & SHOCK W CC                                              33313\n",
       "HEART FAILURE & SHOCK W MCC                                             30946\n",
       "ACUTE MYOCARDIAL INFARCTION                                             28774\n",
       "PERC CARDIOVASC PROC W DRUG-ELUTING STENT W/O MCC                       26887\n",
       "CIRCULATORY DISORDERS EXCEPT AMI, W CARD CATH W/O MCC                   26591\n",
       "CARDIAC CATHETERIZATION FOR CORONARY ARTERY DISEASE                     25262\n",
       "CARDIAC CATHETERIZATION FOR OTHER NON-CORONARY CONDITIONS               21812\n",
       "ACUTE MYOCARDIAL INFARCTION, DISCHARGED ALIVE W MCC                     21437\n",
       "CORONARY BYPASS W AMI OR COMPLEX PDX                                    18592\n",
       "CIRCULATORY DISORDERS EXCEPT AMI, W CARD CATH W MCC                     16119\n",
       "CHEST PAIN                                                              15242\n",
       "PERM CARDIAC PACEMAKER IMPLANT W/O AMI, HEART FAILURE OR SHOCK          14432\n",
       "ANGINA PECTORIS & CORONARY ATHEROSCLEROSIS                              13813\n",
       "CARDIAC ARRHYTHMIA & CONDUCTION DISORDERS W MCC                         13511\n",
       "PERC CARDIOVASC PROC W DRUG-ELUTING STENT W MCC OR 4+ VESSELS/STENTS    13203\n",
       "CARDIAC DEFIBRILLATOR & HEART ASSIST IMPLANT                            13177\n",
       "CARDIAC ARRHYTHMIA & CONDUCTION DISORDERS W CC                          13067\n",
       "CORONARY BYPASS W CARDIAC CATH W/O MCC                                  11275\n",
       "ACUTE MYOCARDIAL INFARCTION, DISCHARGED ALIVE W CC                      10112\n",
       "CARDIAC VALVE & OTH MAJ CARDIOTHORACIC PROC W CARD CATH W MCC            9253\n",
       "CARDIAC VALVE PROCEDURES W AMI OR COMPLEX PDX                            8741\n",
       "SYNCOPE & COLLAPSE                                                       8739\n",
       "PERC CARDIOVASC PROC W/O CORONARY ARTERY STENT W/O MCC                   8560\n",
       "OTHER CIRCULATORY SYSTEM DIAGNOSES                                       8073\n",
       "PERMANENT CARDIAC PACEMAKER IMPLANT W CC                                 7628\n",
       "CARDIAC ARRHYTHMIA & CONDUCTION DISORDERS W/O CC/MCC                     7376\n",
       "Name: count, dtype: int64"
      ]
     },
     "execution_count": 46,
     "metadata": {},
     "output_type": "execute_result"
    }
   ],
   "source": [
    "cardiac_diagnosis['description'].value_counts().head(30)"
   ]
  },
  {
   "cell_type": "markdown",
   "metadata": {},
   "source": [
    "#### Examine top diagnosis for patients who died in the hospital under the Cardiac Medical service"
   ]
  },
  {
   "cell_type": "code",
   "execution_count": 47,
   "metadata": {},
   "outputs": [
    {
     "name": "stdout",
     "output_type": "stream",
     "text": [
      "Number of diagnosis for cardiac patients who died 49689\n",
      "Number of unique patients who died that had diagnosis 1093\n",
      "Percent of patients who died that had diagnosis 99.63536918869644\n",
      "Number of duplicate rows: 0\n"
     ]
    }
   ],
   "source": [
    "# Merge the CMED patients' diagnosis with the patients who died within the discharge time\n",
    "cardiac_diagnosis_death = pd.merge(cardiac_diagnosis, within_discharge, on=['subject_id', 'hadm_id'], how='inner')\n",
    "print(\"Number of diagnosis for cardiac patients who died\", cardiac_diagnosis_death.shape[0])\n",
    "print(\"Number of unique patients who died that had diagnosis\", cardiac_diagnosis_death['subject_id'].nunique())\n",
    "print(\"Percent of patients who died that had diagnosis\", (cardiac_diagnosis_death['subject_id'].nunique() / within_discharge['subject_id'].nunique()) * 100)\n",
    "\n",
    "# Check for duplicates\n",
    "duplicate_count = cardiac_diagnosis_death.duplicated().sum()\n",
    "print(f\"Number of duplicate rows: {duplicate_count}\")\n"
   ]
  },
  {
   "cell_type": "code",
   "execution_count": 48,
   "metadata": {},
   "outputs": [
    {
     "data": {
      "text/plain": [
       "long_title\n",
       "Acute kidney failure, unspecified                                                                                         913\n",
       "Encounter for palliative care                                                                                             863\n",
       "Cardiogenic shock                                                                                                         834\n",
       "Congestive heart failure, unspecified                                                                                     794\n",
       "Acidosis                                                                                                                  699\n",
       "Coronary atherosclerosis of native coronary artery                                                                        607\n",
       "Atrial fibrillation                                                                                                       603\n",
       "Do not resuscitate                                                                                                        565\n",
       "Other and unspecified hyperlipidemia                                                                                      535\n",
       "Do not resuscitate status                                                                                                 502\n",
       "Acute respiratory failure                                                                                                 486\n",
       "Chronic kidney disease, unspecified                                                                                       473\n",
       "Unspecified essential hypertension                                                                                        460\n",
       "Atherosclerotic heart disease of native coronary artery without angina pectoris                                           452\n",
       "Hyperlipidemia, unspecified                                                                                               443\n",
       "Cardiac arrest                                                                                                            382\n",
       "Old myocardial infarction                                                                                                 363\n",
       "Personal history of nicotine dependence                                                                                   362\n",
       "Diabetes mellitus without mention of complication, type II or unspecified type, not stated as uncontrolled                354\n",
       "Hypertensive chronic kidney disease, unspecified, with chronic kidney disease stage I through stage IV, or unspecified    340\n",
       "Name: count, dtype: int64"
      ]
     },
     "execution_count": 48,
     "metadata": {},
     "output_type": "execute_result"
    }
   ],
   "source": [
    "# Top diagnosis for patients who died\n",
    "cardiac_diagnosis_death['long_title'].value_counts().head(20)"
   ]
  },
  {
   "cell_type": "code",
   "execution_count": 49,
   "metadata": {},
   "outputs": [
    {
     "data": {
      "text/plain": [
       "description\n",
       "ACUTE MYOCARDIAL INFARCTION, EXPIRED W MCC                             3252\n",
       "HEART FAILURE                                                          2990\n",
       "ACUTE MYOCARDIAL INFARCTION                                            2772\n",
       "SEPTICEMIA & DISSEMINATED INFECTIONS                                   1822\n",
       "HEART FAILURE & SHOCK W MCC                                            1803\n",
       "TRACHEOSTOMY W MV 96+ HOURS W EXTENSIVE PROCEDURE                      1611\n",
       "CARDIAC DEFIBRILLATOR & HEART ASSIST IMPLANT                           1576\n",
       "PERCUTANEOUS CORONARY INTERVENTION W/O AMI                             1369\n",
       "PERCUTANEOUS CORONARY INTERVENTION W AMI                               1200\n",
       "OTHER HEART ASSIST SYSTEM IMPLANT                                       990\n",
       "CARDIAC CATHETERIZATION FOR CORONARY ARTERY DISEASE                     841\n",
       "OTHER MAJOR CARDIOVASCULAR PROCEDURES W MCC                             770\n",
       "RESPIRATORY SYSTEM DIAGNOSIS W VENTILATOR SUPPORT 96+ HOURS             758\n",
       "CARDIAC VALVE & OTH MAJ CARDIOTHORACIC PROC W CARD CATH W MCC           709\n",
       "MAJOR CARDIOVASC PROCEDURES W MCC                                       693\n",
       "CARDIAC ARREST & SHOCK                                                  679\n",
       "OTHER CIRCULATORY SYSTEM DIAGNOSES W MCC                                644\n",
       "INFECTIOUS & PARASITIC DISEASES W O.R. PROCEDURE W MCC                  639\n",
       "ECMO OR TRACH W MV >96 HRS OR PDX EXC FACE, MOUTH & NECK W MAJ O.R.     634\n",
       "SEPTICEMIA OR SEVERE SEPSIS W/O MV 96+ HOURS W MCC                      631\n",
       "Name: count, dtype: int64"
      ]
     },
     "execution_count": 49,
     "metadata": {},
     "output_type": "execute_result"
    }
   ],
   "source": [
    "# Top description for patients who died\n",
    "cardiac_diagnosis_death['description'].value_counts().head(20)"
   ]
  },
  {
   "cell_type": "markdown",
   "metadata": {},
   "source": [
    "#### Cardiac Diagnoses for the Cardiac Medical Patients that had survived more than one year after hosptialization"
   ]
  },
  {
   "cell_type": "code",
   "execution_count": 50,
   "metadata": {},
   "outputs": [
    {
     "name": "stdout",
     "output_type": "stream",
     "text": [
      "Number of diagnosis for cardiac patients who survived 998700\n",
      "Number of unique patients who survived that had diagnosis 23968\n",
      "Percent of patients who survived that had diagnosis 99.94162288382954\n",
      "Number of duplicate rows: 0\n"
     ]
    },
    {
     "data": {
      "text/plain": [
       "long_title\n",
       "Other and unspecified hyperlipidemia                                                                                      23063\n",
       "Unspecified essential hypertension                                                                                        22676\n",
       "Coronary atherosclerosis of native coronary artery                                                                        22236\n",
       "Congestive heart failure, unspecified                                                                                     19214\n",
       "Hyperlipidemia, unspecified                                                                                               16030\n",
       "Atrial fibrillation                                                                                                       15995\n",
       "Acute kidney failure, unspecified                                                                                         13609\n",
       "Atherosclerotic heart disease of native coronary artery without angina pectoris                                           11563\n",
       "Diabetes mellitus without mention of complication, type II or unspecified type, not stated as uncontrolled                11462\n",
       "Old myocardial infarction                                                                                                 11285\n",
       "Esophageal reflux                                                                                                         10817\n",
       "Personal history of nicotine dependence                                                                                   10534\n",
       "Chronic kidney disease, unspecified                                                                                       10171\n",
       "Essential (primary) hypertension                                                                                           8548\n",
       "Percutaneous transluminal coronary angioplasty status                                                                      8530\n",
       "Hypertensive chronic kidney disease, unspecified, with chronic kidney disease stage I through stage IV, or unspecified     8456\n",
       "Gastro-esophageal reflux disease without esophagitis                                                                       8161\n",
       "Personal history of tobacco use                                                                                            7833\n",
       "Anemia, unspecified                                                                                                        7198\n",
       "Long-term (current) use of anticoagulants                                                                                  7099\n",
       "Name: count, dtype: int64"
      ]
     },
     "execution_count": 50,
     "metadata": {},
     "output_type": "execute_result"
    }
   ],
   "source": [
    "# Filter cardiac_diagnosis to include only subject_ids in cardiac_admissions_survived\n",
    "cardiac_diagnosis_survived = cardiac_diagnosis[cardiac_diagnosis['subject_id'].isin(cardiac_admissions_survived['subject_id'])]\n",
    "\n",
    "print(\"Number of diagnosis for cardiac patients who survived\", cardiac_diagnosis_survived.shape[0])\n",
    "print(\"Number of unique patients who survived that had diagnosis\", cardiac_diagnosis_survived['subject_id'].nunique())\n",
    "print(\"Percent of patients who survived that had diagnosis\", (cardiac_diagnosis_survived['subject_id'].nunique() / cardiac_admissions_survived['subject_id'].nunique()) * 100)\n",
    "\n",
    "# Check for duplicates\n",
    "duplicate_count = cardiac_diagnosis_survived.duplicated().sum()\n",
    "print(f\"Number of duplicate rows: {duplicate_count}\")\n",
    "\n",
    "# Top diagnosis for patients who survived\n",
    "cardiac_diagnosis_survived['long_title'].value_counts().head(20)"
   ]
  },
  {
   "cell_type": "code",
   "execution_count": 51,
   "metadata": {},
   "outputs": [
    {
     "data": {
      "text/plain": [
       "description\n",
       "HEART FAILURE                                                           76890\n",
       "PERCUTANEOUS CORONARY INTERVENTION W/O AMI                              55400\n",
       "PERCUTANEOUS CORONARY INTERVENTION W AMI                                34106\n",
       "CARDIAC ARRHYTHMIA & CONDUCTION DISORDERS                               33569\n",
       "HEART FAILURE & SHOCK W CC                                              31433\n",
       "HEART FAILURE & SHOCK W MCC                                             27836\n",
       "PERC CARDIOVASC PROC W DRUG-ELUTING STENT W/O MCC                       26474\n",
       "CIRCULATORY DISORDERS EXCEPT AMI, W CARD CATH W/O MCC                   25762\n",
       "ACUTE MYOCARDIAL INFARCTION                                             25299\n",
       "CARDIAC CATHETERIZATION FOR CORONARY ARTERY DISEASE                     23321\n",
       "CARDIAC CATHETERIZATION FOR OTHER NON-CORONARY CONDITIONS               21247\n",
       "ACUTE MYOCARDIAL INFARCTION, DISCHARGED ALIVE W MCC                     20705\n",
       "CORONARY BYPASS W AMI OR COMPLEX PDX                                    18100\n",
       "CIRCULATORY DISORDERS EXCEPT AMI, W CARD CATH W MCC                     15041\n",
       "CHEST PAIN                                                              15021\n",
       "PERM CARDIAC PACEMAKER IMPLANT W/O AMI, HEART FAILURE OR SHOCK          14089\n",
       "ANGINA PECTORIS & CORONARY ATHEROSCLEROSIS                              13382\n",
       "CARDIAC ARRHYTHMIA & CONDUCTION DISORDERS W CC                          12749\n",
       "CARDIAC ARRHYTHMIA & CONDUCTION DISORDERS W MCC                         12604\n",
       "PERC CARDIOVASC PROC W DRUG-ELUTING STENT W MCC OR 4+ VESSELS/STENTS    12384\n",
       "Name: count, dtype: int64"
      ]
     },
     "execution_count": 51,
     "metadata": {},
     "output_type": "execute_result"
    }
   ],
   "source": [
    "# Top description for patients who survived\n",
    "cardiac_diagnosis_survived['description'].value_counts().head(20)"
   ]
  },
  {
   "cell_type": "markdown",
   "metadata": {},
   "source": [
    "#### Find the similarites and differences between the diagnoses of the patients who died and the patients who survived more than one year after hospitalization"
   ]
  },
  {
   "cell_type": "code",
   "execution_count": 52,
   "metadata": {},
   "outputs": [
    {
     "name": "stdout",
     "output_type": "stream",
     "text": [
      "| long_title                                                                                                             |   Died |   Survived |   Difference |   % Difference |\n",
      "|:-----------------------------------------------------------------------------------------------------------------------|-------:|-----------:|-------------:|---------------:|\n",
      "| Acute kidney failure, unspecified                                                                                      |    913 |      13609 |       -12696 |         -93.29 |\n",
      "| Encounter for palliative care                                                                                          |    863 |          0 |          863 |         inf    |\n",
      "| Cardiogenic shock                                                                                                      |    834 |          0 |          834 |         inf    |\n",
      "| Congestive heart failure, unspecified                                                                                  |    794 |      19214 |       -18420 |         -95.87 |\n",
      "| Acidosis                                                                                                               |    699 |          0 |          699 |         inf    |\n",
      "| Coronary atherosclerosis of native coronary artery                                                                     |    607 |      22236 |       -21629 |         -97.27 |\n",
      "| Atrial fibrillation                                                                                                    |    603 |      15995 |       -15392 |         -96.23 |\n",
      "| Do not resuscitate                                                                                                     |    565 |          0 |          565 |         inf    |\n",
      "| Other and unspecified hyperlipidemia                                                                                   |    535 |      23063 |       -22528 |         -97.68 |\n",
      "| Do not resuscitate status                                                                                              |    502 |          0 |          502 |         inf    |\n",
      "| Acute respiratory failure                                                                                              |    486 |          0 |          486 |         inf    |\n",
      "| Chronic kidney disease, unspecified                                                                                    |    473 |      10171 |        -9698 |         -95.35 |\n",
      "| Unspecified essential hypertension                                                                                     |    460 |      22676 |       -22216 |         -97.97 |\n",
      "| Atherosclerotic heart disease of native coronary artery without angina pectoris                                        |    452 |      11563 |       -11111 |         -96.09 |\n",
      "| Hyperlipidemia, unspecified                                                                                            |    443 |      16030 |       -15587 |         -97.24 |\n",
      "| Cardiac arrest                                                                                                         |    382 |          0 |          382 |         inf    |\n",
      "| Old myocardial infarction                                                                                              |    363 |      11285 |       -10922 |         -96.78 |\n",
      "| Personal history of nicotine dependence                                                                                |    362 |      10534 |       -10172 |         -96.56 |\n",
      "| Diabetes mellitus without mention of complication, type II or unspecified type, not stated as uncontrolled             |    354 |      11462 |       -11108 |         -96.91 |\n",
      "| Hypertensive chronic kidney disease, unspecified, with chronic kidney disease stage I through stage IV, or unspecified |    340 |       8456 |        -8116 |         -95.98 |\n",
      "| Anemia, unspecified                                                                                                    |      0 |       7198 |        -7198 |        -100    |\n",
      "| Esophageal reflux                                                                                                      |      0 |      10817 |       -10817 |        -100    |\n",
      "| Essential (primary) hypertension                                                                                       |      0 |       8548 |        -8548 |        -100    |\n",
      "| Gastro-esophageal reflux disease without esophagitis                                                                   |      0 |       8161 |        -8161 |        -100    |\n",
      "| Long-term (current) use of anticoagulants                                                                              |      0 |       7099 |        -7099 |        -100    |\n",
      "| Percutaneous transluminal coronary angioplasty status                                                                  |      0 |       8530 |        -8530 |        -100    |\n",
      "| Personal history of tobacco use                                                                                        |      0 |       7833 |        -7833 |        -100    |\n",
      "\n",
      "diagnosis unique to patients who died:\n",
      "- Acidosis\n",
      "- Encounter for palliative care\n",
      "- Do not resuscitate\n",
      "- Acute respiratory failure\n",
      "- Cardiogenic shock\n",
      "- Cardiac arrest\n",
      "- Do not resuscitate status\n",
      "\n",
      "diagnosis unique to patients who survived:\n",
      "- Long-term (current) use of anticoagulants\n",
      "- Essential (primary) hypertension\n",
      "- Esophageal reflux\n",
      "- Personal history of tobacco use\n",
      "- Percutaneous transluminal coronary angioplasty status\n",
      "- Anemia, unspecified\n",
      "- Gastro-esophageal reflux disease without esophagitis\n"
     ]
    }
   ],
   "source": [
    "# Find the top diagnosis for patients who died and survived\n",
    "top_diagnosis_death = cardiac_diagnosis_death['long_title'].value_counts().head(20)\n",
    "top_diagnosis_survived = cardiac_diagnosis_survived['long_title'].value_counts().head(20)\n",
    "\n",
    "# Create a DataFrame to hold both sets of data\n",
    "df_comparison = pd.DataFrame({\n",
    "    'Died': top_diagnosis_death,\n",
    "    'Survived': top_diagnosis_survived\n",
    "})\n",
    "\n",
    "# Fill NaN values with 0 and sort by the 'Died' column\n",
    "df_comparison = df_comparison.fillna(0).sort_values('Died', ascending=False)\n",
    "\n",
    "# Calculate the difference and percentage\n",
    "df_comparison['Difference'] = df_comparison['Died'] - df_comparison['Survived']\n",
    "df_comparison['% Difference'] = (df_comparison['Difference'] / df_comparison['Survived'] * 100).round(2)\n",
    "\n",
    "# Reorder columns\n",
    "df_comparison = df_comparison[['Died', 'Survived', 'Difference', '% Difference']]\n",
    "\n",
    "# Print the table\n",
    "print(tabulate(df_comparison, headers='keys', tablefmt='pipe', showindex=True))\n",
    "\n",
    "# Find the difference in the names of the top diagnosis\n",
    "top_diagnosis_diff_died = set(top_diagnosis_death.index) - set(top_diagnosis_survived.index)\n",
    "top_diagnosis_diff_survived = set(top_diagnosis_survived.index) - set(top_diagnosis_death.index)\n",
    "\n",
    "# Print the diagnosis unique to patients who died\n",
    "print(\"\\ndiagnosis unique to patients who died:\")\n",
    "for procedure in top_diagnosis_diff_died:\n",
    "    print(f\"- {procedure}\")\n",
    "\n",
    "# Print the diagnosis unique to patients who survived\n",
    "print(\"\\ndiagnosis unique to patients who survived:\")\n",
    "for procedure in top_diagnosis_diff_survived:\n",
    "    print(f\"- {procedure}\")"
   ]
  },
  {
   "cell_type": "code",
   "execution_count": 53,
   "metadata": {},
   "outputs": [
    {
     "name": "stdout",
     "output_type": "stream",
     "text": [
      "| description                                                          |   Died |   Survived |   Difference |   % Difference |\n",
      "|:---------------------------------------------------------------------|-------:|-----------:|-------------:|---------------:|\n",
      "| ACUTE MYOCARDIAL INFARCTION, EXPIRED W MCC                           |   3252 |          0 |         3252 |         inf    |\n",
      "| HEART FAILURE                                                        |   2990 |      76890 |       -73900 |         -96.11 |\n",
      "| ACUTE MYOCARDIAL INFARCTION                                          |   2772 |      25299 |       -22527 |         -89.04 |\n",
      "| SEPTICEMIA & DISSEMINATED INFECTIONS                                 |   1822 |          0 |         1822 |         inf    |\n",
      "| HEART FAILURE & SHOCK W MCC                                          |   1803 |      27836 |       -26033 |         -93.52 |\n",
      "| TRACHEOSTOMY W MV 96+ HOURS W EXTENSIVE PROCEDURE                    |   1611 |          0 |         1611 |         inf    |\n",
      "| CARDIAC DEFIBRILLATOR & HEART ASSIST IMPLANT                         |   1576 |          0 |         1576 |         inf    |\n",
      "| PERCUTANEOUS CORONARY INTERVENTION W/O AMI                           |   1369 |      55400 |       -54031 |         -97.53 |\n",
      "| PERCUTANEOUS CORONARY INTERVENTION W AMI                             |   1200 |      34106 |       -32906 |         -96.48 |\n",
      "| OTHER HEART ASSIST SYSTEM IMPLANT                                    |    990 |          0 |          990 |         inf    |\n",
      "| CARDIAC CATHETERIZATION FOR CORONARY ARTERY DISEASE                  |    841 |      23321 |       -22480 |         -96.39 |\n",
      "| OTHER MAJOR CARDIOVASCULAR PROCEDURES W MCC                          |    770 |          0 |          770 |         inf    |\n",
      "| RESPIRATORY SYSTEM DIAGNOSIS W VENTILATOR SUPPORT 96+ HOURS          |    758 |          0 |          758 |         inf    |\n",
      "| CARDIAC VALVE & OTH MAJ CARDIOTHORACIC PROC W CARD CATH W MCC        |    709 |          0 |          709 |         inf    |\n",
      "| MAJOR CARDIOVASC PROCEDURES W MCC                                    |    693 |          0 |          693 |         inf    |\n",
      "| CARDIAC ARREST & SHOCK                                               |    679 |          0 |          679 |         inf    |\n",
      "| OTHER CIRCULATORY SYSTEM DIAGNOSES W MCC                             |    644 |          0 |          644 |         inf    |\n",
      "| INFECTIOUS & PARASITIC DISEASES W O.R. PROCEDURE W MCC               |    639 |          0 |          639 |         inf    |\n",
      "| ECMO OR TRACH W MV >96 HRS OR PDX EXC FACE, MOUTH & NECK W MAJ O.R.  |    634 |          0 |          634 |         inf    |\n",
      "| SEPTICEMIA OR SEVERE SEPSIS W/O MV 96+ HOURS W MCC                   |    631 |          0 |          631 |         inf    |\n",
      "| PERM CARDIAC PACEMAKER IMPLANT W/O AMI, HEART FAILURE OR SHOCK       |      0 |      14089 |       -14089 |        -100    |\n",
      "| PERC CARDIOVASC PROC W DRUG-ELUTING STENT W/O MCC                    |      0 |      26474 |       -26474 |        -100    |\n",
      "| PERC CARDIOVASC PROC W DRUG-ELUTING STENT W MCC OR 4+ VESSELS/STENTS |      0 |      12384 |       -12384 |        -100    |\n",
      "| ANGINA PECTORIS & CORONARY ATHEROSCLEROSIS                           |      0 |      13382 |       -13382 |        -100    |\n",
      "| ACUTE MYOCARDIAL INFARCTION, DISCHARGED ALIVE W MCC                  |      0 |      20705 |       -20705 |        -100    |\n",
      "| CORONARY BYPASS W AMI OR COMPLEX PDX                                 |      0 |      18100 |       -18100 |        -100    |\n",
      "| CIRCULATORY DISORDERS EXCEPT AMI, W CARD CATH W/O MCC                |      0 |      25762 |       -25762 |        -100    |\n",
      "| CIRCULATORY DISORDERS EXCEPT AMI, W CARD CATH W MCC                  |      0 |      15041 |       -15041 |        -100    |\n",
      "| CHEST PAIN                                                           |      0 |      15021 |       -15021 |        -100    |\n",
      "| CARDIAC CATHETERIZATION FOR OTHER NON-CORONARY CONDITIONS            |      0 |      21247 |       -21247 |        -100    |\n",
      "| CARDIAC ARRHYTHMIA & CONDUCTION DISORDERS W MCC                      |      0 |      12604 |       -12604 |        -100    |\n",
      "| CARDIAC ARRHYTHMIA & CONDUCTION DISORDERS W CC                       |      0 |      12749 |       -12749 |        -100    |\n",
      "| CARDIAC ARRHYTHMIA & CONDUCTION DISORDERS                            |      0 |      33569 |       -33569 |        -100    |\n",
      "| HEART FAILURE & SHOCK W CC                                           |      0 |      31433 |       -31433 |        -100    |\n",
      "\n",
      "description unique to patients who died:\n",
      "- INFECTIOUS & PARASITIC DISEASES W O.R. PROCEDURE W MCC\n",
      "- MAJOR CARDIOVASC PROCEDURES W MCC\n",
      "- OTHER CIRCULATORY SYSTEM DIAGNOSES W MCC\n",
      "- RESPIRATORY SYSTEM DIAGNOSIS W VENTILATOR SUPPORT 96+ HOURS\n",
      "- CARDIAC DEFIBRILLATOR & HEART ASSIST IMPLANT\n",
      "- TRACHEOSTOMY W MV 96+ HOURS W EXTENSIVE PROCEDURE\n",
      "- CARDIAC ARREST & SHOCK\n",
      "- ECMO OR TRACH W MV >96 HRS OR PDX EXC FACE, MOUTH & NECK W MAJ O.R.\n",
      "- ACUTE MYOCARDIAL INFARCTION, EXPIRED W MCC\n",
      "- OTHER MAJOR CARDIOVASCULAR PROCEDURES W MCC\n",
      "- CARDIAC VALVE & OTH MAJ CARDIOTHORACIC PROC W CARD CATH W MCC\n",
      "- SEPTICEMIA OR SEVERE SEPSIS W/O MV 96+ HOURS W MCC\n",
      "- SEPTICEMIA & DISSEMINATED INFECTIONS\n",
      "- OTHER HEART ASSIST SYSTEM IMPLANT\n",
      "\n",
      "description unique to patients who survived:\n",
      "- PERC CARDIOVASC PROC W DRUG-ELUTING STENT W MCC OR 4+ VESSELS/STENTS\n",
      "- CARDIAC ARRHYTHMIA & CONDUCTION DISORDERS W CC\n",
      "- CHEST PAIN\n",
      "- HEART FAILURE & SHOCK W CC\n",
      "- PERM CARDIAC PACEMAKER IMPLANT W/O AMI, HEART FAILURE OR SHOCK\n",
      "- CIRCULATORY DISORDERS EXCEPT AMI, W CARD CATH W MCC\n",
      "- CIRCULATORY DISORDERS EXCEPT AMI, W CARD CATH W/O MCC\n",
      "- CARDIAC CATHETERIZATION FOR OTHER NON-CORONARY CONDITIONS\n",
      "- ANGINA PECTORIS & CORONARY ATHEROSCLEROSIS\n",
      "- CARDIAC ARRHYTHMIA & CONDUCTION DISORDERS\n",
      "- ACUTE MYOCARDIAL INFARCTION, DISCHARGED ALIVE W MCC\n",
      "- PERC CARDIOVASC PROC W DRUG-ELUTING STENT W/O MCC\n",
      "- CARDIAC ARRHYTHMIA & CONDUCTION DISORDERS W MCC\n",
      "- CORONARY BYPASS W AMI OR COMPLEX PDX\n"
     ]
    }
   ],
   "source": [
    "# Find the top description for patients who died and survived\n",
    "top_description_death = cardiac_diagnosis_death['description'].value_counts().head(20)\n",
    "top_description_survived = cardiac_diagnosis_survived['description'].value_counts().head(20)\n",
    "\n",
    "# Create a DataFrame to hold both sets of data\n",
    "df_comparison = pd.DataFrame({\n",
    "    'Died': top_description_death,\n",
    "    'Survived': top_description_survived\n",
    "})\n",
    "\n",
    "# Fill NaN values with 0 and sort by the 'Died' column\n",
    "df_comparison = df_comparison.fillna(0).sort_values('Died', ascending=False)\n",
    "\n",
    "# Calculate the difference and percentage\n",
    "df_comparison['Difference'] = df_comparison['Died'] - df_comparison['Survived']\n",
    "df_comparison['% Difference'] = (df_comparison['Difference'] / df_comparison['Survived'] * 100).round(2)\n",
    "\n",
    "# Reorder columns\n",
    "df_comparison = df_comparison[['Died', 'Survived', 'Difference', '% Difference']]\n",
    "\n",
    "# Print the table\n",
    "print(tabulate(df_comparison, headers='keys', tablefmt='pipe', showindex=True))\n",
    "\n",
    "# Find the difference in the names of the top description\n",
    "top_description_diff_died = set(top_description_death.index) - set(top_description_survived.index)\n",
    "top_description_diff_survived = set(top_description_survived.index) - set(top_description_death.index)\n",
    "\n",
    "# Print the description unique to patients who died\n",
    "print(\"\\ndescription unique to patients who died:\")\n",
    "for procedure in top_description_diff_died:\n",
    "    print(f\"- {procedure}\")\n",
    "\n",
    "# Print the description unique to patients who survived\n",
    "print(\"\\ndescription unique to patients who survived:\")\n",
    "for procedure in top_description_diff_survived:\n",
    "    print(f\"- {procedure}\")"
   ]
  },
  {
   "cell_type": "markdown",
   "metadata": {},
   "source": [
    "## Prescriptions for the Cardiac Medical Patients"
   ]
  },
  {
   "cell_type": "code",
   "execution_count": 54,
   "metadata": {},
   "outputs": [],
   "source": [
    "prescriptions = pd.read_csv(\"/Volumes/Extreme SSD/MIMIC-hosp/prescriptions.csv\")"
   ]
  },
  {
   "cell_type": "code",
   "execution_count": 55,
   "metadata": {},
   "outputs": [
    {
     "data": {
      "text/plain": [
       "(15416708, 21)"
      ]
     },
     "execution_count": 55,
     "metadata": {},
     "output_type": "execute_result"
    }
   ],
   "source": [
    "prescriptions.shape"
   ]
  },
  {
   "cell_type": "code",
   "execution_count": 56,
   "metadata": {},
   "outputs": [
    {
     "data": {
      "text/html": [
       "<div>\n",
       "<style scoped>\n",
       "    .dataframe tbody tr th:only-of-type {\n",
       "        vertical-align: middle;\n",
       "    }\n",
       "\n",
       "    .dataframe tbody tr th {\n",
       "        vertical-align: top;\n",
       "    }\n",
       "\n",
       "    .dataframe thead th {\n",
       "        text-align: right;\n",
       "    }\n",
       "</style>\n",
       "<table border=\"1\" class=\"dataframe\">\n",
       "  <thead>\n",
       "    <tr style=\"text-align: right;\">\n",
       "      <th></th>\n",
       "      <th>subject_id</th>\n",
       "      <th>hadm_id</th>\n",
       "      <th>pharmacy_id</th>\n",
       "      <th>poe_id</th>\n",
       "      <th>poe_seq</th>\n",
       "      <th>order_provider_id</th>\n",
       "      <th>starttime</th>\n",
       "      <th>stoptime</th>\n",
       "      <th>drug_type</th>\n",
       "      <th>drug</th>\n",
       "      <th>...</th>\n",
       "      <th>gsn</th>\n",
       "      <th>ndc</th>\n",
       "      <th>prod_strength</th>\n",
       "      <th>form_rx</th>\n",
       "      <th>dose_val_rx</th>\n",
       "      <th>dose_unit_rx</th>\n",
       "      <th>form_val_disp</th>\n",
       "      <th>form_unit_disp</th>\n",
       "      <th>doses_per_24_hrs</th>\n",
       "      <th>route</th>\n",
       "    </tr>\n",
       "  </thead>\n",
       "  <tbody>\n",
       "    <tr>\n",
       "      <th>0</th>\n",
       "      <td>10000032</td>\n",
       "      <td>22595853</td>\n",
       "      <td>11700683</td>\n",
       "      <td>10000032-34</td>\n",
       "      <td>34.0</td>\n",
       "      <td>P76JEQ</td>\n",
       "      <td>2180-05-07 01:00:00</td>\n",
       "      <td>2180-05-07 22:00:00</td>\n",
       "      <td>MAIN</td>\n",
       "      <td>Acetaminophen</td>\n",
       "      <td>...</td>\n",
       "      <td>004490</td>\n",
       "      <td>9.041989e+08</td>\n",
       "      <td>500mg Tablet</td>\n",
       "      <td>NaN</td>\n",
       "      <td>500</td>\n",
       "      <td>mg</td>\n",
       "      <td>1</td>\n",
       "      <td>TAB</td>\n",
       "      <td>NaN</td>\n",
       "      <td>PO/NG</td>\n",
       "    </tr>\n",
       "    <tr>\n",
       "      <th>1</th>\n",
       "      <td>10000032</td>\n",
       "      <td>22595853</td>\n",
       "      <td>14779570</td>\n",
       "      <td>10000032-22</td>\n",
       "      <td>22.0</td>\n",
       "      <td>P76JEQ</td>\n",
       "      <td>2180-05-07 00:00:00</td>\n",
       "      <td>2180-05-07 22:00:00</td>\n",
       "      <td>MAIN</td>\n",
       "      <td>Sodium Chloride 0.9%  Flush</td>\n",
       "      <td>...</td>\n",
       "      <td>NaN</td>\n",
       "      <td>0.000000e+00</td>\n",
       "      <td>10 mL Syringe</td>\n",
       "      <td>NaN</td>\n",
       "      <td>3</td>\n",
       "      <td>mL</td>\n",
       "      <td>0.3</td>\n",
       "      <td>SYR</td>\n",
       "      <td>3.0</td>\n",
       "      <td>IV</td>\n",
       "    </tr>\n",
       "    <tr>\n",
       "      <th>2</th>\n",
       "      <td>10000032</td>\n",
       "      <td>22595853</td>\n",
       "      <td>19796602</td>\n",
       "      <td>10000032-50</td>\n",
       "      <td>50.0</td>\n",
       "      <td>P260SK</td>\n",
       "      <td>2180-05-08 08:00:00</td>\n",
       "      <td>2180-05-07 22:00:00</td>\n",
       "      <td>MAIN</td>\n",
       "      <td>Furosemide</td>\n",
       "      <td>...</td>\n",
       "      <td>008209</td>\n",
       "      <td>5.107901e+10</td>\n",
       "      <td>40mg Tablet</td>\n",
       "      <td>NaN</td>\n",
       "      <td>40</td>\n",
       "      <td>mg</td>\n",
       "      <td>1</td>\n",
       "      <td>TAB</td>\n",
       "      <td>1.0</td>\n",
       "      <td>PO/NG</td>\n",
       "    </tr>\n",
       "    <tr>\n",
       "      <th>3</th>\n",
       "      <td>10000032</td>\n",
       "      <td>22595853</td>\n",
       "      <td>20256254</td>\n",
       "      <td>10000032-32</td>\n",
       "      <td>32.0</td>\n",
       "      <td>P76JEQ</td>\n",
       "      <td>2180-05-07 01:00:00</td>\n",
       "      <td>2180-05-07 22:00:00</td>\n",
       "      <td>MAIN</td>\n",
       "      <td>Raltegravir</td>\n",
       "      <td>...</td>\n",
       "      <td>063231</td>\n",
       "      <td>6.022761e+06</td>\n",
       "      <td>400 mg Tablet</td>\n",
       "      <td>NaN</td>\n",
       "      <td>400</td>\n",
       "      <td>mg</td>\n",
       "      <td>1</td>\n",
       "      <td>TAB</td>\n",
       "      <td>2.0</td>\n",
       "      <td>PO</td>\n",
       "    </tr>\n",
       "    <tr>\n",
       "      <th>4</th>\n",
       "      <td>10000032</td>\n",
       "      <td>22595853</td>\n",
       "      <td>28781051</td>\n",
       "      <td>10000032-27</td>\n",
       "      <td>27.0</td>\n",
       "      <td>P76JEQ</td>\n",
       "      <td>2180-05-07 00:00:00</td>\n",
       "      <td>2180-05-07 22:00:00</td>\n",
       "      <td>MAIN</td>\n",
       "      <td>Heparin</td>\n",
       "      <td>...</td>\n",
       "      <td>006549</td>\n",
       "      <td>6.332303e+10</td>\n",
       "      <td>5000 Units / mL- 1mL Vial</td>\n",
       "      <td>NaN</td>\n",
       "      <td>5000</td>\n",
       "      <td>UNIT</td>\n",
       "      <td>1</td>\n",
       "      <td>mL</td>\n",
       "      <td>3.0</td>\n",
       "      <td>SC</td>\n",
       "    </tr>\n",
       "  </tbody>\n",
       "</table>\n",
       "<p>5 rows × 21 columns</p>\n",
       "</div>"
      ],
      "text/plain": [
       "   subject_id   hadm_id  pharmacy_id       poe_id  poe_seq order_provider_id  \\\n",
       "0    10000032  22595853     11700683  10000032-34     34.0            P76JEQ   \n",
       "1    10000032  22595853     14779570  10000032-22     22.0            P76JEQ   \n",
       "2    10000032  22595853     19796602  10000032-50     50.0            P260SK   \n",
       "3    10000032  22595853     20256254  10000032-32     32.0            P76JEQ   \n",
       "4    10000032  22595853     28781051  10000032-27     27.0            P76JEQ   \n",
       "\n",
       "             starttime             stoptime drug_type  \\\n",
       "0  2180-05-07 01:00:00  2180-05-07 22:00:00      MAIN   \n",
       "1  2180-05-07 00:00:00  2180-05-07 22:00:00      MAIN   \n",
       "2  2180-05-08 08:00:00  2180-05-07 22:00:00      MAIN   \n",
       "3  2180-05-07 01:00:00  2180-05-07 22:00:00      MAIN   \n",
       "4  2180-05-07 00:00:00  2180-05-07 22:00:00      MAIN   \n",
       "\n",
       "                          drug  ...     gsn           ndc  \\\n",
       "0                Acetaminophen  ...  004490  9.041989e+08   \n",
       "1  Sodium Chloride 0.9%  Flush  ...     NaN  0.000000e+00   \n",
       "2                   Furosemide  ...  008209  5.107901e+10   \n",
       "3                  Raltegravir  ...  063231  6.022761e+06   \n",
       "4                      Heparin  ...  006549  6.332303e+10   \n",
       "\n",
       "               prod_strength form_rx dose_val_rx dose_unit_rx form_val_disp  \\\n",
       "0               500mg Tablet     NaN         500           mg             1   \n",
       "1              10 mL Syringe     NaN           3           mL           0.3   \n",
       "2                40mg Tablet     NaN          40           mg             1   \n",
       "3              400 mg Tablet     NaN         400           mg             1   \n",
       "4  5000 Units / mL- 1mL Vial     NaN        5000         UNIT             1   \n",
       "\n",
       "  form_unit_disp doses_per_24_hrs  route  \n",
       "0            TAB              NaN  PO/NG  \n",
       "1            SYR              3.0     IV  \n",
       "2            TAB              1.0  PO/NG  \n",
       "3            TAB              2.0     PO  \n",
       "4             mL              3.0     SC  \n",
       "\n",
       "[5 rows x 21 columns]"
      ]
     },
     "execution_count": 56,
     "metadata": {},
     "output_type": "execute_result"
    }
   ],
   "source": [
    "prescriptions.head()"
   ]
  },
  {
   "cell_type": "code",
   "execution_count": 57,
   "metadata": {},
   "outputs": [],
   "source": [
    "# Merge CMED patients with prescriptions\n",
    "cardiac_prescriptions = pd.merge(\n",
    "    cmed_patients,\n",
    "    prescriptions,\n",
    "    on=['subject_id', 'hadm_id'],\n",
    "    how='left'\n",
    ")"
   ]
  },
  {
   "cell_type": "code",
   "execution_count": 58,
   "metadata": {},
   "outputs": [
    {
     "name": "stdout",
     "output_type": "stream",
     "text": [
      "<class 'pandas.core.frame.DataFrame'>\n",
      "RangeIndex: 2079117 entries, 0 to 2079116\n",
      "Data columns (total 21 columns):\n",
      " #   Column             Dtype  \n",
      "---  ------             -----  \n",
      " 0   subject_id         int64  \n",
      " 1   hadm_id            int64  \n",
      " 2   pharmacy_id        float64\n",
      " 3   poe_id             object \n",
      " 4   poe_seq            float64\n",
      " 5   order_provider_id  object \n",
      " 6   starttime          object \n",
      " 7   stoptime           object \n",
      " 8   drug_type          object \n",
      " 9   drug               object \n",
      " 10  formulary_drug_cd  object \n",
      " 11  gsn                object \n",
      " 12  ndc                float64\n",
      " 13  prod_strength      object \n",
      " 14  form_rx            object \n",
      " 15  dose_val_rx        object \n",
      " 16  dose_unit_rx       object \n",
      " 17  form_val_disp      object \n",
      " 18  form_unit_disp     object \n",
      " 19  doses_per_24_hrs   float64\n",
      " 20  route              object \n",
      "dtypes: float64(4), int64(2), object(15)\n",
      "memory usage: 333.1+ MB\n"
     ]
    }
   ],
   "source": [
    "cardiac_prescriptions.info()"
   ]
  },
  {
   "cell_type": "code",
   "execution_count": 59,
   "metadata": {},
   "outputs": [
    {
     "data": {
      "text/plain": [
       "(2079117, 21)"
      ]
     },
     "execution_count": 59,
     "metadata": {},
     "output_type": "execute_result"
    }
   ],
   "source": [
    "cardiac_prescriptions.shape"
   ]
  },
  {
   "cell_type": "code",
   "execution_count": 60,
   "metadata": {},
   "outputs": [
    {
     "name": "stdout",
     "output_type": "stream",
     "text": [
      "Number of duplicate rows: 0\n"
     ]
    }
   ],
   "source": [
    "# Check for duplicates\n",
    "duplicate_count = cardiac_prescriptions.duplicated().sum()\n",
    "print(f\"Number of duplicate rows: {duplicate_count}\")"
   ]
  },
  {
   "cell_type": "code",
   "execution_count": 61,
   "metadata": {},
   "outputs": [
    {
     "data": {
      "text/html": [
       "<div>\n",
       "<style scoped>\n",
       "    .dataframe tbody tr th:only-of-type {\n",
       "        vertical-align: middle;\n",
       "    }\n",
       "\n",
       "    .dataframe tbody tr th {\n",
       "        vertical-align: top;\n",
       "    }\n",
       "\n",
       "    .dataframe thead th {\n",
       "        text-align: right;\n",
       "    }\n",
       "</style>\n",
       "<table border=\"1\" class=\"dataframe\">\n",
       "  <thead>\n",
       "    <tr style=\"text-align: right;\">\n",
       "      <th></th>\n",
       "      <th>subject_id</th>\n",
       "      <th>hadm_id</th>\n",
       "      <th>pharmacy_id</th>\n",
       "      <th>poe_id</th>\n",
       "      <th>poe_seq</th>\n",
       "      <th>order_provider_id</th>\n",
       "      <th>starttime</th>\n",
       "      <th>stoptime</th>\n",
       "      <th>drug_type</th>\n",
       "      <th>drug</th>\n",
       "      <th>...</th>\n",
       "      <th>gsn</th>\n",
       "      <th>ndc</th>\n",
       "      <th>prod_strength</th>\n",
       "      <th>form_rx</th>\n",
       "      <th>dose_val_rx</th>\n",
       "      <th>dose_unit_rx</th>\n",
       "      <th>form_val_disp</th>\n",
       "      <th>form_unit_disp</th>\n",
       "      <th>doses_per_24_hrs</th>\n",
       "      <th>route</th>\n",
       "    </tr>\n",
       "  </thead>\n",
       "  <tbody>\n",
       "    <tr>\n",
       "      <th>0</th>\n",
       "      <td>10000635</td>\n",
       "      <td>26134563</td>\n",
       "      <td>3631616.0</td>\n",
       "      <td>10000635-27</td>\n",
       "      <td>27.0</td>\n",
       "      <td>P21TWC</td>\n",
       "      <td>2136-06-19 15:00:00</td>\n",
       "      <td>2136-06-20 16:00:00</td>\n",
       "      <td>MAIN</td>\n",
       "      <td>Glucagon</td>\n",
       "      <td>...</td>\n",
       "      <td>041660</td>\n",
       "      <td>5.539000e+10</td>\n",
       "      <td>1mg Vial</td>\n",
       "      <td>NaN</td>\n",
       "      <td>1</td>\n",
       "      <td>mg</td>\n",
       "      <td>1</td>\n",
       "      <td>VIAL</td>\n",
       "      <td>NaN</td>\n",
       "      <td>IM</td>\n",
       "    </tr>\n",
       "    <tr>\n",
       "      <th>1</th>\n",
       "      <td>10000635</td>\n",
       "      <td>26134563</td>\n",
       "      <td>7995281.0</td>\n",
       "      <td>10000635-22</td>\n",
       "      <td>22.0</td>\n",
       "      <td>P21TWC</td>\n",
       "      <td>2136-06-19 15:00:00</td>\n",
       "      <td>2136-06-20 16:00:00</td>\n",
       "      <td>MAIN</td>\n",
       "      <td>Potassium Chloride</td>\n",
       "      <td>...</td>\n",
       "      <td>001275</td>\n",
       "      <td>2.450041e+08</td>\n",
       "      <td>10mEq ER Tablet</td>\n",
       "      <td>NaN</td>\n",
       "      <td>20</td>\n",
       "      <td>mEq</td>\n",
       "      <td>2</td>\n",
       "      <td>TAB</td>\n",
       "      <td>NaN</td>\n",
       "      <td>PO</td>\n",
       "    </tr>\n",
       "    <tr>\n",
       "      <th>2</th>\n",
       "      <td>10000635</td>\n",
       "      <td>26134563</td>\n",
       "      <td>8378276.0</td>\n",
       "      <td>10000635-11</td>\n",
       "      <td>11.0</td>\n",
       "      <td>P21TWC</td>\n",
       "      <td>2136-06-19 15:00:00</td>\n",
       "      <td>2136-06-20 16:00:00</td>\n",
       "      <td>MAIN</td>\n",
       "      <td>Influenza Virus Vaccine</td>\n",
       "      <td>...</td>\n",
       "      <td>071215</td>\n",
       "      <td>4.928100e+10</td>\n",
       "      <td>0.5 mL Syringe</td>\n",
       "      <td>NaN</td>\n",
       "      <td>0.5</td>\n",
       "      <td>mL</td>\n",
       "      <td>1</td>\n",
       "      <td>SYR</td>\n",
       "      <td>0.0</td>\n",
       "      <td>IM</td>\n",
       "    </tr>\n",
       "    <tr>\n",
       "      <th>3</th>\n",
       "      <td>10000635</td>\n",
       "      <td>26134563</td>\n",
       "      <td>10008278.0</td>\n",
       "      <td>10000635-20</td>\n",
       "      <td>20.0</td>\n",
       "      <td>P21TWC</td>\n",
       "      <td>2136-06-19 15:00:00</td>\n",
       "      <td>2136-06-20 16:00:00</td>\n",
       "      <td>MAIN</td>\n",
       "      <td>Aspirin EC</td>\n",
       "      <td>...</td>\n",
       "      <td>004381</td>\n",
       "      <td>1.771400e+10</td>\n",
       "      <td>325mg Tab</td>\n",
       "      <td>NaN</td>\n",
       "      <td>325</td>\n",
       "      <td>mg</td>\n",
       "      <td>1</td>\n",
       "      <td>TAB</td>\n",
       "      <td>1.0</td>\n",
       "      <td>PO</td>\n",
       "    </tr>\n",
       "    <tr>\n",
       "      <th>4</th>\n",
       "      <td>10000635</td>\n",
       "      <td>26134563</td>\n",
       "      <td>10749812.0</td>\n",
       "      <td>10000635-19</td>\n",
       "      <td>19.0</td>\n",
       "      <td>P21TWC</td>\n",
       "      <td>2136-06-19 15:00:00</td>\n",
       "      <td>2136-06-20 16:00:00</td>\n",
       "      <td>MAIN</td>\n",
       "      <td>Sodium Chloride 0.9%  Flush</td>\n",
       "      <td>...</td>\n",
       "      <td>NaN</td>\n",
       "      <td>0.000000e+00</td>\n",
       "      <td>10 mL Syringe</td>\n",
       "      <td>NaN</td>\n",
       "      <td>3</td>\n",
       "      <td>mL</td>\n",
       "      <td>0.3</td>\n",
       "      <td>SYR</td>\n",
       "      <td>3.0</td>\n",
       "      <td>IV</td>\n",
       "    </tr>\n",
       "  </tbody>\n",
       "</table>\n",
       "<p>5 rows × 21 columns</p>\n",
       "</div>"
      ],
      "text/plain": [
       "   subject_id   hadm_id  pharmacy_id       poe_id  poe_seq order_provider_id  \\\n",
       "0    10000635  26134563    3631616.0  10000635-27     27.0            P21TWC   \n",
       "1    10000635  26134563    7995281.0  10000635-22     22.0            P21TWC   \n",
       "2    10000635  26134563    8378276.0  10000635-11     11.0            P21TWC   \n",
       "3    10000635  26134563   10008278.0  10000635-20     20.0            P21TWC   \n",
       "4    10000635  26134563   10749812.0  10000635-19     19.0            P21TWC   \n",
       "\n",
       "             starttime             stoptime drug_type  \\\n",
       "0  2136-06-19 15:00:00  2136-06-20 16:00:00      MAIN   \n",
       "1  2136-06-19 15:00:00  2136-06-20 16:00:00      MAIN   \n",
       "2  2136-06-19 15:00:00  2136-06-20 16:00:00      MAIN   \n",
       "3  2136-06-19 15:00:00  2136-06-20 16:00:00      MAIN   \n",
       "4  2136-06-19 15:00:00  2136-06-20 16:00:00      MAIN   \n",
       "\n",
       "                          drug  ...     gsn           ndc    prod_strength  \\\n",
       "0                     Glucagon  ...  041660  5.539000e+10         1mg Vial   \n",
       "1           Potassium Chloride  ...  001275  2.450041e+08  10mEq ER Tablet   \n",
       "2      Influenza Virus Vaccine  ...  071215  4.928100e+10   0.5 mL Syringe   \n",
       "3                   Aspirin EC  ...  004381  1.771400e+10        325mg Tab   \n",
       "4  Sodium Chloride 0.9%  Flush  ...     NaN  0.000000e+00    10 mL Syringe   \n",
       "\n",
       "  form_rx dose_val_rx dose_unit_rx form_val_disp form_unit_disp  \\\n",
       "0     NaN           1           mg             1           VIAL   \n",
       "1     NaN          20          mEq             2            TAB   \n",
       "2     NaN         0.5           mL             1            SYR   \n",
       "3     NaN         325           mg             1            TAB   \n",
       "4     NaN           3           mL           0.3            SYR   \n",
       "\n",
       "  doses_per_24_hrs  route  \n",
       "0              NaN     IM  \n",
       "1              NaN     PO  \n",
       "2              0.0     IM  \n",
       "3              1.0     PO  \n",
       "4              3.0     IV  \n",
       "\n",
       "[5 rows x 21 columns]"
      ]
     },
     "execution_count": 61,
     "metadata": {},
     "output_type": "execute_result"
    }
   ],
   "source": [
    "cardiac_prescriptions.head()"
   ]
  },
  {
   "cell_type": "code",
   "execution_count": 62,
   "metadata": {},
   "outputs": [
    {
     "data": {
      "text/plain": [
       "drug\n",
       "Potassium Chloride             112243\n",
       "Furosemide                     100735\n",
       "Insulin                         84869\n",
       "Sodium Chloride 0.9%  Flush     70086\n",
       "Metoprolol Tartrate             60254\n",
       "5% Dextrose                     56820\n",
       "Acetaminophen                   52858\n",
       "0.9% Sodium Chloride            51280\n",
       "Heparin                         49443\n",
       "Warfarin                        39742\n",
       "Aspirin                         39196\n",
       "Magnesium Sulfate               38343\n",
       "Bag                             36643\n",
       "Docusate Sodium                 34810\n",
       "Senna                           33354\n",
       "Atorvastatin                    25993\n",
       "Heparin Sodium                  25211\n",
       "Lisinopril                      24157\n",
       "Iso-Osmotic Dextrose            24108\n",
       "Metoprolol Succinate XL         21893\n",
       "Dextrose 50%                    20387\n",
       "D5W                             18985\n",
       "Vancomycin                      18957\n",
       "Clopidogrel                     18678\n",
       "Amiodarone                      16691\n",
       "Sodium Chloride 0.9%            16676\n",
       "Glucagon                        16585\n",
       "Torsemide                       15395\n",
       "Calcium Gluconate               13997\n",
       "Bisacodyl                       13825\n",
       "Name: count, dtype: int64"
      ]
     },
     "execution_count": 62,
     "metadata": {},
     "output_type": "execute_result"
    }
   ],
   "source": [
    "cardiac_prescriptions['drug'].value_counts().head(30)"
   ]
  },
  {
   "cell_type": "markdown",
   "metadata": {},
   "source": [
    "#### Examine prescriptions for the patients who died in the hospital under the Cardiac Medical service"
   ]
  },
  {
   "cell_type": "code",
   "execution_count": 63,
   "metadata": {},
   "outputs": [
    {
     "name": "stdout",
     "output_type": "stream",
     "text": [
      "Number of prescriptions for cardiac patients who died 142272\n",
      "Number of unique patients who died that had prescriptions 1097\n",
      "Percent of patients who died that had prescriptions 100.0\n",
      "Number of duplicate rows: 0\n"
     ]
    }
   ],
   "source": [
    "# Merge the CMED patients' prescriptions with the patients who died within the discharge time\n",
    "cardiac_prescriptions_death = pd.merge(cardiac_prescriptions, within_discharge, on=['subject_id', 'hadm_id'], how='inner')\n",
    "print(\"Number of prescriptions for cardiac patients who died\", cardiac_prescriptions_death.shape[0])\n",
    "print(\"Number of unique patients who died that had prescriptions\", cardiac_prescriptions_death['subject_id'].nunique())\n",
    "print(\"Percent of patients who died that had prescriptions\", (cardiac_prescriptions_death['subject_id'].nunique() / within_discharge['subject_id'].nunique()) * 100)\n",
    "\n",
    "# Check for duplicates\n",
    "duplicate_count = cardiac_prescriptions_death.duplicated().sum()\n",
    "print(f\"Number of duplicate rows: {duplicate_count}\")"
   ]
  },
  {
   "cell_type": "code",
   "execution_count": 64,
   "metadata": {},
   "outputs": [
    {
     "data": {
      "text/plain": [
       "drug\n",
       "0.9% Sodium Chloride           8866\n",
       "5% Dextrose                    8258\n",
       "Furosemide                     6401\n",
       "Potassium Chloride             5700\n",
       "Bag                            3852\n",
       "Insulin                        3726\n",
       "Sodium Chloride 0.9%  Flush    3507\n",
       "Iso-Osmotic Dextrose           3062\n",
       "Vancomycin                     2682\n",
       "Magnesium Sulfate              2450\n",
       "Metoprolol Tartrate            2359\n",
       "Calcium Gluconate              2337\n",
       "Heparin                        2256\n",
       "Sterile Water                  2077\n",
       "D5W                            1955\n",
       "Heparin Sodium                 1794\n",
       "Acetaminophen                  1784\n",
       "Amiodarone                     1763\n",
       "Sodium Chloride 0.9%           1649\n",
       "Morphine Sulfate               1631\n",
       "Name: count, dtype: int64"
      ]
     },
     "execution_count": 64,
     "metadata": {},
     "output_type": "execute_result"
    }
   ],
   "source": [
    "# Top prescriptions for patients who died\n",
    "cardiac_prescriptions_death['drug'].value_counts().head(20)"
   ]
  },
  {
   "cell_type": "markdown",
   "metadata": {},
   "source": [
    "#### Examine prescriptions for the patients who survived one year after discharge under the Cardiac Medical service"
   ]
  },
  {
   "cell_type": "code",
   "execution_count": 65,
   "metadata": {},
   "outputs": [
    {
     "name": "stdout",
     "output_type": "stream",
     "text": [
      "Number of prescriptions for cardiac patients who survived 1886478\n",
      "Number of unique patients who survived that had prescriptions 23982\n",
      "Percent of patients who survived that had prescriptions 100.0\n",
      "Number of duplicate rows: 0\n"
     ]
    }
   ],
   "source": [
    "# Filter cardiac_prescriptions to include only subject_ids in cardiac_admissions_survived\n",
    "cardiac_prescriptions_survived = cardiac_prescriptions[cardiac_prescriptions['subject_id'].isin(cardiac_admissions_survived['subject_id'])]\n",
    "\n",
    "print(\"Number of prescriptions for cardiac patients who survived\", cardiac_prescriptions_survived.shape[0])\n",
    "print(\"Number of unique patients who survived that had prescriptions\", cardiac_prescriptions_survived['subject_id'].nunique())\n",
    "print(\"Percent of patients who survived that had prescriptions\", (cardiac_prescriptions_survived['subject_id'].nunique() / cardiac_admissions_survived['subject_id'].nunique()) * 100)\n",
    "\n",
    "# Check for duplicates\n",
    "duplicate_count = cardiac_prescriptions_survived.duplicated().sum()\n",
    "print(f\"Number of duplicate rows: {duplicate_count}\")"
   ]
  },
  {
   "cell_type": "code",
   "execution_count": 66,
   "metadata": {},
   "outputs": [
    {
     "data": {
      "text/plain": [
       "drug\n",
       "Potassium Chloride             103495\n",
       "Furosemide                      90909\n",
       "Insulin                         78131\n",
       "Sodium Chloride 0.9%  Flush     65114\n",
       "Metoprolol Tartrate             56719\n",
       "Acetaminophen                   50025\n",
       "5% Dextrose                     47001\n",
       "Heparin                         46051\n",
       "0.9% Sodium Chloride            41403\n",
       "Warfarin                        37690\n",
       "Aspirin                         36928\n",
       "Magnesium Sulfate               35039\n",
       "Docusate Sodium                 32858\n",
       "Bag                             32032\n",
       "Senna                           31168\n",
       "Atorvastatin                    24702\n",
       "Lisinopril                      23465\n",
       "Heparin Sodium                  22860\n",
       "Metoprolol Succinate XL         21108\n",
       "Iso-Osmotic Dextrose            20484\n",
       "Name: count, dtype: int64"
      ]
     },
     "execution_count": 66,
     "metadata": {},
     "output_type": "execute_result"
    }
   ],
   "source": [
    "# Top prescriptions for patients who survived\n",
    "cardiac_prescriptions_survived['drug'].value_counts().head(20)"
   ]
  },
  {
   "cell_type": "markdown",
   "metadata": {},
   "source": [
    "#### Similarity and differences between the prescriptions of the patients who died and the patients who survived more than one year after hospitalization"
   ]
  },
  {
   "cell_type": "code",
   "execution_count": 67,
   "metadata": {},
   "outputs": [
    {
     "name": "stdout",
     "output_type": "stream",
     "text": [
      "| drug                        |   Died |   Survived |   Difference |   % Difference |\n",
      "|:----------------------------|-------:|-----------:|-------------:|---------------:|\n",
      "| 0.9% Sodium Chloride        |   8866 |      41403 |       -32537 |         -78.59 |\n",
      "| 5% Dextrose                 |   8258 |      47001 |       -38743 |         -82.43 |\n",
      "| Furosemide                  |   6401 |      90909 |       -84508 |         -92.96 |\n",
      "| Potassium Chloride          |   5700 |     103495 |       -97795 |         -94.49 |\n",
      "| Bag                         |   3852 |      32032 |       -28180 |         -87.97 |\n",
      "| Insulin                     |   3726 |      78131 |       -74405 |         -95.23 |\n",
      "| Sodium Chloride 0.9%  Flush |   3507 |      65114 |       -61607 |         -94.61 |\n",
      "| Iso-Osmotic Dextrose        |   3062 |      20484 |       -17422 |         -85.05 |\n",
      "| Vancomycin                  |   2682 |          0 |         2682 |         inf    |\n",
      "| Magnesium Sulfate           |   2450 |      35039 |       -32589 |         -93.01 |\n",
      "| Metoprolol Tartrate         |   2359 |      56719 |       -54360 |         -95.84 |\n",
      "| Calcium Gluconate           |   2337 |          0 |         2337 |         inf    |\n",
      "| Heparin                     |   2256 |      46051 |       -43795 |         -95.1  |\n",
      "| Sterile Water               |   2077 |          0 |         2077 |         inf    |\n",
      "| D5W                         |   1955 |          0 |         1955 |         inf    |\n",
      "| Heparin Sodium              |   1794 |      22860 |       -21066 |         -92.15 |\n",
      "| Acetaminophen               |   1784 |      50025 |       -48241 |         -96.43 |\n",
      "| Amiodarone                  |   1763 |          0 |         1763 |         inf    |\n",
      "| Sodium Chloride 0.9%        |   1649 |          0 |         1649 |         inf    |\n",
      "| Morphine Sulfate            |   1631 |          0 |         1631 |         inf    |\n",
      "| Senna                       |      0 |      31168 |       -31168 |        -100    |\n",
      "| Atorvastatin                |      0 |      24702 |       -24702 |        -100    |\n",
      "| Metoprolol Succinate XL     |      0 |      21108 |       -21108 |        -100    |\n",
      "| Lisinopril                  |      0 |      23465 |       -23465 |        -100    |\n",
      "| Aspirin                     |      0 |      36928 |       -36928 |        -100    |\n",
      "| Docusate Sodium             |      0 |      32858 |       -32858 |        -100    |\n",
      "| Warfarin                    |      0 |      37690 |       -37690 |        -100    |\n",
      "\n",
      "prescriptions unique to patients who died:\n",
      "- D5W\n",
      "- Morphine Sulfate\n",
      "- Sodium Chloride 0.9%\n",
      "- Calcium Gluconate\n",
      "- Sterile Water\n",
      "- Vancomycin\n",
      "- Amiodarone\n",
      "\n",
      "prescriptions unique to patients who survived:\n",
      "- Senna\n",
      "- Aspirin\n",
      "- Lisinopril\n",
      "- Atorvastatin\n",
      "- Warfarin\n",
      "- Metoprolol Succinate XL\n",
      "- Docusate Sodium\n"
     ]
    }
   ],
   "source": [
    "# Find the top prescriptions for patients who died and survived\n",
    "top_prescriptions_death = cardiac_prescriptions_death['drug'].value_counts().head(20)\n",
    "top_prescriptions_survived = cardiac_prescriptions_survived['drug'].value_counts().head(20)\n",
    "\n",
    "# Create a DataFrame to hold both sets of data\n",
    "df_comparison = pd.DataFrame({\n",
    "    'Died': top_prescriptions_death,\n",
    "    'Survived': top_prescriptions_survived\n",
    "})\n",
    "\n",
    "# Fill NaN values with 0 and sort by the 'Died' column\n",
    "df_comparison = df_comparison.fillna(0).sort_values('Died', ascending=False)\n",
    "\n",
    "# Calculate the difference and percentage\n",
    "df_comparison['Difference'] = df_comparison['Died'] - df_comparison['Survived']\n",
    "df_comparison['% Difference'] = (df_comparison['Difference'] / df_comparison['Survived'] * 100).round(2)\n",
    "\n",
    "# Reorder columns\n",
    "df_comparison = df_comparison[['Died', 'Survived', 'Difference', '% Difference']]\n",
    "\n",
    "# Print the table\n",
    "print(tabulate(df_comparison, headers='keys', tablefmt='pipe', showindex=True))\n",
    "\n",
    "# Find the difference in the names of the top prescriptions\n",
    "top_prescriptions_diff_died = set(top_prescriptions_death.index) - set(top_prescriptions_survived.index)\n",
    "top_prescriptions_diff_survived = set(top_prescriptions_survived.index) - set(top_prescriptions_death.index)\n",
    "\n",
    "# Print the prescriptions unique to patients who died\n",
    "print(\"\\nprescriptions unique to patients who died:\")\n",
    "for procedure in top_prescriptions_diff_died:\n",
    "    print(f\"- {procedure}\")\n",
    "\n",
    "# Print the prescriptions unique to patients who survived\n",
    "print(\"\\nprescriptions unique to patients who survived:\")\n",
    "for procedure in top_prescriptions_diff_survived:\n",
    "    print(f\"- {procedure}\")"
   ]
  },
  {
   "cell_type": "markdown",
   "metadata": {},
   "source": [
    "### Exploring the Lab Tests for the Cardiac Medical Patients"
   ]
  },
  {
   "cell_type": "code",
   "execution_count": 68,
   "metadata": {},
   "outputs": [],
   "source": [
    "labevents = pd.read_csv(\"/Volumes/Extreme SSD/MIMIC-hosp/labevents.csv\")\n",
    "d_labitems = pd.read_csv(\"/Volumes/Extreme SSD/MIMIC-hosp/d_labitems.csv\")"
   ]
  },
  {
   "cell_type": "code",
   "execution_count": 69,
   "metadata": {},
   "outputs": [
    {
     "data": {
      "text/plain": [
       "(118171367, 16)"
      ]
     },
     "execution_count": 69,
     "metadata": {},
     "output_type": "execute_result"
    }
   ],
   "source": [
    "labevents.shape"
   ]
  },
  {
   "cell_type": "code",
   "execution_count": 70,
   "metadata": {},
   "outputs": [
    {
     "data": {
      "text/plain": [
       "(8145958, 16)"
      ]
     },
     "execution_count": 70,
     "metadata": {},
     "output_type": "execute_result"
    }
   ],
   "source": [
    "# Merge CMED patients with labs\n",
    "cardiac_labs = pd.merge(\n",
    "    cmed_patients,\n",
    "    labevents,\n",
    "    on=['subject_id', 'hadm_id'],\n",
    "    how='left'\n",
    ")\n",
    "\n",
    "\n",
    "cardiac_labs.shape"
   ]
  },
  {
   "cell_type": "code",
   "execution_count": 71,
   "metadata": {},
   "outputs": [
    {
     "data": {
      "text/html": [
       "<div>\n",
       "<style scoped>\n",
       "    .dataframe tbody tr th:only-of-type {\n",
       "        vertical-align: middle;\n",
       "    }\n",
       "\n",
       "    .dataframe tbody tr th {\n",
       "        vertical-align: top;\n",
       "    }\n",
       "\n",
       "    .dataframe thead th {\n",
       "        text-align: right;\n",
       "    }\n",
       "</style>\n",
       "<table border=\"1\" class=\"dataframe\">\n",
       "  <thead>\n",
       "    <tr style=\"text-align: right;\">\n",
       "      <th></th>\n",
       "      <th>itemid</th>\n",
       "      <th>label</th>\n",
       "      <th>fluid</th>\n",
       "      <th>category</th>\n",
       "    </tr>\n",
       "  </thead>\n",
       "  <tbody>\n",
       "    <tr>\n",
       "      <th>0</th>\n",
       "      <td>50801</td>\n",
       "      <td>Alveolar-arterial Gradient</td>\n",
       "      <td>Blood</td>\n",
       "      <td>Blood Gas</td>\n",
       "    </tr>\n",
       "    <tr>\n",
       "      <th>1</th>\n",
       "      <td>50802</td>\n",
       "      <td>Base Excess</td>\n",
       "      <td>Blood</td>\n",
       "      <td>Blood Gas</td>\n",
       "    </tr>\n",
       "    <tr>\n",
       "      <th>2</th>\n",
       "      <td>50803</td>\n",
       "      <td>Calculated Bicarbonate, Whole Blood</td>\n",
       "      <td>Blood</td>\n",
       "      <td>Blood Gas</td>\n",
       "    </tr>\n",
       "    <tr>\n",
       "      <th>3</th>\n",
       "      <td>50804</td>\n",
       "      <td>Calculated Total CO2</td>\n",
       "      <td>Blood</td>\n",
       "      <td>Blood Gas</td>\n",
       "    </tr>\n",
       "    <tr>\n",
       "      <th>4</th>\n",
       "      <td>50805</td>\n",
       "      <td>Carboxyhemoglobin</td>\n",
       "      <td>Blood</td>\n",
       "      <td>Blood Gas</td>\n",
       "    </tr>\n",
       "  </tbody>\n",
       "</table>\n",
       "</div>"
      ],
      "text/plain": [
       "   itemid                                label  fluid   category\n",
       "0   50801           Alveolar-arterial Gradient  Blood  Blood Gas\n",
       "1   50802                          Base Excess  Blood  Blood Gas\n",
       "2   50803  Calculated Bicarbonate, Whole Blood  Blood  Blood Gas\n",
       "3   50804                 Calculated Total CO2  Blood  Blood Gas\n",
       "4   50805                    Carboxyhemoglobin  Blood  Blood Gas"
      ]
     },
     "execution_count": 71,
     "metadata": {},
     "output_type": "execute_result"
    }
   ],
   "source": [
    "d_labitems.head()"
   ]
  },
  {
   "cell_type": "code",
   "execution_count": 72,
   "metadata": {},
   "outputs": [
    {
     "data": {
      "text/plain": [
       "1597"
      ]
     },
     "execution_count": 72,
     "metadata": {},
     "output_type": "execute_result"
    }
   ],
   "source": [
    "cardiac_labs['itemid'].isna().sum()"
   ]
  },
  {
   "cell_type": "code",
   "execution_count": 73,
   "metadata": {},
   "outputs": [
    {
     "data": {
      "text/plain": [
       "1597"
      ]
     },
     "execution_count": 73,
     "metadata": {},
     "output_type": "execute_result"
    }
   ],
   "source": [
    "cardiac_labs['labevent_id'].isna().sum()"
   ]
  },
  {
   "cell_type": "markdown",
   "metadata": {},
   "source": [
    "to understand the true labs we need to drop the rows with na for the itemid and labeventid"
   ]
  },
  {
   "cell_type": "code",
   "execution_count": 74,
   "metadata": {},
   "outputs": [],
   "source": [
    "cardiac_labs.dropna(subset=['itemid'], inplace=True)"
   ]
  },
  {
   "cell_type": "code",
   "execution_count": 75,
   "metadata": {},
   "outputs": [
    {
     "data": {
      "text/plain": [
       "0"
      ]
     },
     "execution_count": 75,
     "metadata": {},
     "output_type": "execute_result"
    }
   ],
   "source": [
    "cardiac_labs['labevent_id'].isna().sum()    "
   ]
  },
  {
   "cell_type": "code",
   "execution_count": 76,
   "metadata": {},
   "outputs": [],
   "source": [
    "# Merge the cardiac labs with the lab items to add the type of test to each row\n",
    "cardiac_labs = pd.merge(cardiac_labs, d_labitems, on='itemid', how='left')"
   ]
  },
  {
   "cell_type": "code",
   "execution_count": 77,
   "metadata": {},
   "outputs": [
    {
     "data": {
      "text/plain": [
       "(8144361, 19)"
      ]
     },
     "execution_count": 77,
     "metadata": {},
     "output_type": "execute_result"
    }
   ],
   "source": [
    "cardiac_labs.shape"
   ]
  },
  {
   "cell_type": "code",
   "execution_count": 78,
   "metadata": {},
   "outputs": [
    {
     "data": {
      "text/html": [
       "<div>\n",
       "<style scoped>\n",
       "    .dataframe tbody tr th:only-of-type {\n",
       "        vertical-align: middle;\n",
       "    }\n",
       "\n",
       "    .dataframe tbody tr th {\n",
       "        vertical-align: top;\n",
       "    }\n",
       "\n",
       "    .dataframe thead th {\n",
       "        text-align: right;\n",
       "    }\n",
       "</style>\n",
       "<table border=\"1\" class=\"dataframe\">\n",
       "  <thead>\n",
       "    <tr style=\"text-align: right;\">\n",
       "      <th></th>\n",
       "      <th>subject_id</th>\n",
       "      <th>hadm_id</th>\n",
       "      <th>labevent_id</th>\n",
       "      <th>specimen_id</th>\n",
       "      <th>itemid</th>\n",
       "      <th>order_provider_id</th>\n",
       "      <th>charttime</th>\n",
       "      <th>storetime</th>\n",
       "      <th>value</th>\n",
       "      <th>valuenum</th>\n",
       "      <th>valueuom</th>\n",
       "      <th>ref_range_lower</th>\n",
       "      <th>ref_range_upper</th>\n",
       "      <th>flag</th>\n",
       "      <th>priority</th>\n",
       "      <th>comments</th>\n",
       "      <th>label</th>\n",
       "      <th>fluid</th>\n",
       "      <th>category</th>\n",
       "    </tr>\n",
       "  </thead>\n",
       "  <tbody>\n",
       "    <tr>\n",
       "      <th>0</th>\n",
       "      <td>10000980</td>\n",
       "      <td>24947999</td>\n",
       "      <td>6931.0</td>\n",
       "      <td>18933938.0</td>\n",
       "      <td>51237.0</td>\n",
       "      <td>NaN</td>\n",
       "      <td>2190-11-07 07:55:00</td>\n",
       "      <td>2190-11-07 09:57:00</td>\n",
       "      <td>1.1</td>\n",
       "      <td>1.1</td>\n",
       "      <td>NaN</td>\n",
       "      <td>0.9</td>\n",
       "      <td>1.1</td>\n",
       "      <td>NaN</td>\n",
       "      <td>STAT</td>\n",
       "      <td>NaN</td>\n",
       "      <td>INR(PT)</td>\n",
       "      <td>Blood</td>\n",
       "      <td>Hematology</td>\n",
       "    </tr>\n",
       "    <tr>\n",
       "      <th>1</th>\n",
       "      <td>10000980</td>\n",
       "      <td>24947999</td>\n",
       "      <td>6932.0</td>\n",
       "      <td>18933938.0</td>\n",
       "      <td>51274.0</td>\n",
       "      <td>NaN</td>\n",
       "      <td>2190-11-07 07:55:00</td>\n",
       "      <td>2190-11-07 09:57:00</td>\n",
       "      <td>12.0</td>\n",
       "      <td>12.0</td>\n",
       "      <td>sec</td>\n",
       "      <td>9.4</td>\n",
       "      <td>12.5</td>\n",
       "      <td>NaN</td>\n",
       "      <td>STAT</td>\n",
       "      <td>NaN</td>\n",
       "      <td>PT</td>\n",
       "      <td>Blood</td>\n",
       "      <td>Hematology</td>\n",
       "    </tr>\n",
       "    <tr>\n",
       "      <th>2</th>\n",
       "      <td>10000980</td>\n",
       "      <td>24947999</td>\n",
       "      <td>6933.0</td>\n",
       "      <td>18933938.0</td>\n",
       "      <td>51275.0</td>\n",
       "      <td>NaN</td>\n",
       "      <td>2190-11-07 07:55:00</td>\n",
       "      <td>2190-11-07 09:57:00</td>\n",
       "      <td>25.1</td>\n",
       "      <td>25.1</td>\n",
       "      <td>sec</td>\n",
       "      <td>25.0</td>\n",
       "      <td>36.5</td>\n",
       "      <td>NaN</td>\n",
       "      <td>STAT</td>\n",
       "      <td>NaN</td>\n",
       "      <td>PTT</td>\n",
       "      <td>Blood</td>\n",
       "      <td>Hematology</td>\n",
       "    </tr>\n",
       "    <tr>\n",
       "      <th>3</th>\n",
       "      <td>10000980</td>\n",
       "      <td>24947999</td>\n",
       "      <td>6934.0</td>\n",
       "      <td>25000799.0</td>\n",
       "      <td>51221.0</td>\n",
       "      <td>NaN</td>\n",
       "      <td>2190-11-07 07:55:00</td>\n",
       "      <td>2190-11-07 09:54:00</td>\n",
       "      <td>26.6</td>\n",
       "      <td>26.6</td>\n",
       "      <td>%</td>\n",
       "      <td>36.0</td>\n",
       "      <td>48.0</td>\n",
       "      <td>abnormal</td>\n",
       "      <td>STAT</td>\n",
       "      <td>NaN</td>\n",
       "      <td>Hematocrit</td>\n",
       "      <td>Blood</td>\n",
       "      <td>Hematology</td>\n",
       "    </tr>\n",
       "    <tr>\n",
       "      <th>4</th>\n",
       "      <td>10000980</td>\n",
       "      <td>24947999</td>\n",
       "      <td>6935.0</td>\n",
       "      <td>25000799.0</td>\n",
       "      <td>51222.0</td>\n",
       "      <td>NaN</td>\n",
       "      <td>2190-11-07 07:55:00</td>\n",
       "      <td>2190-11-07 09:54:00</td>\n",
       "      <td>9.3</td>\n",
       "      <td>9.3</td>\n",
       "      <td>g/dL</td>\n",
       "      <td>12.0</td>\n",
       "      <td>16.0</td>\n",
       "      <td>abnormal</td>\n",
       "      <td>STAT</td>\n",
       "      <td>NaN</td>\n",
       "      <td>Hemoglobin</td>\n",
       "      <td>Blood</td>\n",
       "      <td>Hematology</td>\n",
       "    </tr>\n",
       "  </tbody>\n",
       "</table>\n",
       "</div>"
      ],
      "text/plain": [
       "   subject_id   hadm_id  labevent_id  specimen_id   itemid order_provider_id  \\\n",
       "0    10000980  24947999       6931.0   18933938.0  51237.0               NaN   \n",
       "1    10000980  24947999       6932.0   18933938.0  51274.0               NaN   \n",
       "2    10000980  24947999       6933.0   18933938.0  51275.0               NaN   \n",
       "3    10000980  24947999       6934.0   25000799.0  51221.0               NaN   \n",
       "4    10000980  24947999       6935.0   25000799.0  51222.0               NaN   \n",
       "\n",
       "             charttime            storetime value  valuenum valueuom  \\\n",
       "0  2190-11-07 07:55:00  2190-11-07 09:57:00   1.1       1.1      NaN   \n",
       "1  2190-11-07 07:55:00  2190-11-07 09:57:00  12.0      12.0      sec   \n",
       "2  2190-11-07 07:55:00  2190-11-07 09:57:00  25.1      25.1      sec   \n",
       "3  2190-11-07 07:55:00  2190-11-07 09:54:00  26.6      26.6        %   \n",
       "4  2190-11-07 07:55:00  2190-11-07 09:54:00   9.3       9.3     g/dL   \n",
       "\n",
       "   ref_range_lower  ref_range_upper      flag priority comments       label  \\\n",
       "0              0.9              1.1       NaN     STAT      NaN     INR(PT)   \n",
       "1              9.4             12.5       NaN     STAT      NaN          PT   \n",
       "2             25.0             36.5       NaN     STAT      NaN         PTT   \n",
       "3             36.0             48.0  abnormal     STAT      NaN  Hematocrit   \n",
       "4             12.0             16.0  abnormal     STAT      NaN  Hemoglobin   \n",
       "\n",
       "   fluid    category  \n",
       "0  Blood  Hematology  \n",
       "1  Blood  Hematology  \n",
       "2  Blood  Hematology  \n",
       "3  Blood  Hematology  \n",
       "4  Blood  Hematology  "
      ]
     },
     "execution_count": 78,
     "metadata": {},
     "output_type": "execute_result"
    }
   ],
   "source": [
    "cardiac_labs.head()"
   ]
  },
  {
   "cell_type": "code",
   "execution_count": 79,
   "metadata": {},
   "outputs": [
    {
     "data": {
      "text/plain": [
       "flag\n",
       "abnormal    0.357251\n",
       "Name: count, dtype: float64"
      ]
     },
     "execution_count": 79,
     "metadata": {},
     "output_type": "execute_result"
    }
   ],
   "source": [
    "cardiac_labs['flag'].value_counts()/ len(cardiac_labs['flag'])"
   ]
  },
  {
   "cell_type": "code",
   "execution_count": 80,
   "metadata": {},
   "outputs": [
    {
     "data": {
      "text/plain": [
       "label\n",
       "Glucose              319266\n",
       "Potassium            291207\n",
       "Sodium               282001\n",
       "Chloride             280458\n",
       "Creatinine           277587\n",
       "Urea Nitrogen        275995\n",
       "Bicarbonate          267733\n",
       "Anion Gap            266749\n",
       "Magnesium            261268\n",
       "Hemoglobin           247825\n",
       "Hematocrit           242542\n",
       "Platelet Count       230928\n",
       "Phosphate            225664\n",
       "Calcium, Total       224166\n",
       "White Blood Cells    221256\n",
       "MCHC                 220700\n",
       "MCV                  220667\n",
       "MCH                  220667\n",
       "Red Blood Cells      220667\n",
       "RDW                  220665\n",
       "Name: count, dtype: int64"
      ]
     },
     "execution_count": 80,
     "metadata": {},
     "output_type": "execute_result"
    }
   ],
   "source": [
    "cardiac_labs['label'].value_counts().head(20)"
   ]
  },
  {
   "cell_type": "markdown",
   "metadata": {},
   "source": [
    "#### Cardiac Lab Tests for the Cardiac Medical Patients that had died in the hospital"
   ]
  },
  {
   "cell_type": "code",
   "execution_count": 81,
   "metadata": {},
   "outputs": [
    {
     "name": "stdout",
     "output_type": "stream",
     "text": [
      "Number of labs for cardiac patients who died 726707\n",
      "Number of unique patients who died that had labs 1075\n",
      "Percent of patients who died that had labs 97.99453053783044\n",
      "Number of duplicate rows: 0\n"
     ]
    }
   ],
   "source": [
    "# Merge the CMED patients' labs with the patients who died within the discharge time\n",
    "cardiac_labs_death = pd.merge(cardiac_labs, within_discharge, on=['subject_id', 'hadm_id'], how='inner')\n",
    "print(\"Number of labs for cardiac patients who died\", cardiac_labs_death.shape[0])\n",
    "print(\"Number of unique patients who died that had labs\", cardiac_labs_death['subject_id'].nunique())\n",
    "print(\"Percent of patients who died that had labs\", (cardiac_labs_death['subject_id'].nunique() / within_discharge['subject_id'].nunique()) * 100)\n",
    "\n",
    "# Check for duplicates\n",
    "duplicate_count = cardiac_labs_death.duplicated().sum()\n",
    "print(f\"Number of duplicate rows: {duplicate_count}\")"
   ]
  },
  {
   "cell_type": "code",
   "execution_count": 82,
   "metadata": {},
   "outputs": [
    {
     "data": {
      "text/plain": [
       "label\n",
       "Glucose                 24582\n",
       "Specimen Type           23934\n",
       "pH                      21370\n",
       "Potassium               19108\n",
       "Sodium                  18830\n",
       "Chloride                18663\n",
       "pO2                     18423\n",
       "Calculated Total CO2    18399\n",
       "Base Excess             18397\n",
       "pCO2                    18394\n",
       "Hemoglobin              18232\n",
       "Creatinine              18087\n",
       "Bicarbonate             18071\n",
       "Urea Nitrogen           18005\n",
       "Anion Gap               17968\n",
       "Magnesium               17748\n",
       "Phosphate               16432\n",
       "Calcium, Total          16348\n",
       "Hematocrit              16121\n",
       "Platelet Count          15062\n",
       "Name: count, dtype: int64"
      ]
     },
     "execution_count": 82,
     "metadata": {},
     "output_type": "execute_result"
    }
   ],
   "source": [
    "# Top labs for patients who died\n",
    "cardiac_labs_death['label'].value_counts().head(20)"
   ]
  },
  {
   "cell_type": "markdown",
   "metadata": {},
   "source": [
    "#### Cardiac Lab Tests for the Cardiac Medical Patients that had survived more than one year after hosptialization"
   ]
  },
  {
   "cell_type": "code",
   "execution_count": 83,
   "metadata": {},
   "outputs": [
    {
     "name": "stdout",
     "output_type": "stream",
     "text": [
      "Number of labs for cardiac patients who died 7208986\n",
      "Number of unique patients who died that had labs 23332\n",
      "Percent of patients who survived that had labs 97.28963389208573\n",
      "Number of duplicate rows: 0\n"
     ]
    }
   ],
   "source": [
    "# Merge the CMED patients' labs with the patients who survived more than one year after discharge\n",
    "cardiac_labs_survived = pd.merge(cardiac_labs, cardiac_admissions_survived, on=['subject_id', 'hadm_id'], how='inner')\n",
    "print(\"Number of labs for cardiac patients who died\", cardiac_labs_survived.shape[0])\n",
    "print(\"Number of unique patients who died that had labs\", cardiac_labs_survived['subject_id'].nunique())\n",
    "print(\"Percent of patients who survived that had labs\", (cardiac_labs_survived['subject_id'].nunique() / cardiac_admissions_survived['subject_id'].nunique()) * 100)\n",
    "\n",
    "# Check for duplicates\n",
    "duplicate_count = cardiac_labs_survived.duplicated().sum()\n",
    "print(f\"Number of duplicate rows: {duplicate_count}\")"
   ]
  },
  {
   "cell_type": "code",
   "execution_count": 84,
   "metadata": {},
   "outputs": [
    {
     "data": {
      "text/plain": [
       "label\n",
       "Glucose              286299\n",
       "Potassium            264019\n",
       "Sodium               255266\n",
       "Chloride             253924\n",
       "Creatinine           251704\n",
       "Urea Nitrogen        250271\n",
       "Bicarbonate          242098\n",
       "Anion Gap            241245\n",
       "Magnesium            236043\n",
       "Hemoglobin           223302\n",
       "Hematocrit           220289\n",
       "Platelet Count       210014\n",
       "Phosphate            202702\n",
       "Calcium, Total       201302\n",
       "White Blood Cells    200940\n",
       "MCHC                 200420\n",
       "MCV                  200398\n",
       "MCH                  200398\n",
       "Red Blood Cells      200398\n",
       "RDW                  200396\n",
       "Name: count, dtype: int64"
      ]
     },
     "execution_count": 84,
     "metadata": {},
     "output_type": "execute_result"
    }
   ],
   "source": [
    "# Top 20 labs for patients who survived\n",
    "cardiac_labs_survived['label'].value_counts().head(20)"
   ]
  },
  {
   "cell_type": "markdown",
   "metadata": {},
   "source": [
    "#### Differences and Similarities between the lab tests of the patients who died and the patients who survived more than one year after hospitalization"
   ]
  },
  {
   "cell_type": "code",
   "execution_count": 85,
   "metadata": {},
   "outputs": [
    {
     "name": "stdout",
     "output_type": "stream",
     "text": [
      "| label                |   Died |   Survived |   Difference |   % Difference |\n",
      "|:---------------------|-------:|-----------:|-------------:|---------------:|\n",
      "| Glucose              |  24582 |     286299 |      -261717 |         -91.41 |\n",
      "| Specimen Type        |  23934 |          0 |        23934 |         inf    |\n",
      "| pH                   |  21370 |          0 |        21370 |         inf    |\n",
      "| Potassium            |  19108 |     264019 |      -244911 |         -92.76 |\n",
      "| Sodium               |  18830 |     255266 |      -236436 |         -92.62 |\n",
      "| Chloride             |  18663 |     253924 |      -235261 |         -92.65 |\n",
      "| pO2                  |  18423 |          0 |        18423 |         inf    |\n",
      "| Calculated Total CO2 |  18399 |          0 |        18399 |         inf    |\n",
      "| Base Excess          |  18397 |          0 |        18397 |         inf    |\n",
      "| pCO2                 |  18394 |          0 |        18394 |         inf    |\n",
      "| Hemoglobin           |  18232 |     223302 |      -205070 |         -91.84 |\n",
      "| Creatinine           |  18087 |     251704 |      -233617 |         -92.81 |\n",
      "| Bicarbonate          |  18071 |     242098 |      -224027 |         -92.54 |\n",
      "| Urea Nitrogen        |  18005 |     250271 |      -232266 |         -92.81 |\n",
      "| Anion Gap            |  17968 |     241245 |      -223277 |         -92.55 |\n",
      "| Magnesium            |  17748 |     236043 |      -218295 |         -92.48 |\n",
      "| Phosphate            |  16432 |     202702 |      -186270 |         -91.89 |\n",
      "| Calcium, Total       |  16348 |     201302 |      -184954 |         -91.88 |\n",
      "| Hematocrit           |  16121 |     220289 |      -204168 |         -92.68 |\n",
      "| Platelet Count       |  15062 |     210014 |      -194952 |         -92.83 |\n",
      "| RDW                  |      0 |     200396 |      -200396 |        -100    |\n",
      "| Red Blood Cells      |      0 |     200398 |      -200398 |        -100    |\n",
      "| MCV                  |      0 |     200398 |      -200398 |        -100    |\n",
      "| MCHC                 |      0 |     200420 |      -200420 |        -100    |\n",
      "| MCH                  |      0 |     200398 |      -200398 |        -100    |\n",
      "| White Blood Cells    |      0 |     200940 |      -200940 |        -100    |\n",
      "\n",
      "labs unique to patients who died:\n",
      "- Specimen Type\n",
      "- pO2\n",
      "- pH\n",
      "- Base Excess\n",
      "- pCO2\n",
      "- Calculated Total CO2\n",
      "\n",
      "labs unique to patients who survived:\n",
      "- RDW\n",
      "- Red Blood Cells\n",
      "- White Blood Cells\n",
      "- MCV\n",
      "- MCH\n",
      "- MCHC\n"
     ]
    }
   ],
   "source": [
    "# Find the top labs for patients who died and survived\n",
    "top_labs_death = cardiac_labs_death['label'].value_counts().head(20)\n",
    "top_labs_survived = cardiac_labs_survived['label'].value_counts().head(20)\n",
    "\n",
    "# Create a DataFrame to hold both sets of data\n",
    "df_comparison = pd.DataFrame({\n",
    "    'Died': top_labs_death,\n",
    "    'Survived': top_labs_survived\n",
    "})\n",
    "\n",
    "# Fill NaN values with 0 and sort by the 'Died' column\n",
    "df_comparison = df_comparison.fillna(0).sort_values('Died', ascending=False)\n",
    "\n",
    "# Calculate the difference and percentage\n",
    "df_comparison['Difference'] = df_comparison['Died'] - df_comparison['Survived']\n",
    "df_comparison['% Difference'] = (df_comparison['Difference'] / df_comparison['Survived'] * 100).round(2)\n",
    "\n",
    "# Reorder columns\n",
    "df_comparison = df_comparison[['Died', 'Survived', 'Difference', '% Difference']]\n",
    "\n",
    "# Print the table\n",
    "print(tabulate(df_comparison, headers='keys', tablefmt='pipe', showindex=True))\n",
    "\n",
    "# Find the difference in the names of the top labs\n",
    "top_labs_diff_died = set(top_labs_death.index) - set(top_labs_survived.index)\n",
    "top_labs_diff_survived = set(top_labs_survived.index) - set(top_labs_death.index)\n",
    "\n",
    "# Print the labs unique to patients who died\n",
    "print(\"\\nlabs unique to patients who died:\")\n",
    "for procedure in top_labs_diff_died:\n",
    "    print(f\"- {procedure}\")\n",
    "\n",
    "# Print the labs unique to patients who survived\n",
    "print(\"\\nlabs unique to patients who survived:\")\n",
    "for procedure in top_labs_diff_survived:\n",
    "    print(f\"- {procedure}\")"
   ]
  },
  {
   "cell_type": "markdown",
   "metadata": {},
   "source": [
    "# Modeling for patient outcomes\n",
    "\n",
    "Somehow in this project we will combine the data of these aspects to model patient outcomes:\n",
    "\n",
    "- Procedures\n",
    "- Diagnoses\n",
    "- Prescriptions\n",
    "- Lab Tests\n",
    "\n",
    "We will use the data of the patients who were admitted to the hospital under the Cardiac Medical service to model the patient outcomes. The patients who died under the cardiac medical service will be compared to those who survived more than one year after hospitalization. To be able to predict and understand all 4 of these aspects in regard to patient outcomes could be revolutionary in the field of medicine."
   ]
  },
  {
   "cell_type": "markdown",
   "metadata": {},
   "source": [
    "First we need to be reminded the columns and the data we have in each dataframe to understand how to prepare the data for modeling."
   ]
  },
  {
   "cell_type": "code",
   "execution_count": 86,
   "metadata": {},
   "outputs": [
    {
     "name": "stdout",
     "output_type": "stream",
     "text": [
      "cardiac_admissions columns Index(['subject_id', 'hadm_id', 'admittime', 'dischtime', 'deathtime',\n",
      "       'admission_type', 'admit_provider_id', 'admission_location',\n",
      "       'discharge_location', 'insurance', 'language', 'marital_status', 'race',\n",
      "       'edregtime', 'edouttime', 'hospital_expire_flag', 'anchor_age',\n",
      "       'gender'],\n",
      "      dtype='object')\n"
     ]
    },
    {
     "data": {
      "text/html": [
       "<div>\n",
       "<style scoped>\n",
       "    .dataframe tbody tr th:only-of-type {\n",
       "        vertical-align: middle;\n",
       "    }\n",
       "\n",
       "    .dataframe tbody tr th {\n",
       "        vertical-align: top;\n",
       "    }\n",
       "\n",
       "    .dataframe thead th {\n",
       "        text-align: right;\n",
       "    }\n",
       "</style>\n",
       "<table border=\"1\" class=\"dataframe\">\n",
       "  <thead>\n",
       "    <tr style=\"text-align: right;\">\n",
       "      <th></th>\n",
       "      <th>subject_id</th>\n",
       "      <th>hadm_id</th>\n",
       "      <th>admittime</th>\n",
       "      <th>dischtime</th>\n",
       "      <th>deathtime</th>\n",
       "      <th>admission_type</th>\n",
       "      <th>admit_provider_id</th>\n",
       "      <th>admission_location</th>\n",
       "      <th>discharge_location</th>\n",
       "      <th>insurance</th>\n",
       "      <th>language</th>\n",
       "      <th>marital_status</th>\n",
       "      <th>race</th>\n",
       "      <th>edregtime</th>\n",
       "      <th>edouttime</th>\n",
       "      <th>hospital_expire_flag</th>\n",
       "      <th>anchor_age</th>\n",
       "      <th>gender</th>\n",
       "    </tr>\n",
       "  </thead>\n",
       "  <tbody>\n",
       "    <tr>\n",
       "      <th>0</th>\n",
       "      <td>10000635</td>\n",
       "      <td>26134563</td>\n",
       "      <td>2136-06-19 14:24:00</td>\n",
       "      <td>2136-06-20 11:30:00</td>\n",
       "      <td>NaN</td>\n",
       "      <td>AMBULATORY OBSERVATION</td>\n",
       "      <td>P611A0</td>\n",
       "      <td>PROCEDURE SITE</td>\n",
       "      <td>NaN</td>\n",
       "      <td>Other</td>\n",
       "      <td>ENGLISH</td>\n",
       "      <td>WIDOWED</td>\n",
       "      <td>BLACK/AFRICAN AMERICAN</td>\n",
       "      <td>NaN</td>\n",
       "      <td>NaN</td>\n",
       "      <td>0</td>\n",
       "      <td>74</td>\n",
       "      <td>F</td>\n",
       "    </tr>\n",
       "    <tr>\n",
       "      <th>1</th>\n",
       "      <td>10000980</td>\n",
       "      <td>24947999</td>\n",
       "      <td>2190-11-06 20:57:00</td>\n",
       "      <td>2190-11-08 15:58:00</td>\n",
       "      <td>NaN</td>\n",
       "      <td>EW EMER.</td>\n",
       "      <td>P434W4</td>\n",
       "      <td>EMERGENCY ROOM</td>\n",
       "      <td>HOME HEALTH CARE</td>\n",
       "      <td>Medicare</td>\n",
       "      <td>ENGLISH</td>\n",
       "      <td>MARRIED</td>\n",
       "      <td>BLACK/AFRICAN AMERICAN</td>\n",
       "      <td>2190-11-06 15:30:00</td>\n",
       "      <td>2190-11-06 23:16:00</td>\n",
       "      <td>0</td>\n",
       "      <td>73</td>\n",
       "      <td>F</td>\n",
       "    </tr>\n",
       "    <tr>\n",
       "      <th>2</th>\n",
       "      <td>10000980</td>\n",
       "      <td>26913865</td>\n",
       "      <td>2189-06-27 07:38:00</td>\n",
       "      <td>2189-07-03 03:00:00</td>\n",
       "      <td>NaN</td>\n",
       "      <td>EW EMER.</td>\n",
       "      <td>P30KEH</td>\n",
       "      <td>EMERGENCY ROOM</td>\n",
       "      <td>HOME HEALTH CARE</td>\n",
       "      <td>Medicare</td>\n",
       "      <td>ENGLISH</td>\n",
       "      <td>MARRIED</td>\n",
       "      <td>BLACK/AFRICAN AMERICAN</td>\n",
       "      <td>2189-06-27 06:25:00</td>\n",
       "      <td>2189-06-27 08:42:00</td>\n",
       "      <td>0</td>\n",
       "      <td>73</td>\n",
       "      <td>F</td>\n",
       "    </tr>\n",
       "    <tr>\n",
       "      <th>3</th>\n",
       "      <td>10000980</td>\n",
       "      <td>29654838</td>\n",
       "      <td>2188-01-03 17:41:00</td>\n",
       "      <td>2188-01-05 17:30:00</td>\n",
       "      <td>NaN</td>\n",
       "      <td>EW EMER.</td>\n",
       "      <td>P20N5X</td>\n",
       "      <td>EMERGENCY ROOM</td>\n",
       "      <td>HOME HEALTH CARE</td>\n",
       "      <td>Medicare</td>\n",
       "      <td>ENGLISH</td>\n",
       "      <td>MARRIED</td>\n",
       "      <td>BLACK/AFRICAN AMERICAN</td>\n",
       "      <td>2188-01-03 12:23:00</td>\n",
       "      <td>2188-01-03 18:42:00</td>\n",
       "      <td>0</td>\n",
       "      <td>73</td>\n",
       "      <td>F</td>\n",
       "    </tr>\n",
       "    <tr>\n",
       "      <th>4</th>\n",
       "      <td>10000980</td>\n",
       "      <td>29659838</td>\n",
       "      <td>2191-07-16 14:21:00</td>\n",
       "      <td>2191-07-19 13:03:00</td>\n",
       "      <td>NaN</td>\n",
       "      <td>EW EMER.</td>\n",
       "      <td>P66Z67</td>\n",
       "      <td>EMERGENCY ROOM</td>\n",
       "      <td>HOME HEALTH CARE</td>\n",
       "      <td>Medicare</td>\n",
       "      <td>ENGLISH</td>\n",
       "      <td>MARRIED</td>\n",
       "      <td>BLACK/AFRICAN AMERICAN</td>\n",
       "      <td>2191-07-16 10:52:00</td>\n",
       "      <td>2191-07-16 16:22:00</td>\n",
       "      <td>0</td>\n",
       "      <td>73</td>\n",
       "      <td>F</td>\n",
       "    </tr>\n",
       "  </tbody>\n",
       "</table>\n",
       "</div>"
      ],
      "text/plain": [
       "   subject_id   hadm_id            admittime            dischtime deathtime  \\\n",
       "0    10000635  26134563  2136-06-19 14:24:00  2136-06-20 11:30:00       NaN   \n",
       "1    10000980  24947999  2190-11-06 20:57:00  2190-11-08 15:58:00       NaN   \n",
       "2    10000980  26913865  2189-06-27 07:38:00  2189-07-03 03:00:00       NaN   \n",
       "3    10000980  29654838  2188-01-03 17:41:00  2188-01-05 17:30:00       NaN   \n",
       "4    10000980  29659838  2191-07-16 14:21:00  2191-07-19 13:03:00       NaN   \n",
       "\n",
       "           admission_type admit_provider_id admission_location  \\\n",
       "0  AMBULATORY OBSERVATION            P611A0     PROCEDURE SITE   \n",
       "1                EW EMER.            P434W4     EMERGENCY ROOM   \n",
       "2                EW EMER.            P30KEH     EMERGENCY ROOM   \n",
       "3                EW EMER.            P20N5X     EMERGENCY ROOM   \n",
       "4                EW EMER.            P66Z67     EMERGENCY ROOM   \n",
       "\n",
       "  discharge_location insurance language marital_status  \\\n",
       "0                NaN     Other  ENGLISH        WIDOWED   \n",
       "1   HOME HEALTH CARE  Medicare  ENGLISH        MARRIED   \n",
       "2   HOME HEALTH CARE  Medicare  ENGLISH        MARRIED   \n",
       "3   HOME HEALTH CARE  Medicare  ENGLISH        MARRIED   \n",
       "4   HOME HEALTH CARE  Medicare  ENGLISH        MARRIED   \n",
       "\n",
       "                     race            edregtime            edouttime  \\\n",
       "0  BLACK/AFRICAN AMERICAN                  NaN                  NaN   \n",
       "1  BLACK/AFRICAN AMERICAN  2190-11-06 15:30:00  2190-11-06 23:16:00   \n",
       "2  BLACK/AFRICAN AMERICAN  2189-06-27 06:25:00  2189-06-27 08:42:00   \n",
       "3  BLACK/AFRICAN AMERICAN  2188-01-03 12:23:00  2188-01-03 18:42:00   \n",
       "4  BLACK/AFRICAN AMERICAN  2191-07-16 10:52:00  2191-07-16 16:22:00   \n",
       "\n",
       "   hospital_expire_flag  anchor_age gender  \n",
       "0                     0          74      F  \n",
       "1                     0          73      F  \n",
       "2                     0          73      F  \n",
       "3                     0          73      F  \n",
       "4                     0          73      F  "
      ]
     },
     "execution_count": 86,
     "metadata": {},
     "output_type": "execute_result"
    }
   ],
   "source": [
    "print(\"cardiac_admissions columns\", cardiac_admissions.columns)\n",
    "cardiac_admissions.head()"
   ]
  },
  {
   "cell_type": "markdown",
   "metadata": {},
   "source": [
    "##### procedures "
   ]
  },
  {
   "cell_type": "code",
   "execution_count": 87,
   "metadata": {},
   "outputs": [
    {
     "name": "stdout",
     "output_type": "stream",
     "text": [
      "cardiac procedures columns Index(['subject_id', 'hadm_id', 'seq_num', 'chartdate', 'icd_code',\n",
      "       'icd_version', 'long_title'],\n",
      "      dtype='object')\n"
     ]
    },
    {
     "data": {
      "text/html": [
       "<div>\n",
       "<style scoped>\n",
       "    .dataframe tbody tr th:only-of-type {\n",
       "        vertical-align: middle;\n",
       "    }\n",
       "\n",
       "    .dataframe tbody tr th {\n",
       "        vertical-align: top;\n",
       "    }\n",
       "\n",
       "    .dataframe thead th {\n",
       "        text-align: right;\n",
       "    }\n",
       "</style>\n",
       "<table border=\"1\" class=\"dataframe\">\n",
       "  <thead>\n",
       "    <tr style=\"text-align: right;\">\n",
       "      <th></th>\n",
       "      <th>subject_id</th>\n",
       "      <th>hadm_id</th>\n",
       "      <th>seq_num</th>\n",
       "      <th>chartdate</th>\n",
       "      <th>icd_code</th>\n",
       "      <th>icd_version</th>\n",
       "      <th>long_title</th>\n",
       "    </tr>\n",
       "  </thead>\n",
       "  <tbody>\n",
       "    <tr>\n",
       "      <th>0</th>\n",
       "      <td>10000635</td>\n",
       "      <td>26134563</td>\n",
       "      <td>1</td>\n",
       "      <td>2136-06-19</td>\n",
       "      <td>3734</td>\n",
       "      <td>9</td>\n",
       "      <td>Excision or destruction of other lesion or tis...</td>\n",
       "    </tr>\n",
       "    <tr>\n",
       "      <th>1</th>\n",
       "      <td>10000635</td>\n",
       "      <td>26134563</td>\n",
       "      <td>2</td>\n",
       "      <td>2136-06-19</td>\n",
       "      <td>3728</td>\n",
       "      <td>9</td>\n",
       "      <td>Intracardiac echocardiography</td>\n",
       "    </tr>\n",
       "    <tr>\n",
       "      <th>2</th>\n",
       "      <td>10000635</td>\n",
       "      <td>26134563</td>\n",
       "      <td>3</td>\n",
       "      <td>2136-06-19</td>\n",
       "      <td>3727</td>\n",
       "      <td>9</td>\n",
       "      <td>Cardiac mapping</td>\n",
       "    </tr>\n",
       "    <tr>\n",
       "      <th>3</th>\n",
       "      <td>10000980</td>\n",
       "      <td>26913865</td>\n",
       "      <td>1</td>\n",
       "      <td>2189-06-30</td>\n",
       "      <td>0066</td>\n",
       "      <td>9</td>\n",
       "      <td>Percutaneous transluminal coronary angioplasty...</td>\n",
       "    </tr>\n",
       "    <tr>\n",
       "      <th>4</th>\n",
       "      <td>10000980</td>\n",
       "      <td>26913865</td>\n",
       "      <td>2</td>\n",
       "      <td>2189-06-30</td>\n",
       "      <td>3607</td>\n",
       "      <td>9</td>\n",
       "      <td>Insertion of drug-eluting coronary artery sten...</td>\n",
       "    </tr>\n",
       "  </tbody>\n",
       "</table>\n",
       "</div>"
      ],
      "text/plain": [
       "   subject_id   hadm_id  seq_num   chartdate icd_code  icd_version  \\\n",
       "0    10000635  26134563        1  2136-06-19     3734            9   \n",
       "1    10000635  26134563        2  2136-06-19     3728            9   \n",
       "2    10000635  26134563        3  2136-06-19     3727            9   \n",
       "3    10000980  26913865        1  2189-06-30     0066            9   \n",
       "4    10000980  26913865        2  2189-06-30     3607            9   \n",
       "\n",
       "                                          long_title  \n",
       "0  Excision or destruction of other lesion or tis...  \n",
       "1                      Intracardiac echocardiography  \n",
       "2                                    Cardiac mapping  \n",
       "3  Percutaneous transluminal coronary angioplasty...  \n",
       "4  Insertion of drug-eluting coronary artery sten...  "
      ]
     },
     "execution_count": 87,
     "metadata": {},
     "output_type": "execute_result"
    }
   ],
   "source": [
    "print(\"cardiac procedures columns\", cardiac_procedures.columns)\n",
    "cardiac_procedures.head()"
   ]
  },
  {
   "cell_type": "markdown",
   "metadata": {},
   "source": [
    "##### diagnosis "
   ]
  },
  {
   "cell_type": "code",
   "execution_count": 88,
   "metadata": {},
   "outputs": [
    {
     "name": "stdout",
     "output_type": "stream",
     "text": [
      "cardiac diagnosis columns Index(['subject_id', 'hadm_id', 'seq_num', 'icd_code', 'icd_version',\n",
      "       'long_title', 'drg_type', 'drg_code', 'description', 'drg_severity',\n",
      "       'drg_mortality'],\n",
      "      dtype='object')\n"
     ]
    },
    {
     "data": {
      "text/html": [
       "<div>\n",
       "<style scoped>\n",
       "    .dataframe tbody tr th:only-of-type {\n",
       "        vertical-align: middle;\n",
       "    }\n",
       "\n",
       "    .dataframe tbody tr th {\n",
       "        vertical-align: top;\n",
       "    }\n",
       "\n",
       "    .dataframe thead th {\n",
       "        text-align: right;\n",
       "    }\n",
       "</style>\n",
       "<table border=\"1\" class=\"dataframe\">\n",
       "  <thead>\n",
       "    <tr style=\"text-align: right;\">\n",
       "      <th></th>\n",
       "      <th>subject_id</th>\n",
       "      <th>hadm_id</th>\n",
       "      <th>seq_num</th>\n",
       "      <th>icd_code</th>\n",
       "      <th>icd_version</th>\n",
       "      <th>long_title</th>\n",
       "      <th>drg_type</th>\n",
       "      <th>drg_code</th>\n",
       "      <th>description</th>\n",
       "      <th>drg_severity</th>\n",
       "      <th>drg_mortality</th>\n",
       "    </tr>\n",
       "  </thead>\n",
       "  <tbody>\n",
       "    <tr>\n",
       "      <th>0</th>\n",
       "      <td>10000635</td>\n",
       "      <td>26134563</td>\n",
       "      <td>1.0</td>\n",
       "      <td>42789</td>\n",
       "      <td>9.0</td>\n",
       "      <td>Other specified cardiac dysrhythmias</td>\n",
       "      <td>NaN</td>\n",
       "      <td>NaN</td>\n",
       "      <td>NaN</td>\n",
       "      <td>NaN</td>\n",
       "      <td>NaN</td>\n",
       "    </tr>\n",
       "    <tr>\n",
       "      <th>1</th>\n",
       "      <td>10000635</td>\n",
       "      <td>26134563</td>\n",
       "      <td>2.0</td>\n",
       "      <td>25000</td>\n",
       "      <td>9.0</td>\n",
       "      <td>Diabetes mellitus without mention of complicat...</td>\n",
       "      <td>NaN</td>\n",
       "      <td>NaN</td>\n",
       "      <td>NaN</td>\n",
       "      <td>NaN</td>\n",
       "      <td>NaN</td>\n",
       "    </tr>\n",
       "    <tr>\n",
       "      <th>2</th>\n",
       "      <td>10000635</td>\n",
       "      <td>26134563</td>\n",
       "      <td>3.0</td>\n",
       "      <td>4019</td>\n",
       "      <td>9.0</td>\n",
       "      <td>Unspecified essential hypertension</td>\n",
       "      <td>NaN</td>\n",
       "      <td>NaN</td>\n",
       "      <td>NaN</td>\n",
       "      <td>NaN</td>\n",
       "      <td>NaN</td>\n",
       "    </tr>\n",
       "    <tr>\n",
       "      <th>3</th>\n",
       "      <td>10000980</td>\n",
       "      <td>24947999</td>\n",
       "      <td>1.0</td>\n",
       "      <td>42823</td>\n",
       "      <td>9.0</td>\n",
       "      <td>Acute on chronic systolic heart failure</td>\n",
       "      <td>APR</td>\n",
       "      <td>194.0</td>\n",
       "      <td>HEART FAILURE</td>\n",
       "      <td>2.0</td>\n",
       "      <td>3.0</td>\n",
       "    </tr>\n",
       "    <tr>\n",
       "      <th>4</th>\n",
       "      <td>10000980</td>\n",
       "      <td>24947999</td>\n",
       "      <td>1.0</td>\n",
       "      <td>42823</td>\n",
       "      <td>9.0</td>\n",
       "      <td>Acute on chronic systolic heart failure</td>\n",
       "      <td>HCFA</td>\n",
       "      <td>292.0</td>\n",
       "      <td>HEART FAILURE &amp; SHOCK W CC</td>\n",
       "      <td>NaN</td>\n",
       "      <td>NaN</td>\n",
       "    </tr>\n",
       "  </tbody>\n",
       "</table>\n",
       "</div>"
      ],
      "text/plain": [
       "   subject_id   hadm_id  seq_num icd_code  icd_version  \\\n",
       "0    10000635  26134563      1.0    42789          9.0   \n",
       "1    10000635  26134563      2.0    25000          9.0   \n",
       "2    10000635  26134563      3.0     4019          9.0   \n",
       "3    10000980  24947999      1.0    42823          9.0   \n",
       "4    10000980  24947999      1.0    42823          9.0   \n",
       "\n",
       "                                          long_title drg_type  drg_code  \\\n",
       "0               Other specified cardiac dysrhythmias      NaN       NaN   \n",
       "1  Diabetes mellitus without mention of complicat...      NaN       NaN   \n",
       "2                 Unspecified essential hypertension      NaN       NaN   \n",
       "3            Acute on chronic systolic heart failure      APR     194.0   \n",
       "4            Acute on chronic systolic heart failure     HCFA     292.0   \n",
       "\n",
       "                  description  drg_severity  drg_mortality  \n",
       "0                         NaN           NaN            NaN  \n",
       "1                         NaN           NaN            NaN  \n",
       "2                         NaN           NaN            NaN  \n",
       "3               HEART FAILURE           2.0            3.0  \n",
       "4  HEART FAILURE & SHOCK W CC           NaN            NaN  "
      ]
     },
     "execution_count": 88,
     "metadata": {},
     "output_type": "execute_result"
    }
   ],
   "source": [
    "print(\"cardiac diagnosis columns\", cardiac_diagnosis.columns)\n",
    "cardiac_diagnosis.head()"
   ]
  },
  {
   "cell_type": "code",
   "execution_count": 89,
   "metadata": {},
   "outputs": [
    {
     "data": {
      "text/plain": [
       "subject_id            0\n",
       "hadm_id               0\n",
       "seq_num               0\n",
       "icd_code              0\n",
       "icd_version           0\n",
       "long_title            0\n",
       "drg_type          82149\n",
       "drg_code          82149\n",
       "description       82149\n",
       "drg_severity     584652\n",
       "drg_mortality    584652\n",
       "dtype: int64"
      ]
     },
     "execution_count": 89,
     "metadata": {},
     "output_type": "execute_result"
    }
   ],
   "source": [
    "cardiac_diagnosis.isna().sum()\n"
   ]
  },
  {
   "cell_type": "markdown",
   "metadata": {},
   "source": [
    "##### prescriptions"
   ]
  },
  {
   "cell_type": "code",
   "execution_count": 90,
   "metadata": {},
   "outputs": [
    {
     "name": "stdout",
     "output_type": "stream",
     "text": [
      "cardiac prescriptions columns Index(['subject_id', 'hadm_id', 'pharmacy_id', 'poe_id', 'poe_seq',\n",
      "       'order_provider_id', 'starttime', 'stoptime', 'drug_type', 'drug',\n",
      "       'formulary_drug_cd', 'gsn', 'ndc', 'prod_strength', 'form_rx',\n",
      "       'dose_val_rx', 'dose_unit_rx', 'form_val_disp', 'form_unit_disp',\n",
      "       'doses_per_24_hrs', 'route'],\n",
      "      dtype='object')\n"
     ]
    },
    {
     "data": {
      "text/html": [
       "<div>\n",
       "<style scoped>\n",
       "    .dataframe tbody tr th:only-of-type {\n",
       "        vertical-align: middle;\n",
       "    }\n",
       "\n",
       "    .dataframe tbody tr th {\n",
       "        vertical-align: top;\n",
       "    }\n",
       "\n",
       "    .dataframe thead th {\n",
       "        text-align: right;\n",
       "    }\n",
       "</style>\n",
       "<table border=\"1\" class=\"dataframe\">\n",
       "  <thead>\n",
       "    <tr style=\"text-align: right;\">\n",
       "      <th></th>\n",
       "      <th>subject_id</th>\n",
       "      <th>hadm_id</th>\n",
       "      <th>pharmacy_id</th>\n",
       "      <th>poe_id</th>\n",
       "      <th>poe_seq</th>\n",
       "      <th>order_provider_id</th>\n",
       "      <th>starttime</th>\n",
       "      <th>stoptime</th>\n",
       "      <th>drug_type</th>\n",
       "      <th>drug</th>\n",
       "      <th>...</th>\n",
       "      <th>gsn</th>\n",
       "      <th>ndc</th>\n",
       "      <th>prod_strength</th>\n",
       "      <th>form_rx</th>\n",
       "      <th>dose_val_rx</th>\n",
       "      <th>dose_unit_rx</th>\n",
       "      <th>form_val_disp</th>\n",
       "      <th>form_unit_disp</th>\n",
       "      <th>doses_per_24_hrs</th>\n",
       "      <th>route</th>\n",
       "    </tr>\n",
       "  </thead>\n",
       "  <tbody>\n",
       "    <tr>\n",
       "      <th>0</th>\n",
       "      <td>10000635</td>\n",
       "      <td>26134563</td>\n",
       "      <td>3631616.0</td>\n",
       "      <td>10000635-27</td>\n",
       "      <td>27.0</td>\n",
       "      <td>P21TWC</td>\n",
       "      <td>2136-06-19 15:00:00</td>\n",
       "      <td>2136-06-20 16:00:00</td>\n",
       "      <td>MAIN</td>\n",
       "      <td>Glucagon</td>\n",
       "      <td>...</td>\n",
       "      <td>041660</td>\n",
       "      <td>5.539000e+10</td>\n",
       "      <td>1mg Vial</td>\n",
       "      <td>NaN</td>\n",
       "      <td>1</td>\n",
       "      <td>mg</td>\n",
       "      <td>1</td>\n",
       "      <td>VIAL</td>\n",
       "      <td>NaN</td>\n",
       "      <td>IM</td>\n",
       "    </tr>\n",
       "    <tr>\n",
       "      <th>1</th>\n",
       "      <td>10000635</td>\n",
       "      <td>26134563</td>\n",
       "      <td>7995281.0</td>\n",
       "      <td>10000635-22</td>\n",
       "      <td>22.0</td>\n",
       "      <td>P21TWC</td>\n",
       "      <td>2136-06-19 15:00:00</td>\n",
       "      <td>2136-06-20 16:00:00</td>\n",
       "      <td>MAIN</td>\n",
       "      <td>Potassium Chloride</td>\n",
       "      <td>...</td>\n",
       "      <td>001275</td>\n",
       "      <td>2.450041e+08</td>\n",
       "      <td>10mEq ER Tablet</td>\n",
       "      <td>NaN</td>\n",
       "      <td>20</td>\n",
       "      <td>mEq</td>\n",
       "      <td>2</td>\n",
       "      <td>TAB</td>\n",
       "      <td>NaN</td>\n",
       "      <td>PO</td>\n",
       "    </tr>\n",
       "    <tr>\n",
       "      <th>2</th>\n",
       "      <td>10000635</td>\n",
       "      <td>26134563</td>\n",
       "      <td>8378276.0</td>\n",
       "      <td>10000635-11</td>\n",
       "      <td>11.0</td>\n",
       "      <td>P21TWC</td>\n",
       "      <td>2136-06-19 15:00:00</td>\n",
       "      <td>2136-06-20 16:00:00</td>\n",
       "      <td>MAIN</td>\n",
       "      <td>Influenza Virus Vaccine</td>\n",
       "      <td>...</td>\n",
       "      <td>071215</td>\n",
       "      <td>4.928100e+10</td>\n",
       "      <td>0.5 mL Syringe</td>\n",
       "      <td>NaN</td>\n",
       "      <td>0.5</td>\n",
       "      <td>mL</td>\n",
       "      <td>1</td>\n",
       "      <td>SYR</td>\n",
       "      <td>0.0</td>\n",
       "      <td>IM</td>\n",
       "    </tr>\n",
       "    <tr>\n",
       "      <th>3</th>\n",
       "      <td>10000635</td>\n",
       "      <td>26134563</td>\n",
       "      <td>10008278.0</td>\n",
       "      <td>10000635-20</td>\n",
       "      <td>20.0</td>\n",
       "      <td>P21TWC</td>\n",
       "      <td>2136-06-19 15:00:00</td>\n",
       "      <td>2136-06-20 16:00:00</td>\n",
       "      <td>MAIN</td>\n",
       "      <td>Aspirin EC</td>\n",
       "      <td>...</td>\n",
       "      <td>004381</td>\n",
       "      <td>1.771400e+10</td>\n",
       "      <td>325mg Tab</td>\n",
       "      <td>NaN</td>\n",
       "      <td>325</td>\n",
       "      <td>mg</td>\n",
       "      <td>1</td>\n",
       "      <td>TAB</td>\n",
       "      <td>1.0</td>\n",
       "      <td>PO</td>\n",
       "    </tr>\n",
       "    <tr>\n",
       "      <th>4</th>\n",
       "      <td>10000635</td>\n",
       "      <td>26134563</td>\n",
       "      <td>10749812.0</td>\n",
       "      <td>10000635-19</td>\n",
       "      <td>19.0</td>\n",
       "      <td>P21TWC</td>\n",
       "      <td>2136-06-19 15:00:00</td>\n",
       "      <td>2136-06-20 16:00:00</td>\n",
       "      <td>MAIN</td>\n",
       "      <td>Sodium Chloride 0.9%  Flush</td>\n",
       "      <td>...</td>\n",
       "      <td>NaN</td>\n",
       "      <td>0.000000e+00</td>\n",
       "      <td>10 mL Syringe</td>\n",
       "      <td>NaN</td>\n",
       "      <td>3</td>\n",
       "      <td>mL</td>\n",
       "      <td>0.3</td>\n",
       "      <td>SYR</td>\n",
       "      <td>3.0</td>\n",
       "      <td>IV</td>\n",
       "    </tr>\n",
       "  </tbody>\n",
       "</table>\n",
       "<p>5 rows × 21 columns</p>\n",
       "</div>"
      ],
      "text/plain": [
       "   subject_id   hadm_id  pharmacy_id       poe_id  poe_seq order_provider_id  \\\n",
       "0    10000635  26134563    3631616.0  10000635-27     27.0            P21TWC   \n",
       "1    10000635  26134563    7995281.0  10000635-22     22.0            P21TWC   \n",
       "2    10000635  26134563    8378276.0  10000635-11     11.0            P21TWC   \n",
       "3    10000635  26134563   10008278.0  10000635-20     20.0            P21TWC   \n",
       "4    10000635  26134563   10749812.0  10000635-19     19.0            P21TWC   \n",
       "\n",
       "             starttime             stoptime drug_type  \\\n",
       "0  2136-06-19 15:00:00  2136-06-20 16:00:00      MAIN   \n",
       "1  2136-06-19 15:00:00  2136-06-20 16:00:00      MAIN   \n",
       "2  2136-06-19 15:00:00  2136-06-20 16:00:00      MAIN   \n",
       "3  2136-06-19 15:00:00  2136-06-20 16:00:00      MAIN   \n",
       "4  2136-06-19 15:00:00  2136-06-20 16:00:00      MAIN   \n",
       "\n",
       "                          drug  ...     gsn           ndc    prod_strength  \\\n",
       "0                     Glucagon  ...  041660  5.539000e+10         1mg Vial   \n",
       "1           Potassium Chloride  ...  001275  2.450041e+08  10mEq ER Tablet   \n",
       "2      Influenza Virus Vaccine  ...  071215  4.928100e+10   0.5 mL Syringe   \n",
       "3                   Aspirin EC  ...  004381  1.771400e+10        325mg Tab   \n",
       "4  Sodium Chloride 0.9%  Flush  ...     NaN  0.000000e+00    10 mL Syringe   \n",
       "\n",
       "  form_rx dose_val_rx dose_unit_rx form_val_disp form_unit_disp  \\\n",
       "0     NaN           1           mg             1           VIAL   \n",
       "1     NaN          20          mEq             2            TAB   \n",
       "2     NaN         0.5           mL             1            SYR   \n",
       "3     NaN         325           mg             1            TAB   \n",
       "4     NaN           3           mL           0.3            SYR   \n",
       "\n",
       "  doses_per_24_hrs  route  \n",
       "0              NaN     IM  \n",
       "1              NaN     PO  \n",
       "2              0.0     IM  \n",
       "3              1.0     PO  \n",
       "4              3.0     IV  \n",
       "\n",
       "[5 rows x 21 columns]"
      ]
     },
     "execution_count": 90,
     "metadata": {},
     "output_type": "execute_result"
    }
   ],
   "source": [
    "print(\"cardiac prescriptions columns\", cardiac_prescriptions.columns)\n",
    "cardiac_prescriptions.head()"
   ]
  },
  {
   "cell_type": "code",
   "execution_count": 91,
   "metadata": {},
   "outputs": [
    {
     "data": {
      "text/plain": [
       "subject_id                 0\n",
       "hadm_id                    0\n",
       "pharmacy_id              176\n",
       "poe_id                 10141\n",
       "poe_seq                10141\n",
       "order_provider_id      10471\n",
       "starttime                673\n",
       "stoptime                1093\n",
       "drug_type                176\n",
       "drug                     176\n",
       "formulary_drug_cd       2049\n",
       "gsn                   235509\n",
       "ndc                     2576\n",
       "prod_strength            767\n",
       "form_rx              2077186\n",
       "dose_val_rx              761\n",
       "dose_unit_rx             761\n",
       "form_val_disp            767\n",
       "form_unit_disp           768\n",
       "doses_per_24_hrs      767602\n",
       "route                    516\n",
       "dtype: int64"
      ]
     },
     "execution_count": 91,
     "metadata": {},
     "output_type": "execute_result"
    }
   ],
   "source": [
    "cardiac_prescriptions.isna().sum()"
   ]
  },
  {
   "cell_type": "markdown",
   "metadata": {},
   "source": [
    "##### labs "
   ]
  },
  {
   "cell_type": "code",
   "execution_count": 92,
   "metadata": {},
   "outputs": [
    {
     "name": "stdout",
     "output_type": "stream",
     "text": [
      "cardiac labs columns Index(['subject_id', 'hadm_id', 'labevent_id', 'specimen_id', 'itemid',\n",
      "       'order_provider_id', 'charttime', 'storetime', 'value', 'valuenum',\n",
      "       'valueuom', 'ref_range_lower', 'ref_range_upper', 'flag', 'priority',\n",
      "       'comments', 'label', 'fluid', 'category'],\n",
      "      dtype='object')\n"
     ]
    },
    {
     "data": {
      "text/html": [
       "<div>\n",
       "<style scoped>\n",
       "    .dataframe tbody tr th:only-of-type {\n",
       "        vertical-align: middle;\n",
       "    }\n",
       "\n",
       "    .dataframe tbody tr th {\n",
       "        vertical-align: top;\n",
       "    }\n",
       "\n",
       "    .dataframe thead th {\n",
       "        text-align: right;\n",
       "    }\n",
       "</style>\n",
       "<table border=\"1\" class=\"dataframe\">\n",
       "  <thead>\n",
       "    <tr style=\"text-align: right;\">\n",
       "      <th></th>\n",
       "      <th>subject_id</th>\n",
       "      <th>hadm_id</th>\n",
       "      <th>labevent_id</th>\n",
       "      <th>specimen_id</th>\n",
       "      <th>itemid</th>\n",
       "      <th>order_provider_id</th>\n",
       "      <th>charttime</th>\n",
       "      <th>storetime</th>\n",
       "      <th>value</th>\n",
       "      <th>valuenum</th>\n",
       "      <th>valueuom</th>\n",
       "      <th>ref_range_lower</th>\n",
       "      <th>ref_range_upper</th>\n",
       "      <th>flag</th>\n",
       "      <th>priority</th>\n",
       "      <th>comments</th>\n",
       "      <th>label</th>\n",
       "      <th>fluid</th>\n",
       "      <th>category</th>\n",
       "    </tr>\n",
       "  </thead>\n",
       "  <tbody>\n",
       "    <tr>\n",
       "      <th>0</th>\n",
       "      <td>10000980</td>\n",
       "      <td>24947999</td>\n",
       "      <td>6931.0</td>\n",
       "      <td>18933938.0</td>\n",
       "      <td>51237.0</td>\n",
       "      <td>NaN</td>\n",
       "      <td>2190-11-07 07:55:00</td>\n",
       "      <td>2190-11-07 09:57:00</td>\n",
       "      <td>1.1</td>\n",
       "      <td>1.1</td>\n",
       "      <td>NaN</td>\n",
       "      <td>0.9</td>\n",
       "      <td>1.1</td>\n",
       "      <td>NaN</td>\n",
       "      <td>STAT</td>\n",
       "      <td>NaN</td>\n",
       "      <td>INR(PT)</td>\n",
       "      <td>Blood</td>\n",
       "      <td>Hematology</td>\n",
       "    </tr>\n",
       "    <tr>\n",
       "      <th>1</th>\n",
       "      <td>10000980</td>\n",
       "      <td>24947999</td>\n",
       "      <td>6932.0</td>\n",
       "      <td>18933938.0</td>\n",
       "      <td>51274.0</td>\n",
       "      <td>NaN</td>\n",
       "      <td>2190-11-07 07:55:00</td>\n",
       "      <td>2190-11-07 09:57:00</td>\n",
       "      <td>12.0</td>\n",
       "      <td>12.0</td>\n",
       "      <td>sec</td>\n",
       "      <td>9.4</td>\n",
       "      <td>12.5</td>\n",
       "      <td>NaN</td>\n",
       "      <td>STAT</td>\n",
       "      <td>NaN</td>\n",
       "      <td>PT</td>\n",
       "      <td>Blood</td>\n",
       "      <td>Hematology</td>\n",
       "    </tr>\n",
       "    <tr>\n",
       "      <th>2</th>\n",
       "      <td>10000980</td>\n",
       "      <td>24947999</td>\n",
       "      <td>6933.0</td>\n",
       "      <td>18933938.0</td>\n",
       "      <td>51275.0</td>\n",
       "      <td>NaN</td>\n",
       "      <td>2190-11-07 07:55:00</td>\n",
       "      <td>2190-11-07 09:57:00</td>\n",
       "      <td>25.1</td>\n",
       "      <td>25.1</td>\n",
       "      <td>sec</td>\n",
       "      <td>25.0</td>\n",
       "      <td>36.5</td>\n",
       "      <td>NaN</td>\n",
       "      <td>STAT</td>\n",
       "      <td>NaN</td>\n",
       "      <td>PTT</td>\n",
       "      <td>Blood</td>\n",
       "      <td>Hematology</td>\n",
       "    </tr>\n",
       "    <tr>\n",
       "      <th>3</th>\n",
       "      <td>10000980</td>\n",
       "      <td>24947999</td>\n",
       "      <td>6934.0</td>\n",
       "      <td>25000799.0</td>\n",
       "      <td>51221.0</td>\n",
       "      <td>NaN</td>\n",
       "      <td>2190-11-07 07:55:00</td>\n",
       "      <td>2190-11-07 09:54:00</td>\n",
       "      <td>26.6</td>\n",
       "      <td>26.6</td>\n",
       "      <td>%</td>\n",
       "      <td>36.0</td>\n",
       "      <td>48.0</td>\n",
       "      <td>abnormal</td>\n",
       "      <td>STAT</td>\n",
       "      <td>NaN</td>\n",
       "      <td>Hematocrit</td>\n",
       "      <td>Blood</td>\n",
       "      <td>Hematology</td>\n",
       "    </tr>\n",
       "    <tr>\n",
       "      <th>4</th>\n",
       "      <td>10000980</td>\n",
       "      <td>24947999</td>\n",
       "      <td>6935.0</td>\n",
       "      <td>25000799.0</td>\n",
       "      <td>51222.0</td>\n",
       "      <td>NaN</td>\n",
       "      <td>2190-11-07 07:55:00</td>\n",
       "      <td>2190-11-07 09:54:00</td>\n",
       "      <td>9.3</td>\n",
       "      <td>9.3</td>\n",
       "      <td>g/dL</td>\n",
       "      <td>12.0</td>\n",
       "      <td>16.0</td>\n",
       "      <td>abnormal</td>\n",
       "      <td>STAT</td>\n",
       "      <td>NaN</td>\n",
       "      <td>Hemoglobin</td>\n",
       "      <td>Blood</td>\n",
       "      <td>Hematology</td>\n",
       "    </tr>\n",
       "  </tbody>\n",
       "</table>\n",
       "</div>"
      ],
      "text/plain": [
       "   subject_id   hadm_id  labevent_id  specimen_id   itemid order_provider_id  \\\n",
       "0    10000980  24947999       6931.0   18933938.0  51237.0               NaN   \n",
       "1    10000980  24947999       6932.0   18933938.0  51274.0               NaN   \n",
       "2    10000980  24947999       6933.0   18933938.0  51275.0               NaN   \n",
       "3    10000980  24947999       6934.0   25000799.0  51221.0               NaN   \n",
       "4    10000980  24947999       6935.0   25000799.0  51222.0               NaN   \n",
       "\n",
       "             charttime            storetime value  valuenum valueuom  \\\n",
       "0  2190-11-07 07:55:00  2190-11-07 09:57:00   1.1       1.1      NaN   \n",
       "1  2190-11-07 07:55:00  2190-11-07 09:57:00  12.0      12.0      sec   \n",
       "2  2190-11-07 07:55:00  2190-11-07 09:57:00  25.1      25.1      sec   \n",
       "3  2190-11-07 07:55:00  2190-11-07 09:54:00  26.6      26.6        %   \n",
       "4  2190-11-07 07:55:00  2190-11-07 09:54:00   9.3       9.3     g/dL   \n",
       "\n",
       "   ref_range_lower  ref_range_upper      flag priority comments       label  \\\n",
       "0              0.9              1.1       NaN     STAT      NaN     INR(PT)   \n",
       "1              9.4             12.5       NaN     STAT      NaN          PT   \n",
       "2             25.0             36.5       NaN     STAT      NaN         PTT   \n",
       "3             36.0             48.0  abnormal     STAT      NaN  Hematocrit   \n",
       "4             12.0             16.0  abnormal     STAT      NaN  Hemoglobin   \n",
       "\n",
       "   fluid    category  \n",
       "0  Blood  Hematology  \n",
       "1  Blood  Hematology  \n",
       "2  Blood  Hematology  \n",
       "3  Blood  Hematology  \n",
       "4  Blood  Hematology  "
      ]
     },
     "execution_count": 92,
     "metadata": {},
     "output_type": "execute_result"
    }
   ],
   "source": [
    "print(\"cardiac labs columns\", cardiac_labs.columns)\n",
    "cardiac_labs.head()"
   ]
  },
  {
   "cell_type": "code",
   "execution_count": 93,
   "metadata": {},
   "outputs": [
    {
     "data": {
      "text/plain": [
       "subject_id                 0\n",
       "hadm_id                    0\n",
       "labevent_id                0\n",
       "specimen_id                0\n",
       "itemid                     0\n",
       "order_provider_id    8138557\n",
       "charttime                  0\n",
       "storetime              33467\n",
       "value                 367655\n",
       "valuenum              604389\n",
       "valueuom              998832\n",
       "ref_range_lower      1172372\n",
       "ref_range_upper      1172372\n",
       "flag                 5234783\n",
       "priority              950831\n",
       "comments             7013366\n",
       "label                      0\n",
       "fluid                      0\n",
       "category                   0\n",
       "dtype: int64"
      ]
     },
     "execution_count": 93,
     "metadata": {},
     "output_type": "execute_result"
    }
   ],
   "source": [
    "cardiac_labs.isna().sum()"
   ]
  },
  {
   "cell_type": "markdown",
   "metadata": {},
   "source": [
    "sample the subject_id for the deceased and the survived patients to balance the data for modeling."
   ]
  },
  {
   "cell_type": "code",
   "execution_count": 94,
   "metadata": {},
   "outputs": [
    {
     "name": "stdout",
     "output_type": "stream",
     "text": [
      "Total subjects in balanced sample: 2324\n",
      "Number of deceased subjects: 1162\n",
      "Number of sampled survived subjects: 1162\n"
     ]
    }
   ],
   "source": [
    "# Balance the data with random sampling of the survived patients and all the deceased patients \n",
    "def get_balanced_sample_subjects(cardiac_admissions):\n",
    "    # patients who died\n",
    "    deceased_subjects = cardiac_admissions[cardiac_admissions['deathtime'].notna()]['subject_id'].unique()\n",
    "\n",
    "    # patients who survived\n",
    "    survived_subjects = cardiac_admissions[cardiac_admissions['deathtime'].isna()]['subject_id'].unique()\n",
    "\n",
    "    # randomly sample from survived patients to match the number of deceased patients\n",
    "    n_deceased = len(deceased_subjects)\n",
    "    sampled_survived_subjects = np.random.choice(survived_subjects, size=n_deceased, replace=False)\n",
    "\n",
    "    # combine the two groups\n",
    "    balanced_sample_subjects = np.concatenate([deceased_subjects, sampled_survived_subjects])\n",
    "\n",
    "    print(f\"Total subjects in balanced sample: {len(balanced_sample_subjects)}\")\n",
    "    print(f\"Number of deceased subjects: {n_deceased}\")\n",
    "    print(f\"Number of sampled survived subjects: {len(sampled_survived_subjects)}\")\n",
    "\n",
    "    return balanced_sample_subjects\n",
    "\n",
    "def filter_dataframe(df, subject_ids, subject_id_column='subject_id'):\n",
    "    return df[df[subject_id_column].isin(subject_ids)]\n",
    "\n",
    "# balanced sample subject_ids\n",
    "balanced_sample_subjects = get_balanced_sample_subjects(cardiac_admissions)\n",
    "\n",
    "# filter all the datasets to only include the balanced sample\n",
    "cardiac_admissions_balanced = filter_dataframe(cardiac_admissions, balanced_sample_subjects)\n",
    "cardiac_procedures_balanced = filter_dataframe(cardiac_procedures, balanced_sample_subjects)\n",
    "cardiac_diagnosis_balanced = filter_dataframe(cardiac_diagnosis, balanced_sample_subjects)\n",
    "cardiac_prescriptions_balanced = filter_dataframe(cardiac_prescriptions, balanced_sample_subjects)\n",
    "cardiac_labs_balanced = filter_dataframe(cardiac_labs, balanced_sample_subjects)\n"
   ]
  },
  {
   "cell_type": "code",
   "execution_count": 95,
   "metadata": {},
   "outputs": [],
   "source": [
    "# Import necessary libraries\n",
    "import pandas as pd\n",
    "import numpy as np\n",
    "from sklearn.model_selection import train_test_split, cross_val_score, GridSearchCV\n",
    "from sklearn.preprocessing import StandardScaler, OneHotEncoder\n",
    "from sklearn.impute import SimpleImputer\n",
    "from sklearn.pipeline import Pipeline\n",
    "from sklearn.compose import ColumnTransformer\n",
    "from sklearn.ensemble import RandomForestClassifier\n",
    "from sklearn.metrics import accuracy_score, classification_report, roc_auc_score, average_precision_score\n",
    "from imblearn.over_sampling import SMOTE\n",
    "from imblearn.pipeline import Pipeline as ImbPipeline\n",
    "\n",
    "# Engineer the features to aggregate data at the patient level with the most important features\n",
    "def engineer_features(admissions, procedures, diagnosis, prescriptions, labs):\n",
    "    # Start with admissions data\n",
    "    features = admissions.copy()\n",
    "    \n",
    "    # Aggregate procedures\n",
    "    proc_agg = procedures.groupby(['subject_id', 'hadm_id']).agg({\n",
    "        'icd_code': 'nunique',\n",
    "        'seq_num': 'max'\n",
    "    }).rename(columns={\n",
    "        'icd_code': 'unique_procedures',\n",
    "        'seq_num': 'max_procedure_seq'\n",
    "    })\n",
    "    \n",
    "    # Aggregate diagnoses\n",
    "    diag_agg = diagnosis.groupby(['subject_id', 'hadm_id']).agg({\n",
    "        'icd_code': 'nunique',\n",
    "        'seq_num': 'max',\n",
    "        'drg_severity': 'max',\n",
    "        'drg_mortality': 'max'\n",
    "    }).rename(columns={\n",
    "        'icd_code': 'unique_diagnoses',\n",
    "        'seq_num': 'max_diagnosis_seq'\n",
    "    })\n",
    "    \n",
    "    # Aggregate prescriptions\n",
    "    pres_agg = prescriptions.groupby(['subject_id', 'hadm_id']).agg({\n",
    "        'drug': 'nunique',\n",
    "        'doses_per_24_hrs': 'mean'\n",
    "    }).rename(columns={\n",
    "        'drug': 'unique_medications',\n",
    "        'doses_per_24_hrs': 'avg_doses_per_day'\n",
    "    })\n",
    "    \n",
    "    # Aggregate labs\n",
    "    labs_agg = labs.groupby(['subject_id', 'hadm_id']).agg({\n",
    "        'itemid': 'nunique',\n",
    "        'flag': lambda x: (x == 'abnormal').mean()  \n",
    "    }).rename(columns={\n",
    "        'itemid': 'unique_lab_tests',\n",
    "        'flag': 'abnormal_lab_ratio'\n",
    "    })\n",
    "    \n",
    "    # Merge all features\n",
    "    features = features.merge(proc_agg, on=['subject_id', 'hadm_id'], how='left')\n",
    "    features = features.merge(diag_agg, on=['subject_id', 'hadm_id'], how='left')\n",
    "    features = features.merge(pres_agg, on=['subject_id', 'hadm_id'], how='left')\n",
    "    features = features.merge(labs_agg, on=['subject_id', 'hadm_id'], how='left')\n",
    "    \n",
    "    # Sort by admission time to ensure chronological order\n",
    "    features = features.sort_values(['subject_id', 'admittime'])\n",
    "    \n",
    "    # Create binary target variable \n",
    "    features['mortality'] = features.groupby('subject_id')['deathtime'].transform(lambda x: (~x.isna()).any()).astype(int)\n",
    "    \n",
    "    # Aggregate features at the patient level\n",
    "    patient_features = features.groupby('subject_id').agg({\n",
    "        'anchor_age': 'first',\n",
    "        'gender': 'first',\n",
    "        'marital_status': 'first',\n",
    "        'race': 'first',\n",
    "        'unique_procedures': 'mean',\n",
    "        'max_procedure_seq': 'max',\n",
    "        'unique_diagnoses': 'mean',\n",
    "        'max_diagnosis_seq': 'max',\n",
    "        'drg_severity': 'max',\n",
    "        'drg_mortality': 'max',\n",
    "        'unique_medications': 'mean',\n",
    "        'avg_doses_per_day': 'mean',\n",
    "        'unique_lab_tests': 'mean',\n",
    "        'abnormal_lab_ratio': 'mean',\n",
    "        'mortality': 'first' \n",
    "    })\n",
    "    \n",
    "    # Add number of admissions as a feature\n",
    "    patient_features['num_admissions'] = features.groupby('subject_id').size()\n",
    "    \n",
    "    return patient_features"
   ]
  },
  {
   "cell_type": "code",
   "execution_count": 99,
   "metadata": {},
   "outputs": [
    {
     "name": "stdout",
     "output_type": "stream",
     "text": [
      "Fitting 5 folds for each of 1 candidates, totalling 5 fits\n",
      "[CV] END classifier__max_depth=10, classifier__max_features=sqrt, classifier__min_samples_leaf=1, classifier__min_samples_split=5, classifier__n_estimators=200; total time=   0.2s\n",
      "[CV] END classifier__max_depth=10, classifier__max_features=sqrt, classifier__min_samples_leaf=1, classifier__min_samples_split=5, classifier__n_estimators=200; total time=   0.2s\n",
      "[CV] END classifier__max_depth=10, classifier__max_features=sqrt, classifier__min_samples_leaf=1, classifier__min_samples_split=5, classifier__n_estimators=200; total time=   0.3s\n",
      "[CV] END classifier__max_depth=10, classifier__max_features=sqrt, classifier__min_samples_leaf=1, classifier__min_samples_split=5, classifier__n_estimators=200; total time=   0.3s\n",
      "[CV] END classifier__max_depth=10, classifier__max_features=sqrt, classifier__min_samples_leaf=1, classifier__min_samples_split=5, classifier__n_estimators=200; total time=   0.3s\n",
      "Best parameters found:  {'classifier__max_depth': 10, 'classifier__max_features': 'sqrt', 'classifier__min_samples_leaf': 1, 'classifier__min_samples_split': 5, 'classifier__n_estimators': 200}\n",
      "\n",
      "Model Performance:\n",
      "Accuracy: 0.8297258297258298\n",
      "\n",
      "Classification Report:\n",
      "              precision    recall  f1-score   support\n",
      "\n",
      "           0       0.85      0.79      0.82       336\n",
      "           1       0.82      0.87      0.84       357\n",
      "\n",
      "    accuracy                           0.83       693\n",
      "   macro avg       0.83      0.83      0.83       693\n",
      "weighted avg       0.83      0.83      0.83       693\n",
      "\n",
      "\n",
      "Calculating ROC AUC and PR AUC...\n",
      "ROC AUC: 0.9007\n",
      "PR AUC: 0.8803\n",
      "An error occurred while calculating feature importance: 'onehot'\n",
      "\n",
      "Distribution of target variable:\n",
      "mortality\n",
      "1    0.503684\n",
      "0    0.496316\n",
      "Name: proportion, dtype: float64\n",
      "\n",
      "Implementing cross-validation with the best model...\n",
      "Cross-validation scores: [0.90906535 0.89720187 0.91618356 0.93487427 0.93749059]\n",
      "Mean CV score: 0.9190 (+/- 0.0307)\n"
     ]
    }
   ],
   "source": [
    "# Prepare the data\n",
    "# patient_features = engineer_features(cardiac_admissions, cardiac_procedures, cardiac_diagnosis, cardiac_prescriptions, cardiac_labs)\n",
    "patient_features = engineer_features(cardiac_admissions_balanced, \n",
    "                                     cardiac_procedures_balanced, \n",
    "                                     cardiac_diagnosis_balanced, \n",
    "                                     cardiac_prescriptions_balanced, \n",
    "                                     cardiac_labs_balanced)\n",
    "\n",
    "# Define features and target\n",
    "exclude_columns = ['mortality']\n",
    "X = patient_features.drop(exclude_columns, axis=1)\n",
    "y = patient_features['mortality']\n",
    "\n",
    "# Split the data\n",
    "X_train, X_test, y_train, y_test = train_test_split(X, y, test_size=0.3, random_state=42)\n",
    "\n",
    "# Define feature types\n",
    "numeric_features = X.select_dtypes(include=['int64', 'float64']).columns.tolist()\n",
    "categorical_features = X.select_dtypes(include=['object']).columns.tolist()\n",
    "\n",
    "# Create preprocessing pipeline\n",
    "numeric_transformer = Pipeline(steps=[\n",
    "    ('imputer', SimpleImputer(strategy='median')),\n",
    "    ('scaler', StandardScaler())\n",
    "])\n",
    "\n",
    "categorical_transformer = Pipeline(steps=[\n",
    "    ('imputer', SimpleImputer(strategy='constant', fill_value='missing')),\n",
    "    ('onehot', OneHotEncoder(handle_unknown='ignore'))\n",
    "])\n",
    "\n",
    "preprocessor = ColumnTransformer(\n",
    "    transformers=[\n",
    "        ('num', numeric_transformer, numeric_features),\n",
    "        ('cat', categorical_transformer, categorical_features)\n",
    "    ])\n",
    "\n",
    "\n",
    "pipeline = ImbPipeline([\n",
    "    ('preprocessor', preprocessor),\n",
    "    ('smote', SMOTE(random_state=42)),\n",
    "    ('classifier', RandomForestClassifier(random_state=42))\n",
    "])\n",
    "\n",
    "# Define parameter grid\n",
    "param_grid =  {'classifier__max_depth': [10], 'classifier__max_features': ['sqrt'], 'classifier__min_samples_leaf': [1], 'classifier__min_samples_split': [5], 'classifier__n_estimators': [200]}\n",
    "\n",
    "# param_grid = {\n",
    "#     'classifier__max_depth': [None, 10, 20, 30],\n",
    "#     'classifier__max_features': ['sqrt', 'log2', None],\n",
    "#     'classifier__min_samples_leaf': [1, 2, 4],\n",
    "#     'classifier__min_samples_split': [2, 5, 10],\n",
    "#     'classifier__n_estimators': [100, 200, 300]\n",
    "# }\n",
    "# Create the grid search object\n",
    "grid_search = GridSearchCV(pipeline, param_grid, cv=5, n_jobs=-1, verbose=2, scoring='roc_auc')\n",
    "\n",
    "grid_search.fit(X_train, y_train)\n",
    "\n",
    "# Print the best parameters\n",
    "print(\"Best parameters found: \", grid_search.best_params_)\n",
    "\n",
    "# Use the best model found by grid search\n",
    "best_model = grid_search.best_estimator_\n",
    "\n",
    "y_pred = best_model.predict(X_test)\n",
    "y_pred_proba = best_model.predict_proba(X_test)[:, 1]\n",
    "\n",
    "print(\"\\nModel Performance:\")\n",
    "print(\"Accuracy:\", accuracy_score(y_test, y_pred))\n",
    "print(\"\\nClassification Report:\")\n",
    "print(classification_report(y_test, y_pred))\n",
    "\n",
    "print(\"\\nCalculating ROC AUC and PR AUC...\")\n",
    "roc_auc = roc_auc_score(y_test, y_pred_proba)\n",
    "pr_auc = average_precision_score(y_test, y_pred_proba)\n",
    "print(f\"ROC AUC: {roc_auc:.4f}\")\n",
    "print(f\"PR AUC: {pr_auc:.4f}\")\n",
    "\n",
    "# Feature importance\n",
    "def get_feature_names(column_transformer):\n",
    "    feature_names = []\n",
    "    for name, pipe, features in column_transformer.transformers_:\n",
    "        if name != 'remainder':\n",
    "            if hasattr(pipe.named_steps['onehot'], 'get_feature_names_out'):\n",
    "                if isinstance(features, slice):\n",
    "                    features = list(column_transformer.feature_names_in_[features])\n",
    "                cat_features = pipe.named_steps['onehot'].get_feature_names_out(features)\n",
    "                feature_names.extend(cat_features)\n",
    "            else:\n",
    "                feature_names.extend(features)\n",
    "    return feature_names\n",
    "\n",
    "try:\n",
    "    feature_names = get_feature_names(best_model.named_steps['preprocessor'])\n",
    "    importance = best_model.named_steps['classifier'].feature_importances_\n",
    "    feature_importance = pd.DataFrame({'feature': feature_names, 'importance': importance})\n",
    "    feature_importance = feature_importance.sort_values('importance', ascending=False)\n",
    "    print(\"\\nTop 10 Most Important Features:\")\n",
    "    print(feature_importance.head(10))\n",
    "except Exception as e:\n",
    "    print(f\"An error occurred while calculating feature importance: {str(e)}\")\n",
    "\n",
    "print(\"\\nDistribution of target variable:\")\n",
    "print(y.value_counts(normalize=True))\n",
    "\n",
    "# Implement cross-validation with the best model\n",
    "print(\"\\nImplementing cross-validation with the best model...\")\n",
    "cv_scores = cross_val_score(best_model, X, y, cv=5, scoring='roc_auc')\n",
    "print(f\"Cross-validation scores: {cv_scores}\")\n",
    "print(f\"Mean CV score: {cv_scores.mean():.4f} (+/- {cv_scores.std() * 2:.4f})\")"
   ]
  },
  {
   "cell_type": "code",
   "execution_count": 111,
   "metadata": {},
   "outputs": [
    {
     "data": {
      "image/png": "[encoded data removed]",
      "text/plain": [
       "<Figure size 1000x600 with 1 Axes>"
      ]
     },
     "metadata": {},
     "output_type": "display_data"
    }
   ],
   "source": [
    "from lifelines import KaplanMeierFitter\n",
    "cardiac_admissions['admittime'] = pd.to_datetime(cardiac_admissions['admittime'])\n",
    "cardiac_admissions['deathtime'] = pd.to_datetime(cardiac_admissions['deathtime'])\n",
    "cardiac_admissions['dischtime'] = pd.to_datetime(cardiac_admissions['dischtime'])\n",
    "cardiac_admissions['time_to_death'] = (cardiac_admissions['deathtime'] - cardiac_admissions['admittime']).dt.total_seconds() / (60 * 60 * 24)\n",
    "# Replace NaN values \n",
    "cardiac_admissions['time_to_death'].fillna((cardiac_admissions['dischtime'] - cardiac_admissions['admittime']).dt.total_seconds() / (60 * 60 * 24), inplace=True)\n",
    "\n",
    "cardiac_admissions['time_to_death'] = cardiac_admissions['time_to_death'].astype(float)\n",
    "\n",
    "\n",
    "# Create a Kaplan-Meier fitter \n",
    "kmf = KaplanMeierFitter()\n",
    "\n",
    "# Fit the data into the model\n",
    "T = cardiac_admissions['time_to_death'].fillna(cardiac_admissions['dischtime'])  # Use discharge_time for patients who survived\n",
    "E = ~cardiac_admissions['deathtime'].isna()  \n",
    "\n",
    "kmf.fit(T, event_observed=E)\n",
    "\n",
    "\n",
    "plt.figure(figsize=(10, 6))\n",
    "kmf.plot_survival_function()\n",
    "plt.title('Kaplan Meier Survival Curve')\n",
    "plt.xlabel('Time (days)')\n",
    "plt.ylabel('Survival Probability')\n",
    "plt.show()\n"
   ]
  },
  {
   "cell_type": "code",
   "execution_count": 112,
   "metadata": {},
   "outputs": [
    {
     "data": {
      "image/png": "[encoded data removed]",
      "text/plain": [
       "<Figure size 1200x800 with 1 Axes>"
      ]
     },
     "metadata": {},
     "output_type": "display_data"
    },
    {
     "name": "stdout",
     "output_type": "stream",
     "text": [
      "Log-rank test results:\n",
      "61-80 vs 41-60: p-value = 0.0000\n",
      "61-80 vs 81+: p-value = 0.0000\n",
      "61-80 vs 0-40: p-value = 0.0024\n",
      "41-60 vs 81+: p-value = 0.0000\n",
      "41-60 vs 0-40: p-value = 0.9158\n",
      "81+ vs 0-40: p-value = 0.0000\n",
      "F vs M: p-value = 0.0714\n",
      "M vs M: p-value = 1.0000\n"
     ]
    }
   ],
   "source": [
    "cardiac_admissions['survival_time'] = (pd.to_datetime(cardiac_admissions['dischtime']) - pd.to_datetime(cardiac_admissions['admittime'])).dt.total_seconds() / (24 * 60 * 60)\n",
    "\n",
    "# Create age groups\n",
    "cardiac_admissions['age_group'] = pd.cut(cardiac_admissions['anchor_age'], bins=[0, 40, 60, 80, 100], labels=['0-40', '41-60', '61-80', '81+'])\n",
    "\n",
    "# Create event indicator (1 for death, 0 for censored)\n",
    "cardiac_admissions['event'] = (~cardiac_admissions['deathtime'].isna()).astype(int)\n",
    "\n",
    "\n",
    "plt.figure(figsize=(12, 8))\n",
    "\n",
    "\n",
    "colors = ['#1f77b4', '#ff7f0e', '#2ca02c', '#d62728']\n",
    "\n",
    "# Plot survival curves for each age group and gender\n",
    "for i, age_group in enumerate(cardiac_admissions['age_group'].unique()):\n",
    "    for gender in cardiac_admissions['gender'].unique():\n",
    "        mask = (cardiac_admissions['age_group'] == age_group) & (cardiac_admissions['gender'] == gender)\n",
    "        kmf = KaplanMeierFitter()\n",
    "        kmf.fit(cardiac_admissions.loc[mask, 'survival_time'], \n",
    "                cardiac_admissions.loc[mask, 'event'], \n",
    "                label=f'{age_group}, {gender}')\n",
    "        kmf.plot(ax=plt.gca(), ci_show=False, color=colors[i], linestyle='-' if gender == 'M' else '--')\n",
    "\n",
    "plt.title('Survival Curves by Age Group and Gender')\n",
    "plt.xlabel('Time (days)')\n",
    "plt.ylabel('Survival probability')\n",
    "plt.legend(loc='lower left', bbox_to_anchor=(1, 0.5))\n",
    "plt.tight_layout()\n",
    "plt.show()\n",
    "\n",
    "\n",
    "from lifelines.statistics import logrank_test\n",
    "\n",
    "print(\"Log-rank test results:\")\n",
    "for i, group1 in enumerate(cardiac_admissions['age_group'].unique()):\n",
    "    for group2 in cardiac_admissions['age_group'].unique()[i+1:]:\n",
    "        mask1 = cardiac_admissions['age_group'] == group1\n",
    "        mask2 = cardiac_admissions['age_group'] == group2\n",
    "        result = logrank_test(cardiac_admissions.loc[mask1, 'survival_time'], \n",
    "                              cardiac_admissions.loc[mask2, 'survival_time'],\n",
    "                              cardiac_admissions.loc[mask1, 'event'],\n",
    "                              cardiac_admissions.loc[mask2, 'event'])\n",
    "        print(f\"{group1} vs {group2}: p-value = {result.p_value:.4f}\")\n",
    "\n",
    "for gender1 in cardiac_admissions['gender'].unique():\n",
    "    for gender2 in cardiac_admissions['gender'].unique()[1:]:\n",
    "        mask1 = cardiac_admissions['gender'] == gender1\n",
    "        mask2 = cardiac_admissions['gender'] == gender2\n",
    "        result = logrank_test(cardiac_admissions.loc[mask1, 'survival_time'], \n",
    "                              cardiac_admissions.loc[mask2, 'survival_time'],\n",
    "                              cardiac_admissions.loc[mask1, 'event'],\n",
    "                              cardiac_admissions.loc[mask2, 'event'])\n",
    "        print(f\"{gender1} vs {gender2}: p-value = {result.p_value:.4f}\")"
   ]
  },
  {
   "cell_type": "code",
   "execution_count": 115,
   "metadata": {},
   "outputs": [
    {
     "data": {
      "text/html": [
       "<div>\n",
       "<style scoped>\n",
       "    .dataframe tbody tr th:only-of-type {\n",
       "        vertical-align: middle;\n",
       "    }\n",
       "\n",
       "    .dataframe tbody tr th {\n",
       "        vertical-align: top;\n",
       "    }\n",
       "\n",
       "    .dataframe thead th {\n",
       "        text-align: right;\n",
       "    }\n",
       "</style>\n",
       "<table border=\"1\" class=\"dataframe\">\n",
       "  <thead>\n",
       "    <tr style=\"text-align: right;\">\n",
       "      <th></th>\n",
       "      <th>subject_id</th>\n",
       "      <th>hadm_id</th>\n",
       "      <th>admittime</th>\n",
       "      <th>dischtime</th>\n",
       "      <th>deathtime</th>\n",
       "      <th>admission_type</th>\n",
       "      <th>admit_provider_id</th>\n",
       "      <th>admission_location</th>\n",
       "      <th>discharge_location</th>\n",
       "      <th>insurance</th>\n",
       "      <th>...</th>\n",
       "      <th>time</th>\n",
       "      <th>seq_num</th>\n",
       "      <th>icd_code</th>\n",
       "      <th>icd_version</th>\n",
       "      <th>long_title</th>\n",
       "      <th>drg_type</th>\n",
       "      <th>drg_code</th>\n",
       "      <th>description</th>\n",
       "      <th>drg_severity</th>\n",
       "      <th>drg_mortality</th>\n",
       "    </tr>\n",
       "  </thead>\n",
       "  <tbody>\n",
       "    <tr>\n",
       "      <th>0</th>\n",
       "      <td>10000635</td>\n",
       "      <td>26134563</td>\n",
       "      <td>2136-06-19 14:24:00</td>\n",
       "      <td>2136-06-20 11:30:00</td>\n",
       "      <td>NaT</td>\n",
       "      <td>AMBULATORY OBSERVATION</td>\n",
       "      <td>P611A0</td>\n",
       "      <td>PROCEDURE SITE</td>\n",
       "      <td>NaN</td>\n",
       "      <td>Other</td>\n",
       "      <td>...</td>\n",
       "      <td>0.879167</td>\n",
       "      <td>1.0</td>\n",
       "      <td>42789</td>\n",
       "      <td>9.0</td>\n",
       "      <td>Other specified cardiac dysrhythmias</td>\n",
       "      <td>NaN</td>\n",
       "      <td>NaN</td>\n",
       "      <td>NaN</td>\n",
       "      <td>NaN</td>\n",
       "      <td>NaN</td>\n",
       "    </tr>\n",
       "    <tr>\n",
       "      <th>1</th>\n",
       "      <td>10000635</td>\n",
       "      <td>26134563</td>\n",
       "      <td>2136-06-19 14:24:00</td>\n",
       "      <td>2136-06-20 11:30:00</td>\n",
       "      <td>NaT</td>\n",
       "      <td>AMBULATORY OBSERVATION</td>\n",
       "      <td>P611A0</td>\n",
       "      <td>PROCEDURE SITE</td>\n",
       "      <td>NaN</td>\n",
       "      <td>Other</td>\n",
       "      <td>...</td>\n",
       "      <td>0.879167</td>\n",
       "      <td>2.0</td>\n",
       "      <td>25000</td>\n",
       "      <td>9.0</td>\n",
       "      <td>Diabetes mellitus without mention of complicat...</td>\n",
       "      <td>NaN</td>\n",
       "      <td>NaN</td>\n",
       "      <td>NaN</td>\n",
       "      <td>NaN</td>\n",
       "      <td>NaN</td>\n",
       "    </tr>\n",
       "    <tr>\n",
       "      <th>2</th>\n",
       "      <td>10000635</td>\n",
       "      <td>26134563</td>\n",
       "      <td>2136-06-19 14:24:00</td>\n",
       "      <td>2136-06-20 11:30:00</td>\n",
       "      <td>NaT</td>\n",
       "      <td>AMBULATORY OBSERVATION</td>\n",
       "      <td>P611A0</td>\n",
       "      <td>PROCEDURE SITE</td>\n",
       "      <td>NaN</td>\n",
       "      <td>Other</td>\n",
       "      <td>...</td>\n",
       "      <td>0.879167</td>\n",
       "      <td>3.0</td>\n",
       "      <td>4019</td>\n",
       "      <td>9.0</td>\n",
       "      <td>Unspecified essential hypertension</td>\n",
       "      <td>NaN</td>\n",
       "      <td>NaN</td>\n",
       "      <td>NaN</td>\n",
       "      <td>NaN</td>\n",
       "      <td>NaN</td>\n",
       "    </tr>\n",
       "    <tr>\n",
       "      <th>3</th>\n",
       "      <td>10000980</td>\n",
       "      <td>24947999</td>\n",
       "      <td>2190-11-06 20:57:00</td>\n",
       "      <td>2190-11-08 15:58:00</td>\n",
       "      <td>NaT</td>\n",
       "      <td>EW EMER.</td>\n",
       "      <td>P434W4</td>\n",
       "      <td>EMERGENCY ROOM</td>\n",
       "      <td>HOME HEALTH CARE</td>\n",
       "      <td>Medicare</td>\n",
       "      <td>...</td>\n",
       "      <td>1.792361</td>\n",
       "      <td>1.0</td>\n",
       "      <td>42823</td>\n",
       "      <td>9.0</td>\n",
       "      <td>Acute on chronic systolic heart failure</td>\n",
       "      <td>APR</td>\n",
       "      <td>194.0</td>\n",
       "      <td>HEART FAILURE</td>\n",
       "      <td>2.0</td>\n",
       "      <td>3.0</td>\n",
       "    </tr>\n",
       "    <tr>\n",
       "      <th>4</th>\n",
       "      <td>10000980</td>\n",
       "      <td>24947999</td>\n",
       "      <td>2190-11-06 20:57:00</td>\n",
       "      <td>2190-11-08 15:58:00</td>\n",
       "      <td>NaT</td>\n",
       "      <td>EW EMER.</td>\n",
       "      <td>P434W4</td>\n",
       "      <td>EMERGENCY ROOM</td>\n",
       "      <td>HOME HEALTH CARE</td>\n",
       "      <td>Medicare</td>\n",
       "      <td>...</td>\n",
       "      <td>1.792361</td>\n",
       "      <td>1.0</td>\n",
       "      <td>42823</td>\n",
       "      <td>9.0</td>\n",
       "      <td>Acute on chronic systolic heart failure</td>\n",
       "      <td>HCFA</td>\n",
       "      <td>292.0</td>\n",
       "      <td>HEART FAILURE &amp; SHOCK W CC</td>\n",
       "      <td>NaN</td>\n",
       "      <td>NaN</td>\n",
       "    </tr>\n",
       "  </tbody>\n",
       "</table>\n",
       "<p>5 rows × 33 columns</p>\n",
       "</div>"
      ],
      "text/plain": [
       "   subject_id   hadm_id           admittime           dischtime deathtime  \\\n",
       "0    10000635  26134563 2136-06-19 14:24:00 2136-06-20 11:30:00       NaT   \n",
       "1    10000635  26134563 2136-06-19 14:24:00 2136-06-20 11:30:00       NaT   \n",
       "2    10000635  26134563 2136-06-19 14:24:00 2136-06-20 11:30:00       NaT   \n",
       "3    10000980  24947999 2190-11-06 20:57:00 2190-11-08 15:58:00       NaT   \n",
       "4    10000980  24947999 2190-11-06 20:57:00 2190-11-08 15:58:00       NaT   \n",
       "\n",
       "           admission_type admit_provider_id admission_location  \\\n",
       "0  AMBULATORY OBSERVATION            P611A0     PROCEDURE SITE   \n",
       "1  AMBULATORY OBSERVATION            P611A0     PROCEDURE SITE   \n",
       "2  AMBULATORY OBSERVATION            P611A0     PROCEDURE SITE   \n",
       "3                EW EMER.            P434W4     EMERGENCY ROOM   \n",
       "4                EW EMER.            P434W4     EMERGENCY ROOM   \n",
       "\n",
       "  discharge_location insurance  ...      time seq_num icd_code icd_version  \\\n",
       "0                NaN     Other  ...  0.879167     1.0    42789         9.0   \n",
       "1                NaN     Other  ...  0.879167     2.0    25000         9.0   \n",
       "2                NaN     Other  ...  0.879167     3.0     4019         9.0   \n",
       "3   HOME HEALTH CARE  Medicare  ...  1.792361     1.0    42823         9.0   \n",
       "4   HOME HEALTH CARE  Medicare  ...  1.792361     1.0    42823         9.0   \n",
       "\n",
       "                                          long_title  drg_type  drg_code  \\\n",
       "0               Other specified cardiac dysrhythmias       NaN       NaN   \n",
       "1  Diabetes mellitus without mention of complicat...       NaN       NaN   \n",
       "2                 Unspecified essential hypertension       NaN       NaN   \n",
       "3            Acute on chronic systolic heart failure       APR     194.0   \n",
       "4            Acute on chronic systolic heart failure      HCFA     292.0   \n",
       "\n",
       "                  description  drg_severity  drg_mortality  \n",
       "0                         NaN           NaN            NaN  \n",
       "1                         NaN           NaN            NaN  \n",
       "2                         NaN           NaN            NaN  \n",
       "3               HEART FAILURE           2.0            3.0  \n",
       "4  HEART FAILURE & SHOCK W CC           NaN            NaN  \n",
       "\n",
       "[5 rows x 33 columns]"
      ]
     },
     "execution_count": 115,
     "metadata": {},
     "output_type": "execute_result"
    }
   ],
   "source": [
    "admissions_diagnosis = pd.merge(cardiac_admissions, cardiac_diagnosis, on=['subject_id', 'hadm_id'], how='inner')\n",
    "admissions_diagnosis.head()"
   ]
  },
  {
   "cell_type": "code",
   "execution_count": 120,
   "metadata": {},
   "outputs": [
    {
     "data": {
      "image/png": "[encoded data removed]",
      "text/plain": [
       "<Figure size 1200x800 with 2 Axes>"
      ]
     },
     "metadata": {},
     "output_type": "display_data"
    }
   ],
   "source": [
    "numeric_data = admissions_diagnosis.select_dtypes(include=['int64', 'float64'])\n",
    "\n",
    "# Calculate the correlation matrix\n",
    "correlation_matrix = numeric_data.corr()\n",
    "\n",
    "plt.figure(figsize=(12, 8))\n",
    "sns.heatmap(correlation_matrix, annot=True, cmap='coolwarm', linewidths=0.5)\n",
    "plt.title('Correlation Heatmap of Admissions and Diagnosis Data')\n",
    "plt.show()"
   ]
  }
 ],
 "metadata": {
  "kernelspec": {
   "display_name": "env_tensor_image",
   "language": "python",
   "name": "python3"
  },
  "language_info": {
   "codemirror_mode": {
    "name": "ipython",
    "version": 3
   },
   "file_extension": ".py",
   "mimetype": "text/x-python",
   "name": "python",
   "nbconvert_exporter": "python",
   "pygments_lexer": "ipython3",
   "version": "3.11.9"
  }
 },
 "nbformat": 4,
 "nbformat_minor": 2
}
